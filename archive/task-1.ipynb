{
 "cells": [
  {
   "cell_type": "code",
   "metadata": {
    "_cell_guid": "b1076dfc-b9ad-4769-8c92-a6c4dae69d19",
    "_uuid": "8f2839f25d086af736a60e9eeb907d3b93b6e0e5",
    "execution": {
     "iopub.execute_input": "2021-10-26T05:59:01.145552Z",
     "iopub.status.busy": "2021-10-26T05:59:01.144813Z",
     "iopub.status.idle": "2021-10-26T05:59:03.838105Z",
     "shell.execute_reply": "2021-10-26T05:59:03.83722Z",
     "shell.execute_reply.started": "2021-10-26T05:59:01.145513Z"
    },
    "trusted": true,
    "cell_id": "00000-8a7fb863-6832-450e-964a-2d82a016b849",
    "deepnote_cell_type": "code"
   },
   "source": "# This Python 3 environment comes with many helpful analytics libraries installed\n# It is defined by the kaggle/python Docker image: https://github.com/kaggle/docker-python\n# For example, here's several helpful packages to load\n\nimport numpy as np # linear algebra\nimport pandas as pd # data processing, CSV file I/O (e.g. pd.read_csv)\nimport numpy as np # linear algebra\nimport pandas as pd # data processing, CSV file I/O (e.g. pd.read_csv)\n\n#Plotly Libraris\nimport plotly.express as px\nimport plotly.graph_objects as go\n#import plotly.figure_factory as ff\n#from plotly.colors import n_colors\n\nfrom plotly.subplots import make_subplots\n# Minmax scaler\nfrom sklearn.preprocessing import MinMaxScaler\n\n#itertools\nimport itertools\n\n#dataframe display settings\npd.set_option('display.max_columns', 5000000)\npd.set_option('display.max_rows', 50000000)\n\n#to suppress un-necessary warnings\nimport warnings  \nwarnings.filterwarnings('ignore')\n\n\nimport xgboost as xgb\n\n#Importing SKlearn models\nfrom sklearn.ensemble import RandomForestClassifier\nfrom sklearn.linear_model import LogisticRegression\nfrom sklearn.linear_model import Perceptron\nfrom sklearn.tree import DecisionTreeClassifier\nfrom sklearn.neighbors import KNeighborsClassifier\nfrom sklearn.naive_bayes import GaussianNB\nfrom sklearn.svm import SVC, LinearSVC\nfrom sklearn.model_selection import cross_val_score\nfrom sklearn.metrics import precision_score, recall_score, accuracy_score, r2_score\nfrom sklearn.model_selection import RandomizedSearchCV, train_test_split\nfrom sklearn.linear_model import LinearRegression  \nfrom sklearn.preprocessing import PolynomialFeatures\nfrom sklearn import linear_model\n\n#Package to flatten python lists\nfrom pandas.core.common import flatten\n\n# Input data files are available in the read-only \"../input/\" directory\n# For example, running this (by clicking run or pressing Shift+Enter) will list all files under the input directory\n\nimport os\nfor dirname, _, filenames in os.walk('/kaggle/input'):\n    for filename in filenames:\n        print(os.path.join(dirname, filename))\n\n# You can write up to 20GB to the current directory (/kaggle/working/) that gets preserved as output when you create a version using \"Save & Run All\" \n# You can also write temporary files to /kaggle/temp/, but they won't be saved outside of the current session",
   "execution_count": null,
   "outputs": []
  },
  {
   "cell_type": "markdown",
   "source": "# Importing Data\n\n* All datasets are sourced from [COVID-19 Data Repository by the Center for Systems Science and Engineering (CSSE) at Johns Hopkins University](https://github.com/CSSEGISandData/COVID-19) which is updated daily by them.\n* Click [here](https://coronavirus.jhu.edu/map.html) to visit dashboard created by the Center for Systems Science and Engineering (CSSE) at Johns Hopkins University.",
   "metadata": {
    "cell_id": "00001-7ee6a8c8-11b9-456a-9e53-ad1d92b86d88",
    "deepnote_cell_type": "markdown"
   }
  },
  {
   "cell_type": "code",
   "metadata": {
    "_kg_hide-input": true,
    "execution": {
     "iopub.execute_input": "2021-10-26T03:36:10.802229Z",
     "iopub.status.busy": "2021-10-26T03:36:10.801756Z",
     "iopub.status.idle": "2021-10-26T03:36:13.484843Z",
     "shell.execute_reply": "2021-10-26T03:36:13.483983Z",
     "shell.execute_reply.started": "2021-10-26T03:36:10.802192Z"
    },
    "trusted": true,
    "cell_id": "00002-5b54ad6d-73fd-41c7-984c-14830324652c",
    "deepnote_cell_type": "code"
   },
   "source": "confirmed_df = pd.read_csv('https://raw.githubusercontent.com/CSSEGISandData/COVID-19/master/csse_covid_19_data/csse_covid_19_time_series/time_series_covid19_confirmed_global.csv')\ndeaths_df = pd.read_csv('https://raw.githubusercontent.com/CSSEGISandData/COVID-19/master/csse_covid_19_data/csse_covid_19_time_series/time_series_covid19_deaths_global.csv')\nrecoveries_df = pd.read_csv('https://raw.githubusercontent.com/CSSEGISandData/COVID-19/master/csse_covid_19_data/csse_covid_19_time_series/time_series_covid19_recovered_global.csv')\nlatest_data = pd.read_csv('https://raw.githubusercontent.com/CSSEGISandData/COVID-19/master/csse_covid_19_data/csse_covid_19_daily_reports/08-22-2020.csv')\nus_medical_data = pd.read_csv('https://raw.githubusercontent.com/CSSEGISandData/COVID-19/master/csse_covid_19_data/csse_covid_19_daily_reports_us/08-22-2020.csv')",
   "execution_count": null,
   "outputs": []
  },
  {
   "cell_type": "markdown",
   "source": "# Preprocessing",
   "metadata": {
    "cell_id": "00003-0361eee8-924b-41e3-9246-c2ab1cc21ece",
    "deepnote_cell_type": "markdown"
   }
  },
  {
   "cell_type": "code",
   "metadata": {
    "execution": {
     "iopub.execute_input": "2021-10-26T03:40:55.374111Z",
     "iopub.status.busy": "2021-10-26T03:40:55.373043Z",
     "iopub.status.idle": "2021-10-26T03:41:26.80039Z",
     "shell.execute_reply": "2021-10-26T03:41:26.799544Z",
     "shell.execute_reply.started": "2021-10-26T03:40:55.374011Z"
    },
    "trusted": true,
    "cell_id": "00004-00c52f68-f516-43d3-97f9-3eca03acf01c",
    "deepnote_cell_type": "code"
   },
   "source": "confirmed_group_df = confirmed_df.groupby(by='Country/Region',as_index=False).sum()\ndeaths_group_df = deaths_df.groupby(by='Country/Region',as_index=False).sum()\nrecoveries_group_df = recoveries_df.groupby(by='Country/Region',as_index=False).sum()\n\nactive_group_df = pd.DataFrame(columns=[confirmed_group_df.columns])\nactive_group_df = deaths_group_df.copy()\nfor i in range(confirmed_group_df.shape[0]):\n    for j in range(3, confirmed_group_df.shape[1]):\n        active_group_df.iloc[i,j] = confirmed_group_df.iloc[i,j]-(recoveries_group_df.iloc[i,j]+deaths_group_df.iloc[i,j])",
   "execution_count": null,
   "outputs": []
  },
  {
   "cell_type": "code",
   "metadata": {
    "execution": {
     "iopub.execute_input": "2021-10-26T03:44:02.69392Z",
     "iopub.status.busy": "2021-10-26T03:44:02.693518Z",
     "iopub.status.idle": "2021-10-26T03:44:02.698913Z",
     "shell.execute_reply": "2021-10-26T03:44:02.698257Z",
     "shell.execute_reply.started": "2021-10-26T03:44:02.693891Z"
    },
    "trusted": true,
    "cell_id": "00005-6cb6e2e5-ade2-4f56-92fe-9cab68fb4bbf",
    "deepnote_cell_type": "code"
   },
   "source": "deaths_group_df_sorted_df_30 = deaths_group_df.sort_values(by=deaths_group_df.columns[-2], ascending=False).iloc[0:30]\ndel deaths_group_df_sorted_df_30['Lat']\ndel deaths_group_df_sorted_df_30['Long']\ndel confirmed_group_df['Lat']\ndel confirmed_group_df['Long']\n",
   "execution_count": null,
   "outputs": []
  },
  {
   "cell_type": "code",
   "metadata": {
    "execution": {
     "iopub.execute_input": "2021-10-26T03:54:26.098804Z",
     "iopub.status.busy": "2021-10-26T03:54:26.098488Z",
     "iopub.status.idle": "2021-10-26T03:54:26.106351Z",
     "shell.execute_reply": "2021-10-26T03:54:26.105515Z",
     "shell.execute_reply.started": "2021-10-26T03:54:26.098775Z"
    },
    "trusted": true,
    "cell_id": "00006-0779f999-f0ea-4c0a-a5f6-4ac291d103be",
    "deepnote_cell_type": "code"
   },
   "source": "countries = list(deaths_group_df_sorted_df_30['Country/Region'])\n\n# filtering out to only the top 30 countries with death\nsorted_confirmed_df = confirmed_group_df.loc[confirmed_group_df['Country/Region'].isin(countries)]\n\nnew_df = pd.DataFrame(columns=['Country','Continent','Date','Deaths on Date','Confirmed Cases on date','Proportion of Males','Cumulative complete Vaccination to date','Average Age'])\nn_df_columns = deaths_group_df_sorted_df_30.columns",
   "execution_count": null,
   "outputs": []
  },
  {
   "cell_type": "code",
   "metadata": {
    "execution": {
     "iopub.execute_input": "2021-10-26T04:31:45.465694Z",
     "iopub.status.busy": "2021-10-26T04:31:45.464827Z",
     "iopub.status.idle": "2021-10-26T04:48:05.605723Z",
     "shell.execute_reply": "2021-10-26T04:48:05.604827Z",
     "shell.execute_reply.started": "2021-10-26T04:31:45.465642Z"
    },
    "trusted": true,
    "cell_id": "00007-f937725f-b78c-4a5e-a318-82c911c215dd",
    "deepnote_cell_type": "code"
   },
   "source": "for dates_i in range(1,deaths_group_df_sorted_df_30.shape[1]):\n    for country_i in range(deaths_group_df_sorted_df_30.shape[0]):\n        new_row = {'Date':n_df_columns[dates_i], 'Country' : deaths_group_df_sorted_df_30.iloc[country_i,0], 'Deaths on Date' : deaths_group_df_sorted_df_30.iloc[country_i,dates_i]\n                  ,'Confirmed Cases on date' : sorted_confirmed_df.iloc[country_i,dates_i] }\n        new_df = new_df.append(new_row,ignore_index=True)",
   "execution_count": null,
   "outputs": []
  },
  {
   "cell_type": "code",
   "metadata": {
    "execution": {
     "iopub.execute_input": "2021-10-26T06:03:05.100593Z",
     "iopub.status.busy": "2021-10-26T06:03:05.100087Z",
     "iopub.status.idle": "2021-10-26T06:03:05.138352Z",
     "shell.execute_reply": "2021-10-26T06:03:05.137418Z",
     "shell.execute_reply.started": "2021-10-26T06:03:05.100551Z"
    },
    "trusted": true,
    "cell_id": "00008-2824b6b7-f860-4326-9a01-a8f0bc63bcf9",
    "deepnote_cell_type": "code"
   },
   "source": "new_df = pd.read_csv('../input/task1countriesd1/draft1_task1.csv')\ndel new_df['Unnamed: 0']",
   "execution_count": null,
   "outputs": []
  },
  {
   "cell_type": "markdown",
   "source": "### Preprocessing Continents",
   "metadata": {
    "cell_id": "00009-e2723d85-3285-4184-aaaf-b3970e648c5a",
    "deepnote_cell_type": "markdown"
   }
  },
  {
   "cell_type": "code",
   "metadata": {
    "execution": {
     "iopub.execute_input": "2021-10-26T06:03:21.202574Z",
     "iopub.status.busy": "2021-10-26T06:03:21.2018Z",
     "iopub.status.idle": "2021-10-26T06:03:21.214623Z",
     "shell.execute_reply": "2021-10-26T06:03:21.213866Z",
     "shell.execute_reply.started": "2021-10-26T06:03:21.202538Z"
    },
    "trusted": true,
    "cell_id": "00010-ee8329ff-7613-4d79-80b6-dbdca254a6df",
    "deepnote_cell_type": "code"
   },
   "source": "cc_map = {'US': 'North America',\n 'Brazil': 'South America',\n 'India': 'Asia',\n 'Mexico': 'North America',\n 'Russia': 'Europe',\n 'Peru': 'South America',\n 'Indonesia': 'Asia',\n 'United Kingdom': 'Europe',\n 'Italy': 'Europe',\n 'Colombia': 'South America',\n 'Iran': 'Asia',\n 'France': 'Europe',\n 'Argentina': 'South America',\n 'Germany': 'Europe',\n 'South Africa': 'Africa',\n 'Spain': 'Europe',\n 'Poland': 'Europe',\n 'Turkey': 'Asia',\n 'Ukraine': 'Europe',\n 'Romania': 'Europe',\n 'Philippines': 'Asia',\n 'Chile': 'South America',\n 'Ecuador': 'South America',\n 'Czechia': 'Europe',\n 'Hungary': 'Europe',\n 'Canada': 'North America',\n 'Pakistan': 'Asia',\n 'Malaysia': 'Asia',\n 'Bangladesh': 'Asia',\n 'Belgium': 'Europe'}\n\n# applying mapping of continents\nnew_df['Continent'] = new_df['Country'].map(cc_map)",
   "execution_count": null,
   "outputs": []
  },
  {
   "cell_type": "code",
   "metadata": {
    "execution": {
     "iopub.execute_input": "2021-10-26T05:59:20.258053Z",
     "iopub.status.busy": "2021-10-26T05:59:20.257712Z",
     "iopub.status.idle": "2021-10-26T05:59:20.295811Z",
     "shell.execute_reply": "2021-10-26T05:59:20.295142Z",
     "shell.execute_reply.started": "2021-10-26T05:59:20.258017Z"
    },
    "trusted": true,
    "cell_id": "00011-af1368aa-5f42-4d7a-b2ca-c9fff5ee82cb",
    "deepnote_cell_type": "code"
   },
   "source": "# Label encoding for continents and countries\n\n# One Hot encoding\nencoded_df = pd.get_dummies(new_df, columns=[\"Continent\"]).head()\n\nfrom sklearn.preprocessing import LabelEncoder\n\n# using lable_encoder\nlabelencoder = LabelEncoder()\nlabel_encoded_df = new_df.iloc[:,:]\nlabel_encoded_df['Continent'] = labelencoder.fit_transform(label_encoded_df['Continent'])\n\n",
   "execution_count": null,
   "outputs": []
  },
  {
   "cell_type": "markdown",
   "source": "#### using lable_encoder\n",
   "metadata": {
    "cell_id": "00012-d61a716a-f9b0-496c-b389-8240f108ccc0",
    "deepnote_cell_type": "markdown"
   }
  },
  {
   "cell_type": "code",
   "metadata": {
    "execution": {
     "iopub.execute_input": "2021-10-26T06:03:29.243152Z",
     "iopub.status.busy": "2021-10-26T06:03:29.242477Z",
     "iopub.status.idle": "2021-10-26T06:03:29.254617Z",
     "shell.execute_reply": "2021-10-26T06:03:29.254021Z",
     "shell.execute_reply.started": "2021-10-26T06:03:29.243107Z"
    },
    "trusted": true,
    "cell_id": "00013-8c3a84de-7672-43ce-8fd4-601c6124fff5",
    "deepnote_cell_type": "code"
   },
   "source": "labelencoder = LabelEncoder()\nlabel_encoded_df = new_df.iloc[:,:]\nlabel_encoded_df['Continent'] = labelencoder.fit_transform(label_encoded_df['Continent'])",
   "execution_count": null,
   "outputs": []
  },
  {
   "cell_type": "code",
   "metadata": {
    "execution": {
     "iopub.execute_input": "2021-10-26T06:03:47.809201Z",
     "iopub.status.busy": "2021-10-26T06:03:47.808895Z",
     "iopub.status.idle": "2021-10-26T06:03:47.818479Z",
     "shell.execute_reply": "2021-10-26T06:03:47.817888Z",
     "shell.execute_reply.started": "2021-10-26T06:03:47.809172Z"
    },
    "trusted": true,
    "cell_id": "00014-d650320c-3ba9-4b6f-ba70-0504dfa97234",
    "deepnote_cell_type": "code"
   },
   "source": "label_encoded_df = label_encoded_df[label_encoded_df['Confirmed Cases on date'].notna()]\nout = label_encoded_df.iloc[:,:5].reset_index()\ndel out['index']",
   "execution_count": null,
   "outputs": []
  },
  {
   "cell_type": "markdown",
   "source": "### Continent data \nUpdate with GDP\n",
   "metadata": {
    "cell_id": "00015-a6072cf4-b527-4727-ae3d-9e28dc6d4cef",
    "deepnote_cell_type": "markdown"
   }
  },
  {
   "cell_type": "code",
   "metadata": {
    "execution": {
     "iopub.execute_input": "2021-10-26T12:47:38.867586Z",
     "iopub.status.busy": "2021-10-26T12:47:38.866877Z",
     "iopub.status.idle": "2021-10-26T12:47:38.954911Z",
     "shell.execute_reply": "2021-10-26T12:47:38.953843Z",
     "shell.execute_reply.started": "2021-10-26T12:47:38.867408Z"
    },
    "trusted": true,
    "cell_id": "00016-d615ec1d-b0c1-4d7f-b5cf-70a7f5024e9f",
    "deepnote_cell_type": "code"
   },
   "source": "import json\nimport pandas as pd\ngdp_dict = json.load(open('../input/task1countriesd1/gdp (2).json'))\ncont_df = pd.read_csv('../input/task1countriesd1/continent_update.csv')\ndel cont_df['Unnamed: 0']\n",
   "execution_count": null,
   "outputs": []
  },
  {
   "cell_type": "code",
   "metadata": {
    "execution": {
     "iopub.execute_input": "2021-10-26T12:47:44.895277Z",
     "iopub.status.busy": "2021-10-26T12:47:44.894433Z",
     "iopub.status.idle": "2021-10-26T12:47:44.904109Z",
     "shell.execute_reply": "2021-10-26T12:47:44.903221Z",
     "shell.execute_reply.started": "2021-10-26T12:47:44.89524Z"
    },
    "trusted": true,
    "cell_id": "00017-4d41960d-45cc-4a59-b836-0f85c6111fb1",
    "deepnote_cell_type": "code"
   },
   "source": "countries = list(cont_df['Country'])\ngdp_country_map = {}\nfor i in gdp_dict:\n    gdp = i['2021 GDP']\n    country = i[\"Country\"]\n    try:\n        gdp_country_map[country] = float(gdp)\n    except:\n        continue\n",
   "execution_count": null,
   "outputs": []
  },
  {
   "cell_type": "code",
   "metadata": {
    "execution": {
     "iopub.execute_input": "2021-10-26T11:25:59.722344Z",
     "iopub.status.busy": "2021-10-26T11:25:59.721915Z",
     "iopub.status.idle": "2021-10-26T11:25:59.729466Z",
     "shell.execute_reply": "2021-10-26T11:25:59.728477Z",
     "shell.execute_reply.started": "2021-10-26T11:25:59.722312Z"
    },
    "trusted": true,
    "cell_id": "00018-2ec1d440-808c-46a4-ba6e-1e5bd36ecb5f",
    "deepnote_cell_type": "code"
   },
   "source": "counter = 0\nfor i in gdp_country_map.keys():\n    if i in countries:\n        counter +=1\n    else:\n        print(i)\ncounter",
   "execution_count": null,
   "outputs": []
  },
  {
   "cell_type": "code",
   "metadata": {
    "execution": {
     "iopub.execute_input": "2021-10-26T11:26:12.201445Z",
     "iopub.status.busy": "2021-10-26T11:26:12.200872Z",
     "iopub.status.idle": "2021-10-26T11:26:12.212979Z",
     "shell.execute_reply": "2021-10-26T11:26:12.212219Z",
     "shell.execute_reply.started": "2021-10-26T11:26:12.201408Z"
    },
    "trusted": true,
    "cell_id": "00019-261308b0-64f2-4c5f-9feb-65c1893a737f",
    "deepnote_cell_type": "code"
   },
   "source": "cont_df['GDP Per Capita'] = cont_df['Country'].map(gdp_country_map)",
   "execution_count": null,
   "outputs": []
  },
  {
   "cell_type": "code",
   "metadata": {
    "execution": {
     "iopub.execute_input": "2021-10-26T11:36:52.297994Z",
     "iopub.status.busy": "2021-10-26T11:36:52.297624Z",
     "iopub.status.idle": "2021-10-26T11:36:52.318153Z",
     "shell.execute_reply": "2021-10-26T11:36:52.317246Z",
     "shell.execute_reply.started": "2021-10-26T11:36:52.297953Z"
    },
    "trusted": true,
    "cell_id": "00020-5671edbd-b8ad-40e4-b544-8dec7126faf2",
    "deepnote_cell_type": "code"
   },
   "source": "cont_df = cont_df.dropna()",
   "execution_count": null,
   "outputs": []
  },
  {
   "cell_type": "code",
   "metadata": {
    "execution": {
     "iopub.execute_input": "2021-10-26T11:37:31.357083Z",
     "iopub.status.busy": "2021-10-26T11:37:31.356387Z",
     "iopub.status.idle": "2021-10-26T11:37:31.364571Z",
     "shell.execute_reply": "2021-10-26T11:37:31.363931Z",
     "shell.execute_reply.started": "2021-10-26T11:37:31.357034Z"
    },
    "trusted": true,
    "cell_id": "00021-7b4ef40d-f36f-4fc2-bb89-d74a9d1adf51",
    "deepnote_cell_type": "code"
   },
   "source": "len(set(cont_df['Country']))",
   "execution_count": null,
   "outputs": []
  },
  {
   "cell_type": "code",
   "metadata": {
    "execution": {
     "iopub.execute_input": "2021-10-26T12:48:54.811257Z",
     "iopub.status.busy": "2021-10-26T12:48:54.81087Z",
     "iopub.status.idle": "2021-10-26T12:48:54.833329Z",
     "shell.execute_reply": "2021-10-26T12:48:54.832673Z",
     "shell.execute_reply.started": "2021-10-26T12:48:54.811223Z"
    },
    "trusted": true,
    "cell_id": "00022-4e631831-dcbb-4117-9206-7157491b4606",
    "deepnote_cell_type": "code"
   },
   "source": "cont_df.head()",
   "execution_count": null,
   "outputs": []
  },
  {
   "cell_type": "code",
   "metadata": {
    "execution": {
     "iopub.execute_input": "2021-10-26T11:37:35.066298Z",
     "iopub.status.busy": "2021-10-26T11:37:35.065978Z",
     "iopub.status.idle": "2021-10-26T11:37:35.151156Z",
     "shell.execute_reply": "2021-10-26T11:37:35.150351Z",
     "shell.execute_reply.started": "2021-10-26T11:37:35.066264Z"
    },
    "trusted": true,
    "cell_id": "00023-be7e4b85-08db-480d-97e5-8dc8d5b0b9db",
    "deepnote_cell_type": "code"
   },
   "source": "cont_df.to_csv('gdp_update.csv')",
   "execution_count": null,
   "outputs": []
  },
  {
   "cell_type": "code",
   "metadata": {
    "execution": {
     "iopub.execute_input": "2021-10-26T11:36:32.807124Z",
     "iopub.status.busy": "2021-10-26T11:36:32.806773Z",
     "iopub.status.idle": "2021-10-26T11:36:32.819893Z",
     "shell.execute_reply": "2021-10-26T11:36:32.819022Z",
     "shell.execute_reply.started": "2021-10-26T11:36:32.807087Z"
    },
    "trusted": true,
    "cell_id": "00024-a7d61286-4329-4191-b917-ed07d31e92c4",
    "deepnote_cell_type": "code"
   },
   "source": "import numpy as np\nnp.where(pd.isnull(cont_df))",
   "execution_count": null,
   "outputs": []
  },
  {
   "cell_type": "markdown",
   "source": "# Modelling with Linear Regression",
   "metadata": {
    "cell_id": "00025-b9d797cc-7c83-469a-8eb0-902bc3b9a4fc",
    "deepnote_cell_type": "markdown"
   }
  },
  {
   "cell_type": "markdown",
   "source": "### Loading Data",
   "metadata": {
    "cell_id": "00026-62e9caa3-5ac5-401c-ba27-768528075af7",
    "deepnote_cell_type": "markdown"
   }
  },
  {
   "cell_type": "code",
   "metadata": {
    "execution": {
     "iopub.execute_input": "2021-10-31T04:39:28.289996Z",
     "iopub.status.busy": "2021-10-31T04:39:28.289438Z",
     "iopub.status.idle": "2021-10-31T04:39:28.312978Z",
     "shell.execute_reply": "2021-10-31T04:39:28.312166Z",
     "shell.execute_reply.started": "2021-10-31T04:39:28.289962Z"
    },
    "trusted": true,
    "cell_id": "00027-8990b1bc-733f-4acb-96ab-84b34ecdfe75",
    "deepnote_cell_type": "code"
   },
   "source": "import pandas as pd\nimport numpy as np\n\ndf = pd.read_csv(\"datetime_update.csv\")",
   "execution_count": 8,
   "outputs": []
  },
  {
   "cell_type": "code",
   "metadata": {
    "execution": {
     "iopub.execute_input": "2021-10-31T03:22:06.769679Z",
     "iopub.status.busy": "2021-10-31T03:22:06.768977Z",
     "iopub.status.idle": "2021-10-31T03:22:06.793031Z",
     "shell.execute_reply": "2021-10-31T03:22:06.792184Z",
     "shell.execute_reply.started": "2021-10-31T03:22:06.769623Z"
    },
    "trusted": true,
    "cell_id": "00028-44ee983f-092a-4736-8b73-91ebdfd630f9",
    "deepnote_cell_type": "code"
   },
   "source": "df.sort_values(by=['Deaths on Date'],ascending=False)",
   "execution_count": 5,
   "outputs": []
  },
  {
   "cell_type": "code",
   "metadata": {
    "execution": {
     "iopub.execute_input": "2021-10-31T04:39:37.300380Z",
     "iopub.status.busy": "2021-10-31T04:39:37.300099Z",
     "iopub.status.idle": "2021-10-31T04:39:39.369516Z",
     "shell.execute_reply": "2021-10-31T04:39:39.368671Z",
     "shell.execute_reply.started": "2021-10-31T04:39:37.300351Z"
    },
    "trusted": true,
    "cell_id": "00029-7b7d0499-23e6-45dd-adbd-a41465c27b33",
    "deepnote_cell_type": "code"
   },
   "source": "df['Date'] = df['Date'].apply(pd.to_datetime)",
   "execution_count": 9,
   "outputs": []
  },
  {
   "cell_type": "code",
   "metadata": {
    "execution": {
     "iopub.execute_input": "2021-10-31T04:40:13.429484Z",
     "iopub.status.busy": "2021-10-31T04:40:13.428949Z",
     "iopub.status.idle": "2021-10-31T04:40:13.596093Z",
     "shell.execute_reply": "2021-10-31T04:40:13.595115Z",
     "shell.execute_reply.started": "2021-10-31T04:40:13.429449Z"
    },
    "trusted": true,
    "cell_id": "00030-a74d5423-7e36-4171-a743-d7aeb694a38c",
    "deepnote_cell_type": "code"
   },
   "source": "# calculate deaths per day",
   "execution_count": 11,
   "outputs": []
  },
  {
   "cell_type": "markdown",
   "source": "## Linear Regression Models\n\n\nSimple Linear Regression\n\n`y = b0 + b1 * x`\n\nwhere b0 and b1 are the coefficients we must estimate from the training data.\n```\nB1 = sum((x(i) - mean(x)) * (y(i) - mean(y))) / sum( (x(i) - mean(x))^2 )\nB0 = mean(y) - B1 * mean(x)\n```",
   "metadata": {
    "cell_id": "00031-35b847db-7833-4121-8dc6-ad40ccd6b6ac",
    "deepnote_cell_type": "markdown"
   }
  },
  {
   "cell_type": "markdown",
   "source": "Calculating Mean and Variance\n\nMean: \n\n`mean(x) = sum(x) / count(x)`\n\nVariance:\n\n`variance = sum( (x - mean(x))^2 )`",
   "metadata": {
    "cell_id": "00032-17f90aa2-b585-4494-a10f-9a8a87a8eb47",
    "deepnote_cell_type": "markdown"
   }
  },
  {
   "cell_type": "code",
   "metadata": {
    "cell_id": "00033-ac0863ba-221c-4cb0-93d1-3eb68e438503",
    "deepnote_cell_type": "code"
   },
   "source": "",
   "execution_count": null,
   "outputs": []
  },
  {
   "cell_type": "markdown",
   "source": "",
   "metadata": {
    "cell_id": "00034-df1e5ecd-b388-49a4-8dbd-510f29eaf0db",
    "deepnote_cell_type": "markdown"
   }
  },
  {
   "cell_type": "markdown",
   "source": "# Data Viz\n",
   "metadata": {
    "cell_id": "00035-d5af058d-4b92-4997-9ba4-f4fee3336f33",
    "deepnote_cell_type": "markdown"
   }
  },
  {
   "cell_type": "markdown",
   "source": "## Deaths over time (Macro)",
   "metadata": {
    "cell_id": "00036-2526e3cb-d13a-4aa0-86c4-887773822845",
    "deepnote_cell_type": "markdown"
   }
  },
  {
   "cell_type": "code",
   "metadata": {
    "execution": {
     "iopub.status.busy": "2021-10-26T03:27:58.863413Z",
     "iopub.status.idle": "2021-10-26T03:27:58.864033Z",
     "shell.execute_reply": "2021-10-26T03:27:58.863774Z",
     "shell.execute_reply.started": "2021-10-26T03:27:58.86375Z"
    },
    "trusted": true,
    "cell_id": "00037-3597bfae-6d1f-47f6-85b4-6e4cba4fe813",
    "deepnote_cell_type": "code"
   },
   "source": "base_stats = pd.DataFrame(columns=['Dates','Confirmed','Deaths','Recovered','Active'])\nbase_stats['Dates'] = confirmed_df.columns[4:]\n\nbase_stats['Confirmed'] = base_stats['Dates'].apply(lambda x: confirmed_df[x].sum())\nbase_stats['Deaths'] = base_stats['Dates'].apply(lambda x: deaths_df[x].sum())\nbase_stats['Recovered'] = base_stats['Dates'].apply(lambda x: recoveries_df[x].sum())\nbase_stats.reset_index(drop=False, inplace=True)\nbase_stats['Active'] = base_stats['index'].apply(lambda x: (base_stats['Confirmed'][x]-(base_stats['Deaths'][x]+base_stats['Recovered'][x])))\nbase_stats.head()",
   "execution_count": null,
   "outputs": []
  },
  {
   "cell_type": "code",
   "metadata": {
    "execution": {
     "iopub.status.busy": "2021-10-26T03:27:58.865097Z",
     "iopub.status.idle": "2021-10-26T03:27:58.865504Z",
     "shell.execute_reply": "2021-10-26T03:27:58.865356Z",
     "shell.execute_reply.started": "2021-10-26T03:27:58.865337Z"
    },
    "trusted": true,
    "cell_id": "00038-5f448176-ad28-46ad-bb81-b91967bae2be",
    "deepnote_cell_type": "code"
   },
   "source": "\n\nbase_stats_fig = go.Figure() # create canvas\n\nfor column in base_stats.columns.to_list()[2:6]:\n    color_dict = {\n      \"Deaths\": \"#073b4c\"\n        }\n    base_stats_fig.add_trace(\n        go.Scatter(\n            x = base_stats['Dates'],\n            y = base_stats[column],\n            name = column,\n            line = dict(color=color_dict[column]),\n            hovertemplate ='<br><b>Date</b>: %{x}'+'<br><i>Count</i>:'+'%{y}',\n        )\n    )\n    \nfor column in base_stats.columns.to_list()[2:6]:\n    color_dict = {\n      \"Deaths\": \"#0C6583\"\n        }\n    base_stats_fig.add_trace(\n        go.Scatter(\n            x = base_stats['Dates'],\n            y = base_stats['index'].apply(lambda x: (base_stats[column][x-7:x].sum())/7 if x>7 else (base_stats[column][0:x].sum())/7),\n            name = column+\" 7-day Moving Avg.\",\n            line = dict(dash=\"dash\", color=color_dict[column]), showlegend=False,\n            hovertemplate = '<br><b>Date</b>: %{x}'+'<br><i>7-day moving avg.</i>: %{y}'\n        )\n    )\n    \nbase_stats_fig.update_layout(\n    updatemenus=[\n        dict(\n        buttons=list(\n            [\n             dict(label = 'Deaths',\n                  method = 'update',\n                  args = [{'visible': [False, True, False, False, False, True, False, False]},\n                          {'title': 'Deaths',\n                           'showlegend':True}]),\n            ]),\n             type = \"dropdown\",\n             direction=\"down\",\n#             pad={\"r\": 10, \"t\": 40},\n             showactive=True,\n             x=0,\n             xanchor=\"left\",\n             y=1.25,\n             yanchor=\"top\"\n        ),\n        dict(\n        buttons=list(\n            [dict(label = 'Linear Scale',\n                  method = 'relayout',\n                  args = [{'yaxis': {'type': 'linear'}},\n                          {'title': 'All Cases',\n                           'showlegend':True}]),\n             dict(label = 'Log Scale',\n                  method = 'relayout',\n                  args = [{'yaxis': {'type': 'log'}},\n                          {'title': 'Confirmed',\n                           'showlegend':True}]),\n            ]),\n             type = \"dropdown\",\n             direction=\"down\",\n#             pad={\"r\": 10, \"t\": 10},\n             showactive=True,\n             x=0,\n             xanchor=\"left\",\n             y=1.36,\n             yanchor=\"top\"\n        )\n    ])\n\n\nbase_stats_fig.update_xaxes(showticklabels=False)\nbase_stats_fig.update_layout(\n    #height=600, width=600, \n    title_text=\"Basic Statistics for Covid19\", title_x=0.5, title_font_size=20,\n                            legend=dict(orientation='h',yanchor='top',y=1.15,xanchor='right',x=1), paper_bgcolor=\"mintcream\",\n                            xaxis_title=\"Date\", yaxis_title=\"# of Cases\")\nbase_stats_fig.show()",
   "execution_count": null,
   "outputs": []
  },
  {
   "cell_type": "markdown",
   "source": "## Country Wise Stats",
   "metadata": {
    "cell_id": "00039-a821939c-ca58-48a5-a71d-5330e9b57019",
    "deepnote_cell_type": "markdown"
   }
  },
  {
   "cell_type": "code",
   "metadata": {
    "execution": {
     "iopub.status.busy": "2021-10-26T03:27:58.8684Z",
     "iopub.status.idle": "2021-10-26T03:27:58.86915Z",
     "shell.execute_reply": "2021-10-26T03:27:58.868912Z",
     "shell.execute_reply.started": "2021-10-26T03:27:58.868886Z"
    },
    "trusted": true,
    "cell_id": "00040-afcc08fb-73e5-4afc-bcbc-fef8903ae08e",
    "deepnote_cell_type": "code"
   },
   "source": "country_data = go.Figure()\ncountry_data.add_trace(go.Table(\n    header=dict(values=['Country','Confirmed','Active','Recovered','Deaths','Daily Increase','Mortality Rate'],\n                fill = dict(color='#A5B3F3'),\n                line_color='darkslategray',\n                align = ['left'] * 5),\n    cells=dict(values=[confirmed_group_df.sort_values(by=confirmed_group_df.columns[-1], ascending=False)['Country/Region'], \n                      confirmed_group_df.sort_values(by=confirmed_group_df.columns[-1], ascending=False)['Country/Region'].apply(lambda x: confirmed_group_df[confirmed_group_df['Country/Region']==x][confirmed_group_df.columns[4:]].values.tolist()[0][-1]),\n                      confirmed_group_df.sort_values(by=confirmed_group_df.columns[-1], ascending=False)['Country/Region'].apply(lambda x: active_group_df[active_group_df['Country/Region']==x][active_group_df.columns[4:]].values.tolist()[0][-1]),\n                      confirmed_group_df.sort_values(by=confirmed_group_df.columns[-1], ascending=False)['Country/Region'].apply(lambda x: recoveries_group_df[recoveries_group_df['Country/Region']==x][recoveries_group_df.columns[4:]].values.tolist()[0][-1]),\n                      confirmed_group_df.sort_values(by=confirmed_group_df.columns[-1], ascending=False)['Country/Region'].apply(lambda x: deaths_group_df[deaths_group_df['Country/Region']==x][deaths_group_df.columns[4:]].values.tolist()[0][-1]),\n                      confirmed_group_df.sort_values(by=confirmed_group_df.columns[-1], ascending=False)['Country/Region'].apply(lambda x: confirmed_group_df[confirmed_group_df['Country/Region']==x][confirmed_group_df.columns[4:]].values.tolist()[0][-1]-confirmed_group_df[confirmed_group_df['Country/Region']==x][confirmed_group_df.columns[4:]].values.tolist()[0][-2]),\n                      confirmed_group_df.sort_values(by=confirmed_group_df.columns[-1], ascending=False)['Country/Region'].apply(lambda x: (deaths_group_df[deaths_group_df['Country/Region']==x][deaths_group_df.columns[4:]].values.tolist()[0][-1]/confirmed_group_df[confirmed_group_df['Country/Region']==x][confirmed_group_df.columns[4:]].values.tolist()[0][-1])*100).round(decimals=3)\n                      ],\n               fill = dict(color='#F0FCFD'),\n               line_color='darkslategray',\n               align = ['left'] * 5)))\n\ncountry_data.update_layout(\n    #height=600, width=1100, \n    title_text=\"Country wise stats\",\n                                     title_x=0.5, title_font_size=20,\n                                     paper_bgcolor=\"mintcream\")\ncountry_data.show()\n",
   "execution_count": null,
   "outputs": []
  },
  {
   "cell_type": "code",
   "metadata": {
    "execution": {
     "iopub.status.busy": "2021-10-26T03:27:58.870343Z",
     "iopub.status.idle": "2021-10-26T03:27:58.8707Z",
     "shell.execute_reply": "2021-10-26T03:27:58.870525Z",
     "shell.execute_reply.started": "2021-10-26T03:27:58.870508Z"
    },
    "trusted": true,
    "cell_id": "00041-1037b7dd-c6d8-4adc-a632-6f32653baa1b",
    "deepnote_cell_type": "code"
   },
   "source": "treemap_fig = go.Figure()\ndf_dict={\n  \"Confirmed\": [confirmed_group_df,True],\n  \"Active\": [active_group_df,False],\n  \"Recovered\": [recoveries_group_df,False],\n  \"Deaths\": [deaths_group_df,False],\n  \"Daily_inc\": [None,False]\n}\nfor column in ['Confirmed','Active','Recovered','Deaths']:\n\n    treemap_fig.add_trace(go.Treemap(labels = confirmed_group_df['Country/Region'], name=\"Treemap\",\n                                     parents = ['']*confirmed_group_df.shape[0],\n                                     values = df_dict[column][0][confirmed_group_df.columns[-1]],\n                                     branchvalues=\"total\",\n                                     textinfo = \"percent root+label+value+text\", outsidetextfont = {\"size\": 30, \"color\": \"darkblue\"},\n                                     marker = {\"line\": {\"width\": 2}}, pathbar = {\"visible\": False}, visible = df_dict[column][1], \n                                     hovertemplate='<b>%{label} </b> <br> Count: %{value}<br>'\n                                     )) \n    \ntreemap_fig.add_trace(go.Treemap(labels = confirmed_group_df.sort_values(by=confirmed_group_df.columns[-1], ascending=False)['Country/Region'], name=\"Treemap\",\n                                 parents = ['']*confirmed_group_df.shape[0],\n                                 values = confirmed_group_df.sort_values(by=confirmed_group_df.columns[-1], ascending=False)['Country/Region'].apply(lambda x: confirmed_group_df[confirmed_group_df['Country/Region']==x][confirmed_group_df.columns[4:]].values.tolist()[0][-1]-confirmed_group_df[confirmed_group_df['Country/Region']==x][confirmed_group_df.columns[4:]].values.tolist()[0][-2]),\n                                 branchvalues=\"total\",\n                                 textinfo = \"percent root+label+value+text\", outsidetextfont = {\"size\": 30, \"color\": \"darkblue\"},\n                                 marker = {\"line\": {\"width\": 2}}, pathbar = {\"visible\": False}, visible = df_dict['Daily_inc'][1], \n                                 hovertemplate='<b>%{label} </b> <br> Count: %{value}<br>'\n                                 )) \n\ntreemap_fig.update_layout(\n    updatemenus=[\n        dict(\n        buttons=list([\n             dict(label = 'Confirmed',\n                  method = 'update',\n                  args = [{'visible': [True, False, False, False, False]},\n                          {'title': 'Confirmed',\n                           'showlegend':True}]),\n             dict(label = 'Active',\n                  method = 'update',\n                  args = [{'visible': [False, True, False, False, False]},\n                          {'title': 'Active',\n                           'showlegend':True}]),\n             dict(label = 'Recovered',\n                  method = 'update',\n                  args = [{'visible': [False, False, True, False, False]},\n                          {'title': 'Recovered',\n                           'showlegend':True}]),\n             dict(label = 'Deaths',\n                  method = 'update',\n                  args = [{'visible': [False, False, False, True, False]},\n                          {'title': 'Deaths',\n                           'showlegend':True}]),\n            dict(label = 'Daily Increase',\n                  method = 'update',\n                  args = [{'visible': [False, False, False, False, True]},\n                          {'title': 'Daily Increase',\n                           'showlegend':True}]),\n            ]),\n             type = \"buttons\",\n             direction=\"down\",\n#             pad={\"r\": 10, \"t\": 40},\n             showactive=True,\n             x=1.01,\n             xanchor=\"left\",\n             y=0.8,\n             yanchor=\"top\"\n        )\n    ])\n\ntreemap_fig.update_layout(\n    #height=600, width=1100, \n    title_text=\"Treemap of Countries <br> The Treemap shows the number of Cases in Different coutries <br> and their percent of total cases worldwide\",\n                          title_x=0.5, title_font_size=15,\n                          legend=dict(orientation='h',yanchor='top',y=1.12,xanchor='right',x=1), paper_bgcolor=\"mintcream\")\ntreemap_fig.show()",
   "execution_count": null,
   "outputs": []
  },
  {
   "cell_type": "markdown",
   "source": "# Linear Regression",
   "metadata": {
    "cell_id": "00042-4465daaf-4206-4680-a99f-6c870609a94f",
    "deepnote_cell_type": "markdown"
   }
  },
  {
   "cell_type": "code",
   "metadata": {
    "cell_id": "00043-611ec9a8-3fa9-468c-b265-1cfbabf47c93",
    "deepnote_cell_type": "code"
   },
   "source": "# Linear Regression using Scikit Learn\n\nimport numpy as np\nfrom sklearn.linear_model import LinearRegression",
   "execution_count": null,
   "outputs": []
  },
  {
   "cell_type": "code",
   "metadata": {
    "execution": {
     "iopub.status.busy": "2021-10-26T03:27:58.87137Z",
     "iopub.status.idle": "2021-10-26T03:27:58.87168Z",
     "shell.execute_reply": "2021-10-26T03:27:58.871524Z",
     "shell.execute_reply.started": "2021-10-26T03:27:58.871506Z"
    },
    "trusted": true,
    "cell_id": "00044-11777ca2-a272-49e7-86c9-36270b927ee8",
    "deepnote_cell_type": "code"
   },
   "source": "",
   "execution_count": null,
   "outputs": []
  },
  {
   "cell_type": "markdown",
   "source": "Deaths as the only parameter",
   "metadata": {
    "cell_id": "00045-c21ffe76-eefb-406d-9a14-691331c1e636",
    "deepnote_cell_type": "markdown"
   }
  },
  {
   "cell_type": "code",
   "metadata": {
    "execution": {
     "iopub.status.busy": "2021-10-26T03:27:58.873561Z",
     "iopub.status.idle": "2021-10-26T03:27:58.874374Z",
     "shell.execute_reply": "2021-10-26T03:27:58.874098Z",
     "shell.execute_reply.started": "2021-10-26T03:27:58.874063Z"
    },
    "trusted": true,
    "cell_id": "00046-a21ae240-8781-47e3-9a5a-c92222dc35c8",
    "deepnote_cell_type": "code"
   },
   "source": "death_pred_df = deaths_group_df.copy()\ndeath_pred_df[\"Cumulative Deaths\"] = deaths_group_df.loc[:,'1/22/20':].sum(axis= 1)\nfrom datetime import datetime\nstart_date = datetime.strptime('1/22/20','%m/%d/%y')\nend_date = datetime.strptime(deaths_df.columns[-1],'%m/%d/%y')\ndelta_t = end_date - start_date\n\ndeath_pred_df[\"Time Period (days)\"] = delta_t.days\n\ndeath_pred_df_sorted_30 = death_pred_df.sort_values(by=death_pred_df.columns[-2], ascending=False).iloc[0:30].reset_index(drop=True)",
   "execution_count": null,
   "outputs": []
  },
  {
   "cell_type": "code",
   "metadata": {
    "execution": {
     "iopub.status.busy": "2021-10-26T03:27:58.875181Z",
     "iopub.status.idle": "2021-10-26T03:27:58.875528Z",
     "shell.execute_reply": "2021-10-26T03:27:58.875348Z",
     "shell.execute_reply.started": "2021-10-26T03:27:58.875331Z"
    },
    "trusted": true,
    "cell_id": "00047-c936515b-a3e7-40f4-99f6-41f6903c6704",
    "deepnote_cell_type": "code"
   },
   "source": "death_pred_df_sorted_30.head()",
   "execution_count": null,
   "outputs": []
  },
  {
   "cell_type": "markdown",
   "source": "Sample with USA",
   "metadata": {
    "cell_id": "00048-19039001-26e1-495e-993b-7aade754e360",
    "deepnote_cell_type": "markdown"
   }
  },
  {
   "cell_type": "code",
   "metadata": {
    "execution": {
     "iopub.status.busy": "2021-10-26T03:27:58.87641Z",
     "iopub.status.idle": "2021-10-26T03:27:58.876697Z",
     "shell.execute_reply": "2021-10-26T03:27:58.87655Z",
     "shell.execute_reply.started": "2021-10-26T03:27:58.876535Z"
    },
    "trusted": true,
    "cell_id": "00049-e6ef1c9d-6b77-485c-ae02-54163e1f5374",
    "deepnote_cell_type": "code"
   },
   "source": "usa_death_pred = death_pred_df_sorted_30.iloc[0]\n# Convert days to days from start\nusa_death_pred['days_from_start'] = (df.index - df.index[0]).days; df\n",
   "execution_count": null,
   "outputs": []
  },
  {
   "cell_type": "code",
   "metadata": {
    "execution": {
     "iopub.status.busy": "2021-10-26T03:27:58.877285Z",
     "iopub.status.idle": "2021-10-26T03:27:58.877547Z",
     "shell.execute_reply": "2021-10-26T03:27:58.877416Z",
     "shell.execute_reply.started": "2021-10-26T03:27:58.877402Z"
    },
    "trusted": true,
    "cell_id": "00050-708d3a7b-0171-4a0f-b6c9-16e05ca9a948",
    "deepnote_cell_type": "code"
   },
   "source": "usa_death_pred = death_pred_df_sorted_30.iloc[0]\nusa_death_pred.to_csv('usa_p.csv')",
   "execution_count": null,
   "outputs": []
  },
  {
   "cell_type": "code",
   "metadata": {
    "execution": {
     "iopub.status.busy": "2021-10-26T03:27:58.878106Z",
     "iopub.status.idle": "2021-10-26T03:27:58.878392Z",
     "shell.execute_reply": "2021-10-26T03:27:58.878236Z",
     "shell.execute_reply.started": "2021-10-26T03:27:58.878221Z"
    },
    "trusted": true,
    "cell_id": "00051-488a0577-931d-461e-a77e-9e27e2d11039",
    "deepnote_cell_type": "code"
   },
   "source": "usa_death_pred",
   "execution_count": null,
   "outputs": []
  },
  {
   "cell_type": "code",
   "metadata": {
    "cell_id": "00052-43df74f5-417b-4466-ade7-d4d439cf3766",
    "deepnote_cell_type": "code"
   },
   "source": "",
   "execution_count": null,
   "outputs": []
  },
  {
   "cell_type": "markdown",
   "source": "<a style='text-decoration:none;line-height:16px;display:flex;color:#5B5B62;padding:10px;justify-content:end;' href='https://deepnote.com?utm_source=created-in-deepnote-cell&projectId=8063f459-52be-4c78-9eaa-2f01d373f9b4' target=\"_blank\">\n<img alt='Created in deepnote.com' style='display:inline;max-height:16px;margin:0px;margin-right:7.5px;' src='data:image/svg+xml;base64,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' > </img>\nCreated in <span style='font-weight:600;margin-left:4px;'>Deepnote</span></a>",
   "metadata": {
    "tags": [],
    "created_in_deepnote_cell": true,
    "deepnote_cell_type": "markdown"
   }
  }
 ],
 "nbformat": 4,
 "nbformat_minor": 4,
 "metadata": {
  "kernelspec": {
   "display_name": "Python 3",
   "language": "python",
   "name": "python3"
  },
  "language_info": {
   "codemirror_mode": {
    "name": "ipython",
    "version": 3
   },
   "file_extension": ".py",
   "mimetype": "text/x-python",
   "name": "python",
   "nbconvert_exporter": "python",
   "pygments_lexer": "ipython3",
   "version": "3.7.10"
  },
  "deepnote_notebook_id": "c85a33e3-ef29-4640-add9-f976bdab6fa1",
  "deepnote": {},
  "deepnote_execution_queue": []
 }
}