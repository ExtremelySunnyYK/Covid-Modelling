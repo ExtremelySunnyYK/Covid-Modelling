{
 "cells": [
  {
   "cell_type": "markdown",
   "source": "# 2D Design Project",
   "metadata": {
    "tags": [],
    "cell_id": "00000-9abcfafd-3455-4155-9fec-07a5d6f706c7",
    "deepnote_to_be_reexecuted": false,
    "source_hash": "ac9ae32f",
    "execution_start": 1635039167604,
    "execution_millis": 8,
    "deepnote_cell_type": "markdown"
   }
  },
  {
   "cell_type": "markdown",
   "source": "<b>Problem Statement</b>: We wish to predict Singapore's GDP growth amidst COVID-19 based on various factors. By comparing the predicted growth rate with the actual growth rate, we can determine the effectiveness of Singapore's coping strategies against COVID-19.\n\nFactors/Variables to consider (from most to least important):\n- Time/date (time series data)\n- Vaccination rate\n- Daily active cases\n- Hospitalised\n- Recovered\n- Government grants/funding\n- Phases (circuit breaker, phase 1 etc.)",
   "metadata": {
    "tags": [],
    "cell_id": "00001-c73fab3d-a5e5-43c5-ab08-bef14d0db3ee",
    "deepnote_cell_type": "markdown"
   }
  },
  {
   "cell_type": "markdown",
   "source": "## Data Pre Processing",
   "metadata": {
    "tags": [],
    "cell_id": "00002-4f3fccd8-d7e4-4541-ba76-476b59992fbd",
    "deepnote_cell_type": "markdown"
   }
  },
  {
   "cell_type": "code",
   "metadata": {
    "tags": [],
    "cell_id": "00003-91790078-8446-453c-9616-63bbd2148f67",
    "deepnote_to_be_reexecuted": false,
    "source_hash": "10cbf786",
    "execution_start": 1635039985047,
    "execution_millis": 3269,
    "deepnote_cell_type": "code"
   },
   "source": "# Installing dependencies\n\n# !pip install openpyxl",
   "outputs": [
    {
     "name": "stdout",
     "text": "Collecting openpyxl\n  Downloading openpyxl-3.0.9-py2.py3-none-any.whl (242 kB)\n\u001b[K     |████████████████████████████████| 242 kB 29.6 MB/s \n\u001b[?25hCollecting et-xmlfile\n  Downloading et_xmlfile-1.1.0-py3-none-any.whl (4.7 kB)\nInstalling collected packages: et-xmlfile, openpyxl\nSuccessfully installed et-xmlfile-1.1.0 openpyxl-3.0.9\n\u001b[33mWARNING: You are using pip version 21.2.4; however, version 21.3.1 is available.\nYou should consider upgrading via the '/root/venv/bin/python -m pip install --upgrade pip' command.\u001b[0m\n",
     "output_type": "stream"
    }
   ],
   "execution_count": 10
  },
  {
   "cell_type": "code",
   "metadata": {
    "tags": [],
    "cell_id": "00003-96928d60-003a-43eb-b525-cc42587580b0",
    "deepnote_to_be_reexecuted": false,
    "source_hash": "a640941a",
    "execution_start": 1635040029457,
    "execution_millis": 799,
    "deepnote_cell_type": "code"
   },
   "source": "# Multiple Linear Regression\n\nimport numpy as np\nimport pandas as pd\n\n# Importing the dataset\ndatasets = pd.read_excel('Covid-19 SG.xlsx')\n\ndatasets.tail()\n\n# processing ",
   "outputs": [
    {
     "output_type": "execute_result",
     "execution_count": 13,
     "data": {
      "application/vnd.deepnote.dataframe.v2+json": {
       "row_count": 5,
       "column_count": 37,
       "columns": [
        {
         "name": "Date",
         "dtype": "object",
         "stats": {
          "unique_count": 5,
          "nan_count": 0,
          "categories": [
           {
            "name": "2021-10-18",
            "count": 1
           },
           {
            "name": "2021-10-19",
            "count": 1
           },
           {
            "name": "3 others",
            "count": 3
           }
          ]
         }
        },
        {
         "name": "Daily Confirmed",
         "dtype": "int64",
         "stats": {
          "unique_count": 5,
          "nan_count": 0,
          "min": "2553",
          "max": "3994",
          "histogram": [
           {
            "bin_start": 2553,
            "bin_end": 2697.1,
            "count": 1
           },
           {
            "bin_start": 2697.1,
            "bin_end": 2841.2,
            "count": 0
           },
           {
            "bin_start": 2841.2,
            "bin_end": 2985.3,
            "count": 0
           },
           {
            "bin_start": 2985.3,
            "bin_end": 3129.4,
            "count": 0
           },
           {
            "bin_start": 3129.4,
            "bin_end": 3273.5,
            "count": 0
           },
           {
            "bin_start": 3273.5,
            "bin_end": 3417.6,
            "count": 0
           },
           {
            "bin_start": 3417.6,
            "bin_end": 3561.7,
            "count": 1
           },
           {
            "bin_start": 3561.7,
            "bin_end": 3705.8,
            "count": 1
           },
           {
            "bin_start": 3705.8,
            "bin_end": 3849.8999999999996,
            "count": 0
           },
           {
            "bin_start": 3849.8999999999996,
            "bin_end": 3994,
            "count": 2
           }
          ]
         }
        },
        {
         "name": "False Positives Found",
         "dtype": "float64",
         "stats": {
          "unique_count": 1,
          "nan_count": 0,
          "min": "0.0",
          "max": "0.0",
          "histogram": [
           {
            "bin_start": -0.5,
            "bin_end": -0.4,
            "count": 0
           },
           {
            "bin_start": -0.4,
            "bin_end": -0.3,
            "count": 0
           },
           {
            "bin_start": -0.3,
            "bin_end": -0.19999999999999996,
            "count": 0
           },
           {
            "bin_start": -0.19999999999999996,
            "bin_end": -0.09999999999999998,
            "count": 0
           },
           {
            "bin_start": -0.09999999999999998,
            "bin_end": 0,
            "count": 0
           },
           {
            "bin_start": 0,
            "bin_end": 0.10000000000000009,
            "count": 5
           },
           {
            "bin_start": 0.10000000000000009,
            "bin_end": 0.20000000000000007,
            "count": 0
           },
           {
            "bin_start": 0.20000000000000007,
            "bin_end": 0.30000000000000004,
            "count": 0
           },
           {
            "bin_start": 0.30000000000000004,
            "bin_end": 0.4,
            "count": 0
           },
           {
            "bin_start": 0.4,
            "bin_end": 0.5,
            "count": 0
           }
          ]
         }
        },
        {
         "name": "Cumulative Confirmed",
         "dtype": "int64",
         "stats": {
          "unique_count": 5,
          "nan_count": 0,
          "min": "150731",
          "max": "165663",
          "histogram": [
           {
            "bin_start": 150731,
            "bin_end": 152224.2,
            "count": 1
           },
           {
            "bin_start": 152224.2,
            "bin_end": 153717.4,
            "count": 0
           },
           {
            "bin_start": 153717.4,
            "bin_end": 155210.6,
            "count": 1
           },
           {
            "bin_start": 155210.6,
            "bin_end": 156703.8,
            "count": 0
           },
           {
            "bin_start": 156703.8,
            "bin_end": 158197,
            "count": 0
           },
           {
            "bin_start": 158197,
            "bin_end": 159690.2,
            "count": 1
           },
           {
            "bin_start": 159690.2,
            "bin_end": 161183.4,
            "count": 0
           },
           {
            "bin_start": 161183.4,
            "bin_end": 162676.6,
            "count": 1
           },
           {
            "bin_start": 162676.6,
            "bin_end": 164169.8,
            "count": 0
           },
           {
            "bin_start": 164169.8,
            "bin_end": 165663,
            "count": 1
           }
          ]
         }
        },
        {
         "name": "Daily Discharged",
         "dtype": "int64",
         "stats": {
          "unique_count": 5,
          "nan_count": 0,
          "min": "2535",
          "max": "3071",
          "histogram": [
           {
            "bin_start": 2535,
            "bin_end": 2588.6,
            "count": 1
           },
           {
            "bin_start": 2588.6,
            "bin_end": 2642.2,
            "count": 1
           },
           {
            "bin_start": 2642.2,
            "bin_end": 2695.8,
            "count": 0
           },
           {
            "bin_start": 2695.8,
            "bin_end": 2749.4,
            "count": 1
           },
           {
            "bin_start": 2749.4,
            "bin_end": 2803,
            "count": 0
           },
           {
            "bin_start": 2803,
            "bin_end": 2856.6,
            "count": 1
           },
           {
            "bin_start": 2856.6,
            "bin_end": 2910.2,
            "count": 0
           },
           {
            "bin_start": 2910.2,
            "bin_end": 2963.8,
            "count": 0
           },
           {
            "bin_start": 2963.8,
            "bin_end": 3017.4,
            "count": 0
           },
           {
            "bin_start": 3017.4,
            "bin_end": 3071,
            "count": 1
           }
          ]
         }
        },
        {
         "name": "Passed but not due to COVID",
         "dtype": "int64",
         "stats": {
          "unique_count": 1,
          "nan_count": 0,
          "min": "0",
          "max": "0",
          "histogram": [
           {
            "bin_start": -0.5,
            "bin_end": -0.4,
            "count": 0
           },
           {
            "bin_start": -0.4,
            "bin_end": -0.3,
            "count": 0
           },
           {
            "bin_start": -0.3,
            "bin_end": -0.19999999999999996,
            "count": 0
           },
           {
            "bin_start": -0.19999999999999996,
            "bin_end": -0.09999999999999998,
            "count": 0
           },
           {
            "bin_start": -0.09999999999999998,
            "bin_end": 0,
            "count": 0
           },
           {
            "bin_start": 0,
            "bin_end": 0.10000000000000009,
            "count": 5
           },
           {
            "bin_start": 0.10000000000000009,
            "bin_end": 0.20000000000000007,
            "count": 0
           },
           {
            "bin_start": 0.20000000000000007,
            "bin_end": 0.30000000000000004,
            "count": 0
           },
           {
            "bin_start": 0.30000000000000004,
            "bin_end": 0.4,
            "count": 0
           },
           {
            "bin_start": 0.4,
            "bin_end": 0.5,
            "count": 0
           }
          ]
         }
        },
        {
         "name": "Cumulative Discharged",
         "dtype": "int64",
         "stats": {
          "unique_count": 5,
          "nan_count": 0,
          "min": "125058",
          "max": "135739",
          "histogram": [
           {
            "bin_start": 125058,
            "bin_end": 126126.1,
            "count": 1
           },
           {
            "bin_start": 126126.1,
            "bin_end": 127194.2,
            "count": 0
           },
           {
            "bin_start": 127194.2,
            "bin_end": 128262.3,
            "count": 1
           },
           {
            "bin_start": 128262.3,
            "bin_end": 129330.4,
            "count": 0
           },
           {
            "bin_start": 129330.4,
            "bin_end": 130398.5,
            "count": 1
           },
           {
            "bin_start": 130398.5,
            "bin_end": 131466.6,
            "count": 0
           },
           {
            "bin_start": 131466.6,
            "bin_end": 132534.7,
            "count": 0
           },
           {
            "bin_start": 132534.7,
            "bin_end": 133602.8,
            "count": 1
           },
           {
            "bin_start": 133602.8,
            "bin_end": 134670.9,
            "count": 0
           },
           {
            "bin_start": 134670.9,
            "bin_end": 135739,
            "count": 1
           }
          ]
         }
        },
        {
         "name": "Discharged to Isolation",
         "dtype": "int64",
         "stats": {
          "unique_count": 5,
          "nan_count": 0,
          "min": "23742",
          "max": "28043",
          "histogram": [
           {
            "bin_start": 23742,
            "bin_end": 24172.1,
            "count": 1
           },
           {
            "bin_start": 24172.1,
            "bin_end": 24602.2,
            "count": 0
           },
           {
            "bin_start": 24602.2,
            "bin_end": 25032.3,
            "count": 0
           },
           {
            "bin_start": 25032.3,
            "bin_end": 25462.4,
            "count": 1
           },
           {
            "bin_start": 25462.4,
            "bin_end": 25892.5,
            "count": 0
           },
           {
            "bin_start": 25892.5,
            "bin_end": 26322.6,
            "count": 1
           },
           {
            "bin_start": 26322.6,
            "bin_end": 26752.7,
            "count": 0
           },
           {
            "bin_start": 26752.7,
            "bin_end": 27182.8,
            "count": 0
           },
           {
            "bin_start": 27182.8,
            "bin_end": 27612.9,
            "count": 1
           },
           {
            "bin_start": 27612.9,
            "bin_end": 28043,
            "count": 1
           }
          ]
         }
        },
        {
         "name": "Still Hospitalised",
         "dtype": "int64",
         "stats": {
          "unique_count": 5,
          "nan_count": 0,
          "min": "1579",
          "max": "1708",
          "histogram": [
           {
            "bin_start": 1579,
            "bin_end": 1591.9,
            "count": 2
           },
           {
            "bin_start": 1591.9,
            "bin_end": 1604.8,
            "count": 0
           },
           {
            "bin_start": 1604.8,
            "bin_end": 1617.7,
            "count": 0
           },
           {
            "bin_start": 1617.7,
            "bin_end": 1630.6,
            "count": 0
           },
           {
            "bin_start": 1630.6,
            "bin_end": 1643.5,
            "count": 0
           },
           {
            "bin_start": 1643.5,
            "bin_end": 1656.4,
            "count": 0
           },
           {
            "bin_start": 1656.4,
            "bin_end": 1669.3,
            "count": 0
           },
           {
            "bin_start": 1669.3,
            "bin_end": 1682.2,
            "count": 0
           },
           {
            "bin_start": 1682.2,
            "bin_end": 1695.1,
            "count": 2
           },
           {
            "bin_start": 1695.1,
            "bin_end": 1708,
            "count": 1
           }
          ]
         }
        },
        {
         "name": "Daily Deaths",
         "dtype": "int64",
         "stats": {
          "unique_count": 5,
          "nan_count": 0,
          "min": "6",
          "max": "18",
          "histogram": [
           {
            "bin_start": 6,
            "bin_end": 7.2,
            "count": 2
           },
           {
            "bin_start": 7.2,
            "bin_end": 8.4,
            "count": 0
           },
           {
            "bin_start": 8.4,
            "bin_end": 9.6,
            "count": 0
           },
           {
            "bin_start": 9.6,
            "bin_end": 10.8,
            "count": 0
           },
           {
            "bin_start": 10.8,
            "bin_end": 12,
            "count": 0
           },
           {
            "bin_start": 12,
            "bin_end": 13.2,
            "count": 0
           },
           {
            "bin_start": 13.2,
            "bin_end": 14.4,
            "count": 1
           },
           {
            "bin_start": 14.4,
            "bin_end": 15.6,
            "count": 0
           },
           {
            "bin_start": 15.6,
            "bin_end": 16.799999999999997,
            "count": 1
           },
           {
            "bin_start": 16.799999999999997,
            "bin_end": 18,
            "count": 1
           }
          ]
         }
        },
        {
         "name": "Cumulative Deaths",
         "dtype": "int64",
         "stats": {
          "unique_count": 5,
          "nan_count": 0,
          "min": "239",
          "max": "294",
          "histogram": [
           {
            "bin_start": 239,
            "bin_end": 244.5,
            "count": 1
           },
           {
            "bin_start": 244.5,
            "bin_end": 250,
            "count": 1
           },
           {
            "bin_start": 250,
            "bin_end": 255.5,
            "count": 0
           },
           {
            "bin_start": 255.5,
            "bin_end": 261,
            "count": 0
           },
           {
            "bin_start": 261,
            "bin_end": 266.5,
            "count": 1
           },
           {
            "bin_start": 266.5,
            "bin_end": 272,
            "count": 0
           },
           {
            "bin_start": 272,
            "bin_end": 277.5,
            "count": 0
           },
           {
            "bin_start": 277.5,
            "bin_end": 283,
            "count": 1
           },
           {
            "bin_start": 283,
            "bin_end": 288.5,
            "count": 0
           },
           {
            "bin_start": 288.5,
            "bin_end": 294,
            "count": 1
           }
          ]
         }
        },
        {
         "name": "Tested positive demise",
         "dtype": "int64",
         "stats": {
          "unique_count": 1,
          "nan_count": 0,
          "min": "0",
          "max": "0",
          "histogram": [
           {
            "bin_start": -0.5,
            "bin_end": -0.4,
            "count": 0
           },
           {
            "bin_start": -0.4,
            "bin_end": -0.3,
            "count": 0
           },
           {
            "bin_start": -0.3,
            "bin_end": -0.19999999999999996,
            "count": 0
           },
           {
            "bin_start": -0.19999999999999996,
            "bin_end": -0.09999999999999998,
            "count": 0
           },
           {
            "bin_start": -0.09999999999999998,
            "bin_end": 0,
            "count": 0
           },
           {
            "bin_start": 0,
            "bin_end": 0.10000000000000009,
            "count": 5
           },
           {
            "bin_start": 0.10000000000000009,
            "bin_end": 0.20000000000000007,
            "count": 0
           },
           {
            "bin_start": 0.20000000000000007,
            "bin_end": 0.30000000000000004,
            "count": 0
           },
           {
            "bin_start": 0.30000000000000004,
            "bin_end": 0.4,
            "count": 0
           },
           {
            "bin_start": 0.4,
            "bin_end": 0.5,
            "count": 0
           }
          ]
         }
        },
        {
         "name": "Daily Imported",
         "dtype": "int64",
         "stats": {
          "unique_count": 5,
          "nan_count": 0,
          "min": "1",
          "max": "13",
          "histogram": [
           {
            "bin_start": 1,
            "bin_end": 2.2,
            "count": 2
           },
           {
            "bin_start": 2.2,
            "bin_end": 3.4,
            "count": 0
           },
           {
            "bin_start": 3.4,
            "bin_end": 4.6,
            "count": 0
           },
           {
            "bin_start": 4.6,
            "bin_end": 5.8,
            "count": 0
           },
           {
            "bin_start": 5.8,
            "bin_end": 7,
            "count": 1
           },
           {
            "bin_start": 7,
            "bin_end": 8.2,
            "count": 0
           },
           {
            "bin_start": 8.2,
            "bin_end": 9.4,
            "count": 0
           },
           {
            "bin_start": 9.4,
            "bin_end": 10.6,
            "count": 0
           },
           {
            "bin_start": 10.6,
            "bin_end": 11.799999999999999,
            "count": 1
           },
           {
            "bin_start": 11.799999999999999,
            "bin_end": 13,
            "count": 1
           }
          ]
         }
        },
        {
         "name": "Daily Local transmission",
         "dtype": "int64",
         "stats": {
          "unique_count": 5,
          "nan_count": 0,
          "min": "2552",
          "max": "3981",
          "histogram": [
           {
            "bin_start": 2552,
            "bin_end": 2694.9,
            "count": 1
           },
           {
            "bin_start": 2694.9,
            "bin_end": 2837.8,
            "count": 0
           },
           {
            "bin_start": 2837.8,
            "bin_end": 2980.7,
            "count": 0
           },
           {
            "bin_start": 2980.7,
            "bin_end": 3123.6,
            "count": 0
           },
           {
            "bin_start": 3123.6,
            "bin_end": 3266.5,
            "count": 0
           },
           {
            "bin_start": 3266.5,
            "bin_end": 3409.4,
            "count": 0
           },
           {
            "bin_start": 3409.4,
            "bin_end": 3552.3,
            "count": 1
           },
           {
            "bin_start": 3552.3,
            "bin_end": 3695.2,
            "count": 1
           },
           {
            "bin_start": 3695.2,
            "bin_end": 3838.1000000000004,
            "count": 0
           },
           {
            "bin_start": 3838.1000000000004,
            "bin_end": 3981,
            "count": 2
           }
          ]
         }
        },
        {
         "name": "Local cases residing in dorms MOH report",
         "dtype": "float64",
         "stats": {
          "unique_count": 5,
          "nan_count": 0,
          "min": "500.0",
          "max": "630.0",
          "histogram": [
           {
            "bin_start": 500,
            "bin_end": 513,
            "count": 2
           },
           {
            "bin_start": 513,
            "bin_end": 526,
            "count": 0
           },
           {
            "bin_start": 526,
            "bin_end": 539,
            "count": 0
           },
           {
            "bin_start": 539,
            "bin_end": 552,
            "count": 1
           },
           {
            "bin_start": 552,
            "bin_end": 565,
            "count": 0
           },
           {
            "bin_start": 565,
            "bin_end": 578,
            "count": 0
           },
           {
            "bin_start": 578,
            "bin_end": 591,
            "count": 0
           },
           {
            "bin_start": 591,
            "bin_end": 604,
            "count": 1
           },
           {
            "bin_start": 604,
            "bin_end": 617,
            "count": 0
           },
           {
            "bin_start": 617,
            "bin_end": 630,
            "count": 1
           }
          ]
         }
        },
        {
         "name": "Local cases not residing in doms MOH report",
         "dtype": "float64",
         "stats": {
          "unique_count": 5,
          "nan_count": 0,
          "min": "2008.0",
          "max": "3480.0",
          "histogram": [
           {
            "bin_start": 2008,
            "bin_end": 2155.2,
            "count": 1
           },
           {
            "bin_start": 2155.2,
            "bin_end": 2302.4,
            "count": 0
           },
           {
            "bin_start": 2302.4,
            "bin_end": 2449.6,
            "count": 0
           },
           {
            "bin_start": 2449.6,
            "bin_end": 2596.8,
            "count": 0
           },
           {
            "bin_start": 2596.8,
            "bin_end": 2744,
            "count": 0
           },
           {
            "bin_start": 2744,
            "bin_end": 2891.2,
            "count": 0
           },
           {
            "bin_start": 2891.2,
            "bin_end": 3038.3999999999996,
            "count": 1
           },
           {
            "bin_start": 3038.3999999999996,
            "bin_end": 3185.6,
            "count": 1
           },
           {
            "bin_start": 3185.6,
            "bin_end": 3332.8,
            "count": 1
           },
           {
            "bin_start": 3332.8,
            "bin_end": 3480,
            "count": 1
           }
          ]
         }
        },
        {
         "name": "Intensive Care Unit (ICU)",
         "dtype": "int64",
         "stats": {
          "unique_count": 4,
          "nan_count": 0,
          "min": "57",
          "max": "71",
          "histogram": [
           {
            "bin_start": 57,
            "bin_end": 58.4,
            "count": 1
           },
           {
            "bin_start": 58.4,
            "bin_end": 59.8,
            "count": 0
           },
           {
            "bin_start": 59.8,
            "bin_end": 61.2,
            "count": 1
           },
           {
            "bin_start": 61.2,
            "bin_end": 62.6,
            "count": 0
           },
           {
            "bin_start": 62.6,
            "bin_end": 64,
            "count": 0
           },
           {
            "bin_start": 64,
            "bin_end": 65.4,
            "count": 0
           },
           {
            "bin_start": 65.4,
            "bin_end": 66.8,
            "count": 0
           },
           {
            "bin_start": 66.8,
            "bin_end": 68.2,
            "count": 2
           },
           {
            "bin_start": 68.2,
            "bin_end": 69.6,
            "count": 0
           },
           {
            "bin_start": 69.6,
            "bin_end": 71,
            "count": 1
           }
          ]
         }
        },
        {
         "name": "General Wards MOH report",
         "dtype": "float64",
         "stats": {
          "unique_count": 4,
          "nan_count": 0,
          "min": "1552.0",
          "max": "1667.0",
          "histogram": [
           {
            "bin_start": 1552,
            "bin_end": 1563.5,
            "count": 2
           },
           {
            "bin_start": 1563.5,
            "bin_end": 1575,
            "count": 0
           },
           {
            "bin_start": 1575,
            "bin_end": 1586.5,
            "count": 0
           },
           {
            "bin_start": 1586.5,
            "bin_end": 1598,
            "count": 0
           },
           {
            "bin_start": 1598,
            "bin_end": 1609.5,
            "count": 0
           },
           {
            "bin_start": 1609.5,
            "bin_end": 1621,
            "count": 0
           },
           {
            "bin_start": 1621,
            "bin_end": 1632.5,
            "count": 0
           },
           {
            "bin_start": 1632.5,
            "bin_end": 1644,
            "count": 0
           },
           {
            "bin_start": 1644,
            "bin_end": 1655.5,
            "count": 2
           },
           {
            "bin_start": 1655.5,
            "bin_end": 1667,
            "count": 1
           }
          ]
         }
        },
        {
         "name": "In Isolation MOH report",
         "dtype": "float64",
         "stats": {
          "unique_count": 5,
          "nan_count": 0,
          "min": "23742.0",
          "max": "28043.0",
          "histogram": [
           {
            "bin_start": 23742,
            "bin_end": 24172.1,
            "count": 1
           },
           {
            "bin_start": 24172.1,
            "bin_end": 24602.2,
            "count": 0
           },
           {
            "bin_start": 24602.2,
            "bin_end": 25032.3,
            "count": 0
           },
           {
            "bin_start": 25032.3,
            "bin_end": 25462.4,
            "count": 1
           },
           {
            "bin_start": 25462.4,
            "bin_end": 25892.5,
            "count": 0
           },
           {
            "bin_start": 25892.5,
            "bin_end": 26322.6,
            "count": 1
           },
           {
            "bin_start": 26322.6,
            "bin_end": 26752.7,
            "count": 0
           },
           {
            "bin_start": 26752.7,
            "bin_end": 27182.8,
            "count": 0
           },
           {
            "bin_start": 27182.8,
            "bin_end": 27612.9,
            "count": 1
           },
           {
            "bin_start": 27612.9,
            "bin_end": 28043,
            "count": 1
           }
          ]
         }
        },
        {
         "name": "Total Completed Isolation MOH report",
         "dtype": "float64",
         "stats": {
          "unique_count": 5,
          "nan_count": 0,
          "min": "116674.0",
          "max": "126750.0",
          "histogram": [
           {
            "bin_start": 116674,
            "bin_end": 117681.6,
            "count": 1
           },
           {
            "bin_start": 117681.6,
            "bin_end": 118689.2,
            "count": 0
           },
           {
            "bin_start": 118689.2,
            "bin_end": 119696.8,
            "count": 1
           },
           {
            "bin_start": 119696.8,
            "bin_end": 120704.4,
            "count": 0
           },
           {
            "bin_start": 120704.4,
            "bin_end": 121712,
            "count": 1
           },
           {
            "bin_start": 121712,
            "bin_end": 122719.6,
            "count": 0
           },
           {
            "bin_start": 122719.6,
            "bin_end": 123727.2,
            "count": 0
           },
           {
            "bin_start": 123727.2,
            "bin_end": 124734.8,
            "count": 1
           },
           {
            "bin_start": 124734.8,
            "bin_end": 125742.4,
            "count": 0
           },
           {
            "bin_start": 125742.4,
            "bin_end": 126750,
            "count": 1
           }
          ]
         }
        },
        {
         "name": "Total Hospital Discharged MOH report",
         "dtype": "float64",
         "stats": {
          "unique_count": 5,
          "nan_count": 0,
          "min": "8362.0",
          "max": "8967.0",
          "histogram": [
           {
            "bin_start": 8362,
            "bin_end": 8422.5,
            "count": 1
           },
           {
            "bin_start": 8422.5,
            "bin_end": 8483,
            "count": 0
           },
           {
            "bin_start": 8483,
            "bin_end": 8543.5,
            "count": 1
           },
           {
            "bin_start": 8543.5,
            "bin_end": 8604,
            "count": 0
           },
           {
            "bin_start": 8604,
            "bin_end": 8664.5,
            "count": 1
           },
           {
            "bin_start": 8664.5,
            "bin_end": 8725,
            "count": 0
           },
           {
            "bin_start": 8725,
            "bin_end": 8785.5,
            "count": 0
           },
           {
            "bin_start": 8785.5,
            "bin_end": 8846,
            "count": 1
           },
           {
            "bin_start": 8846,
            "bin_end": 8906.5,
            "count": 0
           },
           {
            "bin_start": 8906.5,
            "bin_end": 8967,
            "count": 1
           }
          ]
         }
        },
        {
         "name": "Requires Oxygen Supplementation",
         "dtype": "float64",
         "stats": {
          "unique_count": 3,
          "nan_count": 0,
          "min": "337.0",
          "max": "346.0",
          "histogram": [
           {
            "bin_start": 337,
            "bin_end": 337.9,
            "count": 2
           },
           {
            "bin_start": 337.9,
            "bin_end": 338.8,
            "count": 2
           },
           {
            "bin_start": 338.8,
            "bin_end": 339.7,
            "count": 0
           },
           {
            "bin_start": 339.7,
            "bin_end": 340.6,
            "count": 0
           },
           {
            "bin_start": 340.6,
            "bin_end": 341.5,
            "count": 0
           },
           {
            "bin_start": 341.5,
            "bin_end": 342.4,
            "count": 0
           },
           {
            "bin_start": 342.4,
            "bin_end": 343.3,
            "count": 0
           },
           {
            "bin_start": 343.3,
            "bin_end": 344.2,
            "count": 0
           },
           {
            "bin_start": 344.2,
            "bin_end": 345.1,
            "count": 0
           },
           {
            "bin_start": 345.1,
            "bin_end": 346,
            "count": 1
           }
          ]
         }
        },
        {
         "name": "Linked community cases",
         "dtype": "float64",
         "stats": {
          "unique_count": 0,
          "nan_count": 5,
          "min": null,
          "max": null,
          "histogram": [
           {
            "bin_start": 0,
            "bin_end": 0.1,
            "count": 0
           },
           {
            "bin_start": 0.1,
            "bin_end": 0.2,
            "count": 0
           },
           {
            "bin_start": 0.2,
            "bin_end": 0.30000000000000004,
            "count": 0
           },
           {
            "bin_start": 0.30000000000000004,
            "bin_end": 0.4,
            "count": 0
           },
           {
            "bin_start": 0.4,
            "bin_end": 0.5,
            "count": 0
           },
           {
            "bin_start": 0.5,
            "bin_end": 0.6000000000000001,
            "count": 0
           },
           {
            "bin_start": 0.6000000000000001,
            "bin_end": 0.7000000000000001,
            "count": 0
           },
           {
            "bin_start": 0.7000000000000001,
            "bin_end": 0.8,
            "count": 0
           },
           {
            "bin_start": 0.8,
            "bin_end": 0.9,
            "count": 0
           },
           {
            "bin_start": 0.9,
            "bin_end": 1,
            "count": 0
           }
          ]
         }
        },
        {
         "name": "Unlinked community cases",
         "dtype": "float64",
         "stats": {
          "unique_count": 0,
          "nan_count": 5,
          "min": null,
          "max": null,
          "histogram": [
           {
            "bin_start": 0,
            "bin_end": 0.1,
            "count": 0
           },
           {
            "bin_start": 0.1,
            "bin_end": 0.2,
            "count": 0
           },
           {
            "bin_start": 0.2,
            "bin_end": 0.30000000000000004,
            "count": 0
           },
           {
            "bin_start": 0.30000000000000004,
            "bin_end": 0.4,
            "count": 0
           },
           {
            "bin_start": 0.4,
            "bin_end": 0.5,
            "count": 0
           },
           {
            "bin_start": 0.5,
            "bin_end": 0.6000000000000001,
            "count": 0
           },
           {
            "bin_start": 0.6000000000000001,
            "bin_end": 0.7000000000000001,
            "count": 0
           },
           {
            "bin_start": 0.7000000000000001,
            "bin_end": 0.8,
            "count": 0
           },
           {
            "bin_start": 0.8,
            "bin_end": 0.9,
            "count": 0
           },
           {
            "bin_start": 0.9,
            "bin_end": 1,
            "count": 0
           }
          ]
         }
        },
        {
         "name": "Phase",
         "dtype": "object",
         "stats": {
          "unique_count": 1,
          "nan_count": 0,
          "categories": [
           {
            "name": "Stabilisation Phase",
            "count": 5
           }
          ]
         }
        },
        {
         "name": "Cumulative Vaccine Doses",
         "dtype": "float64",
         "stats": {
          "unique_count": 5,
          "nan_count": 0,
          "min": "9640810.0",
          "max": "9722320.0",
          "histogram": [
           {
            "bin_start": 9640810,
            "bin_end": 9648961,
            "count": 1
           },
           {
            "bin_start": 9648961,
            "bin_end": 9657112,
            "count": 0
           },
           {
            "bin_start": 9657112,
            "bin_end": 9665263,
            "count": 1
           },
           {
            "bin_start": 9665263,
            "bin_end": 9673414,
            "count": 0
           },
           {
            "bin_start": 9673414,
            "bin_end": 9681565,
            "count": 0
           },
           {
            "bin_start": 9681565,
            "bin_end": 9689716,
            "count": 1
           },
           {
            "bin_start": 9689716,
            "bin_end": 9697867,
            "count": 0
           },
           {
            "bin_start": 9697867,
            "bin_end": 9706018,
            "count": 1
           },
           {
            "bin_start": 9706018,
            "bin_end": 9714169,
            "count": 0
           },
           {
            "bin_start": 9714169,
            "bin_end": 9722320,
            "count": 1
           }
          ]
         }
        },
        {
         "name": "Cumulative Individuals Vaccinated",
         "dtype": "float64",
         "stats": {
          "unique_count": 5,
          "nan_count": 0,
          "min": "4620212.0",
          "max": "4626787.0",
          "histogram": [
           {
            "bin_start": 4620212,
            "bin_end": 4620869.5,
            "count": 1
           },
           {
            "bin_start": 4620869.5,
            "bin_end": 4621527,
            "count": 0
           },
           {
            "bin_start": 4621527,
            "bin_end": 4622184.5,
            "count": 0
           },
           {
            "bin_start": 4622184.5,
            "bin_end": 4622842,
            "count": 1
           },
           {
            "bin_start": 4622842,
            "bin_end": 4623499.5,
            "count": 0
           },
           {
            "bin_start": 4623499.5,
            "bin_end": 4624157,
            "count": 1
           },
           {
            "bin_start": 4624157,
            "bin_end": 4624814.5,
            "count": 0
           },
           {
            "bin_start": 4624814.5,
            "bin_end": 4625472,
            "count": 1
           },
           {
            "bin_start": 4625472,
            "bin_end": 4626129.5,
            "count": 0
           },
           {
            "bin_start": 4626129.5,
            "bin_end": 4626787,
            "count": 1
           }
          ]
         }
        },
        {
         "name": "Cumulative Individuals Vaccination Completed",
         "dtype": "float64",
         "stats": {
          "unique_count": 5,
          "nan_count": 0,
          "min": "4559408.0",
          "max": "4568842.0",
          "histogram": [
           {
            "bin_start": 4559408,
            "bin_end": 4560351.4,
            "count": 1
           },
           {
            "bin_start": 4560351.4,
            "bin_end": 4561294.8,
            "count": 0
           },
           {
            "bin_start": 4561294.8,
            "bin_end": 4562238.2,
            "count": 0
           },
           {
            "bin_start": 4562238.2,
            "bin_end": 4563181.6,
            "count": 1
           },
           {
            "bin_start": 4563181.6,
            "bin_end": 4564125,
            "count": 1
           },
           {
            "bin_start": 4564125,
            "bin_end": 4565068.4,
            "count": 0
           },
           {
            "bin_start": 4565068.4,
            "bin_end": 4566011.8,
            "count": 0
           },
           {
            "bin_start": 4566011.8,
            "bin_end": 4566955.2,
            "count": 0
           },
           {
            "bin_start": 4566955.2,
            "bin_end": 4567898.6,
            "count": 1
           },
           {
            "bin_start": 4567898.6,
            "bin_end": 4568842,
            "count": 1
           }
          ]
         }
        },
        {
         "name": "Perc population completed at least one dose",
         "dtype": "float64",
         "stats": {
          "unique_count": 1,
          "nan_count": 0,
          "min": "0.85",
          "max": "0.85",
          "histogram": [
           {
            "bin_start": 0.35,
            "bin_end": 0.44999999999999996,
            "count": 0
           },
           {
            "bin_start": 0.44999999999999996,
            "bin_end": 0.55,
            "count": 0
           },
           {
            "bin_start": 0.55,
            "bin_end": 0.65,
            "count": 0
           },
           {
            "bin_start": 0.65,
            "bin_end": 0.75,
            "count": 0
           },
           {
            "bin_start": 0.75,
            "bin_end": 0.85,
            "count": 0
           },
           {
            "bin_start": 0.85,
            "bin_end": 0.9500000000000001,
            "count": 5
           },
           {
            "bin_start": 0.9500000000000001,
            "bin_end": 1.05,
            "count": 0
           },
           {
            "bin_start": 1.05,
            "bin_end": 1.15,
            "count": 0
           },
           {
            "bin_start": 1.15,
            "bin_end": 1.25,
            "count": 0
           },
           {
            "bin_start": 1.25,
            "bin_end": 1.35,
            "count": 0
           }
          ]
         }
        },
        {
         "name": "Perc population completed vaccination",
         "dtype": "float64",
         "stats": {
          "unique_count": 1,
          "nan_count": 0,
          "min": "0.84",
          "max": "0.84",
          "histogram": [
           {
            "bin_start": 0.33999999999999997,
            "bin_end": 0.43999999999999995,
            "count": 0
           },
           {
            "bin_start": 0.43999999999999995,
            "bin_end": 0.5399999999999999,
            "count": 0
           },
           {
            "bin_start": 0.5399999999999999,
            "bin_end": 0.6399999999999999,
            "count": 0
           },
           {
            "bin_start": 0.6399999999999999,
            "bin_end": 0.74,
            "count": 0
           },
           {
            "bin_start": 0.74,
            "bin_end": 0.8399999999999999,
            "count": 0
           },
           {
            "bin_start": 0.8399999999999999,
            "bin_end": 0.94,
            "count": 5
           },
           {
            "bin_start": 0.94,
            "bin_end": 1.04,
            "count": 0
           },
           {
            "bin_start": 1.04,
            "bin_end": 1.14,
            "count": 0
           },
           {
            "bin_start": 1.14,
            "bin_end": 1.2399999999999998,
            "count": 0
           },
           {
            "bin_start": 1.2399999999999998,
            "bin_end": 1.3399999999999999,
            "count": 0
           }
          ]
         }
        },
        {
         "name": "Sinovac vaccine doses",
         "dtype": "float64",
         "stats": {
          "unique_count": 0,
          "nan_count": 5,
          "min": null,
          "max": null,
          "histogram": [
           {
            "bin_start": 0,
            "bin_end": 0.1,
            "count": 0
           },
           {
            "bin_start": 0.1,
            "bin_end": 0.2,
            "count": 0
           },
           {
            "bin_start": 0.2,
            "bin_end": 0.30000000000000004,
            "count": 0
           },
           {
            "bin_start": 0.30000000000000004,
            "bin_end": 0.4,
            "count": 0
           },
           {
            "bin_start": 0.4,
            "bin_end": 0.5,
            "count": 0
           },
           {
            "bin_start": 0.5,
            "bin_end": 0.6000000000000001,
            "count": 0
           },
           {
            "bin_start": 0.6000000000000001,
            "bin_end": 0.7000000000000001,
            "count": 0
           },
           {
            "bin_start": 0.7000000000000001,
            "bin_end": 0.8,
            "count": 0
           },
           {
            "bin_start": 0.8,
            "bin_end": 0.9,
            "count": 0
           },
           {
            "bin_start": 0.9,
            "bin_end": 1,
            "count": 0
           }
          ]
         }
        },
        {
         "name": "Cumulative individuals using Sinovac vaccine",
         "dtype": "float64",
         "stats": {
          "unique_count": 0,
          "nan_count": 5,
          "min": null,
          "max": null,
          "histogram": [
           {
            "bin_start": 0,
            "bin_end": 0.1,
            "count": 0
           },
           {
            "bin_start": 0.1,
            "bin_end": 0.2,
            "count": 0
           },
           {
            "bin_start": 0.2,
            "bin_end": 0.30000000000000004,
            "count": 0
           },
           {
            "bin_start": 0.30000000000000004,
            "bin_end": 0.4,
            "count": 0
           },
           {
            "bin_start": 0.4,
            "bin_end": 0.5,
            "count": 0
           },
           {
            "bin_start": 0.5,
            "bin_end": 0.6000000000000001,
            "count": 0
           },
           {
            "bin_start": 0.6000000000000001,
            "bin_end": 0.7000000000000001,
            "count": 0
           },
           {
            "bin_start": 0.7000000000000001,
            "bin_end": 0.8,
            "count": 0
           },
           {
            "bin_start": 0.8,
            "bin_end": 0.9,
            "count": 0
           },
           {
            "bin_start": 0.9,
            "bin_end": 1,
            "count": 0
           }
          ]
         }
        },
        {
         "name": "Doses of other vaccines recognised by WHO",
         "dtype": "float64",
         "stats": {
          "unique_count": 5,
          "nan_count": 0,
          "min": "226702.0",
          "max": "234168.0",
          "histogram": [
           {
            "bin_start": 226702,
            "bin_end": 227448.6,
            "count": 1
           },
           {
            "bin_start": 227448.6,
            "bin_end": 228195.2,
            "count": 1
           },
           {
            "bin_start": 228195.2,
            "bin_end": 228941.8,
            "count": 0
           },
           {
            "bin_start": 228941.8,
            "bin_end": 229688.4,
            "count": 1
           },
           {
            "bin_start": 229688.4,
            "bin_end": 230435,
            "count": 0
           },
           {
            "bin_start": 230435,
            "bin_end": 231181.6,
            "count": 1
           },
           {
            "bin_start": 231181.6,
            "bin_end": 231928.2,
            "count": 0
           },
           {
            "bin_start": 231928.2,
            "bin_end": 232674.8,
            "count": 0
           },
           {
            "bin_start": 232674.8,
            "bin_end": 233421.4,
            "count": 0
           },
           {
            "bin_start": 233421.4,
            "bin_end": 234168,
            "count": 1
           }
          ]
         }
        },
        {
         "name": "Cumulative individuals using other vaccines recognised by WHO",
         "dtype": "float64",
         "stats": {
          "unique_count": 5,
          "nan_count": 0,
          "min": "118214.0",
          "max": "120594.0",
          "histogram": [
           {
            "bin_start": 118214,
            "bin_end": 118452,
            "count": 1
           },
           {
            "bin_start": 118452,
            "bin_end": 118690,
            "count": 1
           },
           {
            "bin_start": 118690,
            "bin_end": 118928,
            "count": 0
           },
           {
            "bin_start": 118928,
            "bin_end": 119166,
            "count": 1
           },
           {
            "bin_start": 119166,
            "bin_end": 119404,
            "count": 0
           },
           {
            "bin_start": 119404,
            "bin_end": 119642,
            "count": 0
           },
           {
            "bin_start": 119642,
            "bin_end": 119880,
            "count": 1
           },
           {
            "bin_start": 119880,
            "bin_end": 120118,
            "count": 0
           },
           {
            "bin_start": 120118,
            "bin_end": 120356,
            "count": 0
           },
           {
            "bin_start": 120356,
            "bin_end": 120594,
            "count": 1
           }
          ]
         }
        },
        {
         "name": "Unnamed: 34",
         "dtype": "float64",
         "stats": {
          "unique_count": 0,
          "nan_count": 5,
          "min": null,
          "max": null,
          "histogram": [
           {
            "bin_start": 0,
            "bin_end": 0.1,
            "count": 0
           },
           {
            "bin_start": 0.1,
            "bin_end": 0.2,
            "count": 0
           },
           {
            "bin_start": 0.2,
            "bin_end": 0.30000000000000004,
            "count": 0
           },
           {
            "bin_start": 0.30000000000000004,
            "bin_end": 0.4,
            "count": 0
           },
           {
            "bin_start": 0.4,
            "bin_end": 0.5,
            "count": 0
           },
           {
            "bin_start": 0.5,
            "bin_end": 0.6000000000000001,
            "count": 0
           },
           {
            "bin_start": 0.6000000000000001,
            "bin_end": 0.7000000000000001,
            "count": 0
           },
           {
            "bin_start": 0.7000000000000001,
            "bin_end": 0.8,
            "count": 0
           },
           {
            "bin_start": 0.8,
            "bin_end": 0.9,
            "count": 0
           },
           {
            "bin_start": 0.9,
            "bin_end": 1,
            "count": 0
           }
          ]
         }
        },
        {
         "name": "Unnamed: 35",
         "dtype": "float64",
         "stats": {
          "unique_count": 0,
          "nan_count": 5,
          "min": null,
          "max": null,
          "histogram": [
           {
            "bin_start": 0,
            "bin_end": 0.1,
            "count": 0
           },
           {
            "bin_start": 0.1,
            "bin_end": 0.2,
            "count": 0
           },
           {
            "bin_start": 0.2,
            "bin_end": 0.30000000000000004,
            "count": 0
           },
           {
            "bin_start": 0.30000000000000004,
            "bin_end": 0.4,
            "count": 0
           },
           {
            "bin_start": 0.4,
            "bin_end": 0.5,
            "count": 0
           },
           {
            "bin_start": 0.5,
            "bin_end": 0.6000000000000001,
            "count": 0
           },
           {
            "bin_start": 0.6000000000000001,
            "bin_end": 0.7000000000000001,
            "count": 0
           },
           {
            "bin_start": 0.7000000000000001,
            "bin_end": 0.8,
            "count": 0
           },
           {
            "bin_start": 0.8,
            "bin_end": 0.9,
            "count": 0
           },
           {
            "bin_start": 0.9,
            "bin_end": 1,
            "count": 0
           }
          ]
         }
        },
        {
         "name": "Unnamed: 36",
         "dtype": "float64",
         "stats": {
          "unique_count": 0,
          "nan_count": 5,
          "min": null,
          "max": null,
          "histogram": [
           {
            "bin_start": 0,
            "bin_end": 0.1,
            "count": 0
           },
           {
            "bin_start": 0.1,
            "bin_end": 0.2,
            "count": 0
           },
           {
            "bin_start": 0.2,
            "bin_end": 0.30000000000000004,
            "count": 0
           },
           {
            "bin_start": 0.30000000000000004,
            "bin_end": 0.4,
            "count": 0
           },
           {
            "bin_start": 0.4,
            "bin_end": 0.5,
            "count": 0
           },
           {
            "bin_start": 0.5,
            "bin_end": 0.6000000000000001,
            "count": 0
           },
           {
            "bin_start": 0.6000000000000001,
            "bin_end": 0.7000000000000001,
            "count": 0
           },
           {
            "bin_start": 0.7000000000000001,
            "bin_end": 0.8,
            "count": 0
           },
           {
            "bin_start": 0.8,
            "bin_end": 0.9,
            "count": 0
           },
           {
            "bin_start": 0.9,
            "bin_end": 1,
            "count": 0
           }
          ]
         }
        },
        {
         "name": "_deepnote_index_column",
         "dtype": "int64"
        }
       ],
       "rows_top": [
        {
         "Date": "2021-10-18",
         "Daily Confirmed": 2553,
         "False Positives Found": 0,
         "Cumulative Confirmed": 150731,
         "Daily Discharged": 3071,
         "Passed but not due to COVID": 0,
         "Cumulative Discharged": 125058,
         "Discharged to Isolation": 23742,
         "Still Hospitalised": 1684,
         "Daily Deaths": 6,
         "Cumulative Deaths": 239,
         "Tested positive demise": 0,
         "Daily Imported": 1,
         "Daily Local transmission": 2552,
         "Local cases residing in dorms MOH report": 544,
         "Local cases not residing in doms MOH report": 2008,
         "Intensive Care Unit (ICU)": 67,
         "General Wards MOH report": 1647,
         "In Isolation MOH report": 23742,
         "Total Completed Isolation MOH report": 116674,
         "Total Hospital Discharged MOH report": 8362,
         "Requires Oxygen Supplementation": 337,
         "Linked community cases": "nan",
         "Unlinked community cases": "nan",
         "Phase": "Stabilisation Phase",
         "Cumulative Vaccine Doses": 9640810,
         "Cumulative Individuals Vaccinated": 4620212,
         "Cumulative Individuals Vaccination Completed": 4559408,
         "Perc population completed at least one dose": 0.85,
         "Perc population completed vaccination": 0.84,
         "Sinovac vaccine doses": "nan",
         "Cumulative individuals using Sinovac vaccine": "nan",
         "Doses of other vaccines recognised by WHO": 226702,
         "Cumulative individuals using other vaccines recognised by WHO": 118214,
         "Unnamed: 34": "nan",
         "Unnamed: 35": "nan",
         "Unnamed: 36": "nan",
         "_deepnote_index_column": 634
        },
        {
         "Date": "2021-10-19",
         "Daily Confirmed": 3994,
         "False Positives Found": 0,
         "Cumulative Confirmed": 154725,
         "Daily Discharged": 2535,
         "Passed but not due to COVID": 0,
         "Cumulative Discharged": 127593,
         "Discharged to Isolation": 25170,
         "Still Hospitalised": 1708,
         "Daily Deaths": 7,
         "Cumulative Deaths": 246,
         "Tested positive demise": 0,
         "Daily Imported": 13,
         "Daily Local transmission": 3981,
         "Local cases residing in dorms MOH report": 501,
         "Local cases not residing in doms MOH report": 3480,
         "Intensive Care Unit (ICU)": 71,
         "General Wards MOH report": 1667,
         "In Isolation MOH report": 25170,
         "Total Completed Isolation MOH report": 119070,
         "Total Hospital Discharged MOH report": 8501,
         "Requires Oxygen Supplementation": 338,
         "Linked community cases": "nan",
         "Unlinked community cases": "nan",
         "Phase": "Stabilisation Phase",
         "Cumulative Vaccine Doses": 9662027,
         "Cumulative Individuals Vaccinated": 4622432,
         "Cumulative Individuals Vaccination Completed": 4562307,
         "Perc population completed at least one dose": 0.85,
         "Perc population completed vaccination": 0.84,
         "Sinovac vaccine doses": "nan",
         "Cumulative individuals using Sinovac vaccine": "nan",
         "Doses of other vaccines recognised by WHO": 227800,
         "Cumulative individuals using other vaccines recognised by WHO": 118598,
         "Unnamed: 34": "nan",
         "Unnamed: 35": "nan",
         "Unnamed: 36": "nan",
         "_deepnote_index_column": 635
        },
        {
         "Date": "2021-10-20",
         "Daily Confirmed": 3862,
         "False Positives Found": 0,
         "Cumulative Confirmed": 158587,
         "Daily Discharged": 2715,
         "Passed but not due to COVID": 0,
         "Cumulative Discharged": 130308,
         "Discharged to Isolation": 26319,
         "Still Hospitalised": 1688,
         "Daily Deaths": 18,
         "Cumulative Deaths": 264,
         "Tested positive demise": 0,
         "Daily Imported": 11,
         "Daily Local transmission": 3851,
         "Local cases residing in dorms MOH report": 630,
         "Local cases not residing in doms MOH report": 3221,
         "Intensive Care Unit (ICU)": 67,
         "General Wards MOH report": 1651,
         "In Isolation MOH report": 26319,
         "Total Completed Isolation MOH report": 121624,
         "Total Hospital Discharged MOH report": 8662,
         "Requires Oxygen Supplementation": 337,
         "Linked community cases": "nan",
         "Unlinked community cases": "nan",
         "Phase": "Stabilisation Phase",
         "Cumulative Vaccine Doses": 9683226,
         "Cumulative Individuals Vaccinated": 4623926,
         "Cumulative Individuals Vaccination Completed": 4563906,
         "Perc population completed at least one dose": 0.85,
         "Perc population completed vaccination": 0.84,
         "Sinovac vaccine doses": "nan",
         "Cumulative individuals using Sinovac vaccine": "nan",
         "Doses of other vaccines recognised by WHO": 229117,
         "Cumulative individuals using other vaccines recognised by WHO": 119071,
         "Unnamed: 34": "nan",
         "Unnamed: 35": "nan",
         "Unnamed: 36": "nan",
         "_deepnote_index_column": 636
        },
        {
         "Date": "2021-10-21",
         "Daily Confirmed": 3439,
         "False Positives Found": 0,
         "Cumulative Confirmed": 162026,
         "Daily Discharged": 2606,
         "Passed but not due to COVID": 0,
         "Cumulative Discharged": 132914,
         "Discharged to Isolation": 27241,
         "Still Hospitalised": 1583,
         "Daily Deaths": 16,
         "Cumulative Deaths": 280,
         "Tested positive demise": 0,
         "Daily Imported": 2,
         "Daily Local transmission": 3437,
         "Local cases residing in dorms MOH report": 500,
         "Local cases not residing in doms MOH report": 2937,
         "Intensive Care Unit (ICU)": 61,
         "General Wards MOH report": 1552,
         "In Isolation MOH report": 27241,
         "Total Completed Isolation MOH report": 124055,
         "Total Hospital Discharged MOH report": 8837,
         "Requires Oxygen Supplementation": 346,
         "Linked community cases": "nan",
         "Unlinked community cases": "nan",
         "Phase": "Stabilisation Phase",
         "Cumulative Vaccine Doses": 9701329,
         "Cumulative Individuals Vaccinated": 4625367,
         "Cumulative Individuals Vaccination Completed": 4567666,
         "Perc population completed at least one dose": 0.85,
         "Perc population completed vaccination": 0.84,
         "Sinovac vaccine doses": "nan",
         "Cumulative individuals using Sinovac vaccine": "nan",
         "Doses of other vaccines recognised by WHO": 230651,
         "Cumulative individuals using other vaccines recognised by WHO": 119711,
         "Unnamed: 34": "nan",
         "Unnamed: 35": "nan",
         "Unnamed: 36": "nan",
         "_deepnote_index_column": 637
        },
        {
         "Date": "2021-10-22",
         "Daily Confirmed": 3637,
         "False Positives Found": 0,
         "Cumulative Confirmed": 165663,
         "Daily Discharged": 2825,
         "Passed but not due to COVID": 0,
         "Cumulative Discharged": 135739,
         "Discharged to Isolation": 28043,
         "Still Hospitalised": 1579,
         "Daily Deaths": 14,
         "Cumulative Deaths": 294,
         "Tested positive demise": 0,
         "Daily Imported": 6,
         "Daily Local transmission": 3631,
         "Local cases residing in dorms MOH report": 592,
         "Local cases not residing in doms MOH report": 3039,
         "Intensive Care Unit (ICU)": 57,
         "General Wards MOH report": 1552,
         "In Isolation MOH report": 28043,
         "Total Completed Isolation MOH report": 126750,
         "Total Hospital Discharged MOH report": 8967,
         "Requires Oxygen Supplementation": 338,
         "Linked community cases": "nan",
         "Unlinked community cases": "nan",
         "Phase": "Stabilisation Phase",
         "Cumulative Vaccine Doses": 9722320,
         "Cumulative Individuals Vaccinated": 4626787,
         "Cumulative Individuals Vaccination Completed": 4568842,
         "Perc population completed at least one dose": 0.85,
         "Perc population completed vaccination": 0.84,
         "Sinovac vaccine doses": "nan",
         "Cumulative individuals using Sinovac vaccine": "nan",
         "Doses of other vaccines recognised by WHO": 234168,
         "Cumulative individuals using other vaccines recognised by WHO": 120594,
         "Unnamed: 34": "nan",
         "Unnamed: 35": "nan",
         "Unnamed: 36": "nan",
         "_deepnote_index_column": 638
        }
       ],
       "rows_bottom": null
      },
      "text/plain": "           Date  Daily Confirmed  False Positives Found  Cumulative Confirmed  \\\n634  2021-10-18             2553                    0.0                150731   \n635  2021-10-19             3994                    0.0                154725   \n636  2021-10-20             3862                    0.0                158587   \n637  2021-10-21             3439                    0.0                162026   \n638  2021-10-22             3637                    0.0                165663   \n\n     Daily Discharged  Passed but not due to COVID  Cumulative Discharged  \\\n634              3071                            0                 125058   \n635              2535                            0                 127593   \n636              2715                            0                 130308   \n637              2606                            0                 132914   \n638              2825                            0                 135739   \n\n     Discharged to Isolation  Still Hospitalised  Daily Deaths  ...  \\\n634                    23742                1684             6  ...   \n635                    25170                1708             7  ...   \n636                    26319                1688            18  ...   \n637                    27241                1583            16  ...   \n638                    28043                1579            14  ...   \n\n     Cumulative Individuals Vaccination Completed  \\\n634                                     4559408.0   \n635                                     4562307.0   \n636                                     4563906.0   \n637                                     4567666.0   \n638                                     4568842.0   \n\n     Perc population completed at least one dose  \\\n634                                         0.85   \n635                                         0.85   \n636                                         0.85   \n637                                         0.85   \n638                                         0.85   \n\n     Perc population completed vaccination  Sinovac vaccine doses  \\\n634                                   0.84                    NaN   \n635                                   0.84                    NaN   \n636                                   0.84                    NaN   \n637                                   0.84                    NaN   \n638                                   0.84                    NaN   \n\n     Cumulative individuals using Sinovac vaccine  \\\n634                                           NaN   \n635                                           NaN   \n636                                           NaN   \n637                                           NaN   \n638                                           NaN   \n\n     Doses of other vaccines recognised by WHO  \\\n634                                   226702.0   \n635                                   227800.0   \n636                                   229117.0   \n637                                   230651.0   \n638                                   234168.0   \n\n     Cumulative individuals using other vaccines recognised by WHO  \\\n634                                           118214.0               \n635                                           118598.0               \n636                                           119071.0               \n637                                           119711.0               \n638                                           120594.0               \n\n     Unnamed: 34  Unnamed: 35  Unnamed: 36  \n634          NaN          NaN          NaN  \n635          NaN          NaN          NaN  \n636          NaN          NaN          NaN  \n637          NaN          NaN          NaN  \n638          NaN          NaN          NaN  \n\n[5 rows x 37 columns]",
      "text/html": "<div>\n<style scoped>\n    .dataframe tbody tr th:only-of-type {\n        vertical-align: middle;\n    }\n\n    .dataframe tbody tr th {\n        vertical-align: top;\n    }\n\n    .dataframe thead th {\n        text-align: right;\n    }\n</style>\n<table border=\"1\" class=\"dataframe\">\n  <thead>\n    <tr style=\"text-align: right;\">\n      <th></th>\n      <th>Date</th>\n      <th>Daily Confirmed</th>\n      <th>False Positives Found</th>\n      <th>Cumulative Confirmed</th>\n      <th>Daily Discharged</th>\n      <th>Passed but not due to COVID</th>\n      <th>Cumulative Discharged</th>\n      <th>Discharged to Isolation</th>\n      <th>Still Hospitalised</th>\n      <th>Daily Deaths</th>\n      <th>...</th>\n      <th>Cumulative Individuals Vaccination Completed</th>\n      <th>Perc population completed at least one dose</th>\n      <th>Perc population completed vaccination</th>\n      <th>Sinovac vaccine doses</th>\n      <th>Cumulative individuals using Sinovac vaccine</th>\n      <th>Doses of other vaccines recognised by WHO</th>\n      <th>Cumulative individuals using other vaccines recognised by WHO</th>\n      <th>Unnamed: 34</th>\n      <th>Unnamed: 35</th>\n      <th>Unnamed: 36</th>\n    </tr>\n  </thead>\n  <tbody>\n    <tr>\n      <th>634</th>\n      <td>2021-10-18</td>\n      <td>2553</td>\n      <td>0.0</td>\n      <td>150731</td>\n      <td>3071</td>\n      <td>0</td>\n      <td>125058</td>\n      <td>23742</td>\n      <td>1684</td>\n      <td>6</td>\n      <td>...</td>\n      <td>4559408.0</td>\n      <td>0.85</td>\n      <td>0.84</td>\n      <td>NaN</td>\n      <td>NaN</td>\n      <td>226702.0</td>\n      <td>118214.0</td>\n      <td>NaN</td>\n      <td>NaN</td>\n      <td>NaN</td>\n    </tr>\n    <tr>\n      <th>635</th>\n      <td>2021-10-19</td>\n      <td>3994</td>\n      <td>0.0</td>\n      <td>154725</td>\n      <td>2535</td>\n      <td>0</td>\n      <td>127593</td>\n      <td>25170</td>\n      <td>1708</td>\n      <td>7</td>\n      <td>...</td>\n      <td>4562307.0</td>\n      <td>0.85</td>\n      <td>0.84</td>\n      <td>NaN</td>\n      <td>NaN</td>\n      <td>227800.0</td>\n      <td>118598.0</td>\n      <td>NaN</td>\n      <td>NaN</td>\n      <td>NaN</td>\n    </tr>\n    <tr>\n      <th>636</th>\n      <td>2021-10-20</td>\n      <td>3862</td>\n      <td>0.0</td>\n      <td>158587</td>\n      <td>2715</td>\n      <td>0</td>\n      <td>130308</td>\n      <td>26319</td>\n      <td>1688</td>\n      <td>18</td>\n      <td>...</td>\n      <td>4563906.0</td>\n      <td>0.85</td>\n      <td>0.84</td>\n      <td>NaN</td>\n      <td>NaN</td>\n      <td>229117.0</td>\n      <td>119071.0</td>\n      <td>NaN</td>\n      <td>NaN</td>\n      <td>NaN</td>\n    </tr>\n    <tr>\n      <th>637</th>\n      <td>2021-10-21</td>\n      <td>3439</td>\n      <td>0.0</td>\n      <td>162026</td>\n      <td>2606</td>\n      <td>0</td>\n      <td>132914</td>\n      <td>27241</td>\n      <td>1583</td>\n      <td>16</td>\n      <td>...</td>\n      <td>4567666.0</td>\n      <td>0.85</td>\n      <td>0.84</td>\n      <td>NaN</td>\n      <td>NaN</td>\n      <td>230651.0</td>\n      <td>119711.0</td>\n      <td>NaN</td>\n      <td>NaN</td>\n      <td>NaN</td>\n    </tr>\n    <tr>\n      <th>638</th>\n      <td>2021-10-22</td>\n      <td>3637</td>\n      <td>0.0</td>\n      <td>165663</td>\n      <td>2825</td>\n      <td>0</td>\n      <td>135739</td>\n      <td>28043</td>\n      <td>1579</td>\n      <td>14</td>\n      <td>...</td>\n      <td>4568842.0</td>\n      <td>0.85</td>\n      <td>0.84</td>\n      <td>NaN</td>\n      <td>NaN</td>\n      <td>234168.0</td>\n      <td>120594.0</td>\n      <td>NaN</td>\n      <td>NaN</td>\n      <td>NaN</td>\n    </tr>\n  </tbody>\n</table>\n<p>5 rows × 37 columns</p>\n</div>"
     },
     "metadata": {}
    }
   ],
   "execution_count": 13
  },
  {
   "cell_type": "code",
   "metadata": {
    "tags": [],
    "cell_id": "00001-f307e8dc-0b37-4176-a8ef-eceb6f83248e",
    "deepnote_cell_type": "code"
   },
   "source": "# Multiple Linear Regression\n\nimport numpy as np\nimport pandas as pd\n\n# Importing the datasets\n\nX = datasets.iloc[:, :-1].values\nY = datasets.iloc[:, 4].values\n\n# Encoding categorical data\n\n# Encoding the Independent Variable\n\nfrom sklearn.preprocessing import LabelEncoder, OneHotEncoder\nlabelencoder_X = LabelEncoder()\nX[:, 3] = labelencoder_X.fit_transform(X[:, 3])\nonehotencoder = OneHotEncoder(categorical_features = [3])\nX = onehotencoder.fit_transform(X).toarray()\n\n# Avoiding the Dummy Variable Trap\nX = X[:, 1:]\n\n# Splitting the dataset into the Training set and Test set\n\nfrom sklearn.model_selection import train_test_split\nX_Train, X_Test, Y_Train, Y_Test = train_test_split(X, Y, test_size = 0.2, random_state = 0)\n\n# Fitting the Multiple Linear Regression in the Training set\n\nfrom sklearn.linear_model import LinearRegression\nregressor = LinearRegression()\nregressor.fit(X_Train, Y_Train)\n\n# Predicting the Test set results\n\nY_Pred = regressor.predict(X_Test)\n\n# Building the optimal model using Backward Elimination\n\nimport statsmodels.formula.api as sm\nX = np.append(arr = np.ones((50, 1)).astype(int), values = X, axis = 1)\n\nX_Optimal = X[:, [0,1,2,3,4,5]]\nregressor_OLS = sm.OLS(endog = Y, exog = X_Optimal).fit()\nregressor_OLS.summary()\n\nX_Optimal = X[:, [0,1,2,4,5]]\nregressor_OLS = sm.OLS(endog = Y, exog = X_Optimal).fit()\nregressor_OLS.summary()\n\nX_Optimal = X[:, [0,1,4,5]]\nregressor_OLS = sm.OLS(endog = Y, exog = X_Optimal).fit()\nregressor_OLS.summary()\n\nX_Optimal = X[:, [0,1,4]]\nregressor_OLS = sm.OLS(endog = Y, exog = X_Optimal).fit()\nregressor_OLS.summary()\n\n# Fitting the Multiple Linear Regression in the Optimal Training set\n\nX_Optimal_Train, X_Optimal_Test = train_test_split(X_Optimal,test_size = 0.2, random_state = 0)\nregressor.fit(X_Optimal_Train, Y_Train)\n\n# Predicting the Optimal Test set results\n\nY_Optimal_Pred = regressor.predict(X_Optimal_Test)",
   "execution_count": null,
   "outputs": []
  },
  {
   "cell_type": "code",
   "metadata": {
    "tags": [],
    "cell_id": "00001-6e463c95-0415-4f2b-b591-46e362cc05db",
    "deepnote_cell_type": "code"
   },
   "source": "",
   "execution_count": null,
   "outputs": []
  },
  {
   "cell_type": "markdown",
   "source": "<a style='text-decoration:none;line-height:16px;display:flex;color:#5B5B62;padding:10px;justify-content:end;' href='https://deepnote.com?utm_source=created-in-deepnote-cell&projectId=8063f459-52be-4c78-9eaa-2f01d373f9b4' target=\"_blank\">\n<img alt='Created in deepnote.com' style='display:inline;max-height:16px;margin:0px;margin-right:7.5px;' src='data:image/svg+xml;base64,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' > </img>\nCreated in <span style='font-weight:600;margin-left:4px;'>Deepnote</span></a>",
   "metadata": {
    "tags": [],
    "created_in_deepnote_cell": true,
    "deepnote_cell_type": "markdown"
   }
  }
 ],
 "nbformat": 4,
 "nbformat_minor": 2,
 "metadata": {
  "orig_nbformat": 2,
  "deepnote": {
   "is_reactive": false
  },
  "deepnote_notebook_id": "3e20db9b-7d5b-427e-ab40-0553de67aec8",
  "deepnote_execution_queue": []
 }
}