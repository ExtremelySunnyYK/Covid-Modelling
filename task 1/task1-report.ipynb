{
 "cells": [
  {
   "cell_type": "markdown",
   "metadata": {
    "deletable": false,
    "editable": false,
    "nbgrader": {
     "grade": false,
     "locked": true,
     "solution": false
    }
   },
   "source": [
    "# 2D Design Template"
   ]
  },
  {
   "cell_type": "markdown",
   "metadata": {
    "deletable": false,
    "editable": false,
    "nbgrader": {
     "grade": false,
     "locked": true,
     "solution": false
    }
   },
   "source": [
    "# Overview\n",
    "\n"
   ]
  },
  {
   "cell_type": "markdown",
   "metadata": {},
   "source": [
    "## Students Submission\n",
    "\n",
    "Student's Name:\n",
    "- Chia Yong Kang (1005121)\n",
    "- Tze Liang (1005452)\n",
    "- Jodi Wu (1005224)\n",
    "- Krittanat (1005609)\n",
    "- Atisha Teriyapirom (1005244)\n"
   ]
  },
  {
   "cell_type": "markdown",
   "metadata": {},
   "source": [
    "# Part 1"
   ]
  },
  {
   "cell_type": "markdown",
   "metadata": {},
   "source": [
    "Write your report here"
   ]
  },
  {
   "cell_type": "code",
   "execution_count": null,
   "metadata": {},
   "outputs": [],
   "source": []
  },
  {
   "cell_type": "code",
   "execution_count": 2,
   "metadata": {
    "collapsed": true
   },
   "outputs": [],
   "source": [
    "import numpy as np # linear algebra\n",
    "import pandas as pd # data processing, CSV file I/O (e.g. pd.read_csv)\n",
    "\n",
    "\n",
    "# Donwloading Datasets\n",
    "confirmed_df = pd.read_csv('https://raw.githubusercontent.com/CSSEGISandData/COVID-19/master/csse_covid_19_data/csse_covid_19_time_series/time_series_covid19_confirmed_global.csv')\n",
    "deaths_df = pd.read_csv('https://raw.githubusercontent.com/CSSEGISandData/COVID-19/master/csse_covid_19_data/csse_covid_19_time_series/time_series_covid19_deaths_global.csv')\n",
    "recoveries_df = pd.read_csv('https://raw.githubusercontent.com/CSSEGISandData/COVID-19/master/csse_covid_19_data/csse_covid_19_time_series/time_series_covid19_recovered_global.csv')\n",
    "latest_data = pd.read_csv('https://raw.githubusercontent.com/CSSEGISandData/COVID-19/master/csse_covid_19_data/csse_covid_19_daily_reports/08-22-2020.csv')\n",
    "us_medical_data = pd.read_csv('https://raw.githubusercontent.com/CSSEGISandData/COVID-19/master/csse_covid_19_data/csse_covid_19_daily_reports_us/08-22-2020.csv')\n",
    "\n",
    "# Processing the death,cases,active by countries\n",
    "confirmed_group_df = confirmed_df.groupby(by='Country/Region',as_index=False).sum()\n",
    "deaths_group_df = deaths_df.groupby(by='Country/Region',as_index=False).sum()\n",
    "recoveries_group_df = recoveries_df.groupby(by='Country/Region',as_index=False).sum()\n",
    "\n",
    "active_group_df = pd.DataFrame(columns=[confirmed_group_df.columns])\n",
    "active_group_df = deaths_group_df.copy()\n",
    "for i in range(confirmed_group_df.shape[0]):\n",
    "    for j in range(3, confirmed_group_df.shape[1]):\n",
    "        active_group_df.iloc[i,j] = confirmed_group_df.iloc[i,j]-(recoveries_group_df.iloc[i,j]+deaths_group_df.iloc[i,j])\n",
    "\n",
    "deaths_group_df_sorted_df_30 = deaths_group_df.sort_values(by=deaths_group_df.columns[-2], ascending=False).iloc[0:30]\n",
    "del deaths_group_df_sorted_df_30['Lat']\n",
    "del deaths_group_df_sorted_df_30['Long']\n",
    "del confirmed_group_df['Lat']\n",
    "del confirmed_group_df['Long']\n",
    "del active_group_df['Lat']\n",
    "del active_group_df['Long']\n",
    "deaths_group_df_sorted_df_30 = deaths_group_df_sorted_df_30.sort_values(by='Country/Region')\n",
    "\n",
    "# filtering out to only the top 30 countries with death\n",
    "countries = list(deaths_group_df_sorted_df_30['Country/Region'])\n",
    "\n",
    "sorted_confirmed_df = confirmed_group_df.loc[confirmed_group_df['Country/Region'].isin(countries)]\n",
    "sorted_active_df = active_group_df.loc[confirmed_group_df['Country/Region'].isin(countries)]\n",
    "\n",
    "new_df = pd.DataFrame(columns=['Country','Continent','Date','Deaths on Date','Confirmed Cases on date','Active Cases On Date','Cumulative complete Vaccination to date','Average Age'])\n",
    "n_df_columns = deaths_group_df_sorted_df_30.columns\n",
    "\n",
    "\n",
    "for dates_i in range(1,deaths_group_df_sorted_df_30.shape[1]):\n",
    "    for country_i in range(deaths_group_df_sorted_df_30.shape[0]):\n",
    "        new_row = {'Date':n_df_columns[dates_i], 'Country' : deaths_group_df_sorted_df_30.iloc[country_i,0], 'Deaths on Date' : deaths_group_df_sorted_df_30.iloc[country_i,dates_i]\n",
    "                  ,'Confirmed Cases on date' : sorted_confirmed_df.iloc[country_i,dates_i],\n",
    "                   'Active Cases on date' : sorted_active_df.iloc[country_i,dates_i]\n",
    "                  }\n",
    "        new_df = new_df.append(new_row,ignore_index=True)\n",
    "\n",
    "cc_map = {'US': 'North America',\n",
    " 'Brazil': 'South America',\n",
    " 'India': 'Asia',\n",
    " 'Mexico': 'North America',\n",
    " 'Russia': 'Europe',\n",
    " 'Peru': 'South America',\n",
    " 'Indonesia': 'Asia',\n",
    " 'United Kingdom': 'Europe',\n",
    " 'Italy': 'Europe',\n",
    " 'Colombia': 'South America',\n",
    " 'Iran': 'Asia',\n",
    " 'France': 'Europe',\n",
    " 'Argentina': 'South America',\n",
    " 'Germany': 'Europe',\n",
    " 'South Africa': 'Africa',\n",
    " 'Spain': 'Europe',\n",
    " 'Poland': 'Europe',\n",
    " 'Turkey': 'Asia',\n",
    " 'Ukraine': 'Europe',\n",
    " 'Romania': 'Europe',\n",
    " 'Philippines': 'Asia',\n",
    " 'Chile': 'South America',\n",
    " 'Ecuador': 'South America',\n",
    " 'Czechia': 'Europe',\n",
    " 'Hungary': 'Europe',\n",
    " 'Canada': 'North America',\n",
    " 'Pakistan': 'Asia',\n",
    " 'Malaysia': 'Asia',\n",
    " 'Bangladesh': 'Asia',\n",
    " 'Belgium': 'Europe'}\n",
    "\n",
    "# applying mapping of continents\n",
    "new_df['Continent'] = new_df['Country'].map(cc_map)\n",
    "\n",
    "# One Hot encoding for continentsand \n",
    "one_hot_cont = pd.get_dummies(new_df['Continent'], prefix=\"Continent_\")\n",
    "one_hot_country = pd.get_dummies(new_df['Country'], prefix=\"Country_\")\n",
    "new_df = new_df.join(one_hot_cont)\n",
    "new_df = new_df.join(one_hot_country)"
   ]
  },
  {
   "cell_type": "markdown",
   "metadata": {},
   "source": [
    "# Part 2"
   ]
  },
  {
   "cell_type": "markdown",
   "metadata": {},
   "source": [
    "### Overview About the Problem\n",
    "\n",
    "The problem statement is to design a model that predicts the number of deaths in various countries in the world. [Add more from the report]"
   ]
  },
  {
   "cell_type": "markdown",
   "metadata": {},
   "source": [
    "### Dataset\n",
    "\n",
    "All datasets are sourced from COVID-19 Data Repository by the Center for Systems Science and Engineering (CSSE) at Johns Hopkins University which is updated daily by them."
   ]
  },
  {
   "cell_type": "code",
   "execution_count": null,
   "metadata": {
    "collapsed": true
   },
   "outputs": [],
   "source": []
  },
  {
   "cell_type": "markdown",
   "metadata": {},
   "source": [
    "### Features and Target Preparation\n",
    "\n",
    "Describe here what are the features you use and why these features. Put any Python codes to prepare and clean up your features. \n",
    "\n",
    "Do the same thing for the target. Describe your target and put any codes to prepare your target."
   ]
  },
  {
   "cell_type": "code",
   "execution_count": null,
   "metadata": {
    "collapsed": true
   },
   "outputs": [],
   "source": [
    "# put Python code to prepare your featuers and target"
   ]
  },
  {
   "cell_type": "markdown",
   "metadata": {},
   "source": [
    "### Building Model\n",
    "\n",
    "Describe your model. Is this Linear Regression or Logistic Regression? Put any other details about the model. Put the codes to build your model."
   ]
  },
  {
   "cell_type": "code",
   "execution_count": null,
   "metadata": {
    "collapsed": true
   },
   "outputs": [],
   "source": [
    "# put Python code to build your model"
   ]
  },
  {
   "cell_type": "markdown",
   "metadata": {},
   "source": [
    "### Evaluating the Model\n",
    "\n",
    "Describe your metrics and how you want to evaluate your model. Put any Python code to evaluate your model. Use plots to have a visual evaluation."
   ]
  },
  {
   "cell_type": "code",
   "execution_count": null,
   "metadata": {
    "collapsed": true
   },
   "outputs": [],
   "source": [
    "# put Python code to evaluate the model and to visualize its accuracy"
   ]
  },
  {
   "cell_type": "markdown",
   "metadata": {},
   "source": [
    "### Improving the Model\n",
    "\n",
    "Discuss any steps you can do to improve the models. Put any python codes. You can repeat the steps above with the codes to show the improvement in the accuracy. "
   ]
  },
  {
   "cell_type": "markdown",
   "metadata": {},
   "source": [
    "### Discussion and Analysis\n",
    "\n",
    "Discuss your model and accuracy in solving the problem. Analyze the results of your metrics. Put any conclusion here."
   ]
  }
 ],
 "metadata": {
  "kernelspec": {
   "display_name": "Python 3 [3.7]",
   "language": "python",
   "name": "python3"
  },
  "language_info": {
   "codemirror_mode": {
    "name": "ipython",
    "version": 3
   },
   "file_extension": ".py",
   "mimetype": "text/x-python",
   "name": "python",
   "nbconvert_exporter": "python",
   "pygments_lexer": "ipython3",
   "version": "3.7.5"
  }
 },
 "nbformat": 4,
 "nbformat_minor": 4
}
