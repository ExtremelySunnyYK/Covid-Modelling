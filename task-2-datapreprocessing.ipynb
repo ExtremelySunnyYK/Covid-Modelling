{
 "cells": [
  {
   "cell_type": "markdown",
   "source": "# 2D Design Project",
   "metadata": {
    "cell_id": "00000-9abcfafd-3455-4155-9fec-07a5d6f706c7",
    "deepnote_to_be_reexecuted": false,
    "execution_millis": 8,
    "execution_start": 1635039167604,
    "source_hash": "ac9ae32f",
    "tags": [],
    "deepnote_cell_type": "markdown"
   }
  },
  {
   "cell_type": "markdown",
   "source": "<b>Problem Statement</b>: We wish to predict Singapore's GDP growth amidst COVID-19 based on various factors. By comparing the predicted growth rate with the actual growth rate, we can determine the effectiveness of Singapore's coping strategies against COVID-19.\n\nFactors/Variables to consider (from most to least important):\n- Time/date (time series data)\n- Vaccination rate\n- Daily active cases\n- Hospitalised\n- Recovered\n- Government grants/funding\n- Phases (circuit breaker, phase 1 etc.)\n\nPredict : \n- Growth rate of GDP",
   "metadata": {
    "cell_id": "00001-c73fab3d-a5e5-43c5-ab08-bef14d0db3ee",
    "tags": [],
    "deepnote_cell_type": "markdown"
   }
  },
  {
   "cell_type": "markdown",
   "source": "## Data Pre Processing",
   "metadata": {
    "cell_id": "00002-4f3fccd8-d7e4-4541-ba76-476b59992fbd",
    "tags": [],
    "deepnote_cell_type": "markdown"
   }
  },
  {
   "cell_type": "code",
   "metadata": {
    "cell_id": "00003-91790078-8446-453c-9616-63bbd2148f67",
    "deepnote_to_be_reexecuted": false,
    "execution_millis": 24479,
    "execution_start": 1636446041375,
    "source_hash": "d7829aea",
    "tags": [],
    "deepnote_cell_type": "code"
   },
   "source": "# Installing dependencies\n\n!pip install openpyxl\n!pip install statsmodels\n!pip install streamlit",
   "outputs": [
    {
     "name": "stdout",
     "text": "Collecting openpyxl\n  Downloading openpyxl-3.0.9-py2.py3-none-any.whl (242 kB)\n\u001b[K     |████████████████████████████████| 242 kB 23.6 MB/s \n\u001b[?25hCollecting et-xmlfile\n  Downloading et_xmlfile-1.1.0-py3-none-any.whl (4.7 kB)\nInstalling collected packages: et-xmlfile, openpyxl\nSuccessfully installed et-xmlfile-1.1.0 openpyxl-3.0.9\n\u001b[33mWARNING: You are using pip version 21.2.4; however, version 21.3.1 is available.\nYou should consider upgrading via the '/root/venv/bin/python -m pip install --upgrade pip' command.\u001b[0m\nCollecting statsmodels\n  Downloading statsmodels-0.13.0-cp37-cp37m-manylinux_2_17_x86_64.manylinux2014_x86_64.whl (9.8 MB)\n\u001b[K     |████████████████████████████████| 9.8 MB 21.5 MB/s \n\u001b[?25hCollecting patsy>=0.5.2\n  Downloading patsy-0.5.2-py2.py3-none-any.whl (233 kB)\n\u001b[K     |████████████████████████████████| 233 kB 43.5 MB/s \n\u001b[?25hRequirement already satisfied: pandas>=0.25 in /shared-libs/python3.7/py/lib/python3.7/site-packages (from statsmodels) (1.2.5)\nRequirement already satisfied: scipy>=1.3 in /shared-libs/python3.7/py/lib/python3.7/site-packages (from statsmodels) (1.7.1)\nRequirement already satisfied: numpy>=1.17 in /shared-libs/python3.7/py/lib/python3.7/site-packages (from statsmodels) (1.19.5)\nRequirement already satisfied: pytz>=2017.3 in /shared-libs/python3.7/py/lib/python3.7/site-packages (from pandas>=0.25->statsmodels) (2021.3)\nRequirement already satisfied: python-dateutil>=2.7.3 in /shared-libs/python3.7/py-core/lib/python3.7/site-packages (from pandas>=0.25->statsmodels) (2.8.2)\nRequirement already satisfied: six in /shared-libs/python3.7/py-core/lib/python3.7/site-packages (from patsy>=0.5.2->statsmodels) (1.16.0)\nInstalling collected packages: patsy, statsmodels\nSuccessfully installed patsy-0.5.2 statsmodels-0.13.0\n\u001b[33mWARNING: You are using pip version 21.2.4; however, version 21.3.1 is available.\nYou should consider upgrading via the '/root/venv/bin/python -m pip install --upgrade pip' command.\u001b[0m\nCollecting streamlit\n  Downloading streamlit-1.1.0-py2.py3-none-any.whl (8.3 MB)\n\u001b[K     |████████████████████████████████| 8.3 MB 20.7 MB/s \n\u001b[?25hRequirement already satisfied: pandas>=0.21.0 in /shared-libs/python3.7/py/lib/python3.7/site-packages (from streamlit) (1.2.5)\nCollecting base58\n  Downloading base58-2.1.1-py3-none-any.whl (5.6 kB)\nRequirement already satisfied: protobuf!=3.11,>=3.6.0 in /shared-libs/python3.7/py/lib/python3.7/site-packages (from streamlit) (3.17.3)\nRequirement already satisfied: packaging in /shared-libs/python3.7/py-core/lib/python3.7/site-packages (from streamlit) (21.0)\nRequirement already satisfied: altair>=3.2.0 in /shared-libs/python3.7/py/lib/python3.7/site-packages (from streamlit) (4.1.0)\nCollecting watchdog\n  Downloading watchdog-2.1.6-py3-none-manylinux2014_x86_64.whl (76 kB)\n\u001b[K     |████████████████████████████████| 76 kB 10.7 MB/s \n\u001b[?25hCollecting click<8.0,>=7.0\n  Downloading click-7.1.2-py2.py3-none-any.whl (82 kB)\n\u001b[K     |████████████████████████████████| 82 kB 2.0 MB/s \n\u001b[?25hRequirement already satisfied: requests in /shared-libs/python3.7/py/lib/python3.7/site-packages (from streamlit) (2.26.0)\nRequirement already satisfied: pyarrow in /shared-libs/python3.7/py/lib/python3.7/site-packages (from streamlit) (5.0.0)\nCollecting blinker\n  Downloading blinker-1.4.tar.gz (111 kB)\n\u001b[K     |████████████████████████████████| 111 kB 46.7 MB/s \n\u001b[?25hCollecting tzlocal\n  Downloading tzlocal-4.1-py3-none-any.whl (19 kB)\nRequirement already satisfied: numpy in /shared-libs/python3.7/py/lib/python3.7/site-packages (from streamlit) (1.19.5)\nCollecting validators\n  Downloading validators-0.18.2-py3-none-any.whl (19 kB)\nRequirement already satisfied: attrs in /shared-libs/python3.7/py-core/lib/python3.7/site-packages (from streamlit) (21.2.0)\nCollecting astor\n  Downloading astor-0.8.1-py2.py3-none-any.whl (27 kB)\nRequirement already satisfied: cachetools>=4.0 in /shared-libs/python3.7/py/lib/python3.7/site-packages (from streamlit) (4.2.4)\nRequirement already satisfied: tornado>=5.0 in /shared-libs/python3.7/py-core/lib/python3.7/site-packages (from streamlit) (6.1)\nRequirement already satisfied: pillow>=6.2.0 in /shared-libs/python3.7/py/lib/python3.7/site-packages (from streamlit) (8.3.2)\nCollecting gitpython!=3.1.19\n  Downloading GitPython-3.1.24-py3-none-any.whl (180 kB)\n\u001b[K     |████████████████████████████████| 180 kB 49.8 MB/s \n\u001b[?25hRequirement already satisfied: python-dateutil in /shared-libs/python3.7/py-core/lib/python3.7/site-packages (from streamlit) (2.8.2)\nRequirement already satisfied: toml in /shared-libs/python3.7/py/lib/python3.7/site-packages (from streamlit) (0.10.2)\nCollecting pydeck>=0.1.dev5\n  Downloading pydeck-0.7.1-py2.py3-none-any.whl (4.3 MB)\n\u001b[K     |████████████████████████████████| 4.3 MB 37.7 MB/s \n\u001b[?25hRequirement already satisfied: jsonschema in /shared-libs/python3.7/py-core/lib/python3.7/site-packages (from altair>=3.2.0->streamlit) (3.2.0)\nRequirement already satisfied: toolz in /shared-libs/python3.7/py/lib/python3.7/site-packages (from altair>=3.2.0->streamlit) (0.11.1)\nRequirement already satisfied: jinja2 in /shared-libs/python3.7/py-core/lib/python3.7/site-packages (from altair>=3.2.0->streamlit) (3.0.2)\nRequirement already satisfied: entrypoints in /shared-libs/python3.7/py-core/lib/python3.7/site-packages (from altair>=3.2.0->streamlit) (0.3)\nRequirement already satisfied: typing-extensions>=3.7.4.3 in /shared-libs/python3.7/py-core/lib/python3.7/site-packages (from gitpython!=3.1.19->streamlit) (3.10.0.2)\nCollecting gitdb<5,>=4.0.1\n  Downloading gitdb-4.0.9-py3-none-any.whl (63 kB)\n\u001b[K     |████████████████████████████████| 63 kB 4.1 MB/s \n\u001b[?25hCollecting smmap<6,>=3.0.1\n  Downloading smmap-5.0.0-py3-none-any.whl (24 kB)\nRequirement already satisfied: pytz>=2017.3 in /shared-libs/python3.7/py/lib/python3.7/site-packages (from pandas>=0.21.0->streamlit) (2021.3)\nRequirement already satisfied: six>=1.9 in /shared-libs/python3.7/py-core/lib/python3.7/site-packages (from protobuf!=3.11,>=3.6.0->streamlit) (1.16.0)\nCollecting ipywidgets>=7.0.0\n  Downloading ipywidgets-7.6.5-py2.py3-none-any.whl (121 kB)\n\u001b[K     |████████████████████████████████| 121 kB 48.2 MB/s \n\u001b[?25hRequirement already satisfied: traitlets>=4.3.2 in /shared-libs/python3.7/py-core/lib/python3.7/site-packages (from pydeck>=0.1.dev5->streamlit) (4.3.3)\nRequirement already satisfied: ipykernel>=5.1.2 in /shared-libs/python3.7/py-core/lib/python3.7/site-packages (from pydeck>=0.1.dev5->streamlit) (5.5.5)\nRequirement already satisfied: ipython>=5.0.0 in /shared-libs/python3.7/py-core/lib/python3.7/site-packages (from ipykernel>=5.1.2->pydeck>=0.1.dev5->streamlit) (7.28.0)\nRequirement already satisfied: jupyter-client in /shared-libs/python3.7/py-core/lib/python3.7/site-packages (from ipykernel>=5.1.2->pydeck>=0.1.dev5->streamlit) (6.1.12)\nRequirement already satisfied: setuptools>=18.5 in /root/venv/lib/python3.7/site-packages (from ipython>=5.0.0->ipykernel>=5.1.2->pydeck>=0.1.dev5->streamlit) (58.1.0)\nRequirement already satisfied: backcall in /shared-libs/python3.7/py-core/lib/python3.7/site-packages (from ipython>=5.0.0->ipykernel>=5.1.2->pydeck>=0.1.dev5->streamlit) (0.2.0)\nRequirement already satisfied: pickleshare in /shared-libs/python3.7/py-core/lib/python3.7/site-packages (from ipython>=5.0.0->ipykernel>=5.1.2->pydeck>=0.1.dev5->streamlit) (0.7.5)\nRequirement already satisfied: pygments in /shared-libs/python3.7/py-core/lib/python3.7/site-packages (from ipython>=5.0.0->ipykernel>=5.1.2->pydeck>=0.1.dev5->streamlit) (2.10.0)\nRequirement already satisfied: jedi>=0.16 in /shared-libs/python3.7/py-core/lib/python3.7/site-packages (from ipython>=5.0.0->ipykernel>=5.1.2->pydeck>=0.1.dev5->streamlit) (0.17.2)\nRequirement already satisfied: prompt-toolkit!=3.0.0,!=3.0.1,<3.1.0,>=2.0.0 in /shared-libs/python3.7/py-core/lib/python3.7/site-packages (from ipython>=5.0.0->ipykernel>=5.1.2->pydeck>=0.1.dev5->streamlit) (3.0.20)\nRequirement already satisfied: pexpect>4.3 in /shared-libs/python3.7/py-core/lib/python3.7/site-packages (from ipython>=5.0.0->ipykernel>=5.1.2->pydeck>=0.1.dev5->streamlit) (4.8.0)\nRequirement already satisfied: decorator in /shared-libs/python3.7/py-core/lib/python3.7/site-packages (from ipython>=5.0.0->ipykernel>=5.1.2->pydeck>=0.1.dev5->streamlit) (5.1.0)\nRequirement already satisfied: matplotlib-inline in /shared-libs/python3.7/py-core/lib/python3.7/site-packages (from ipython>=5.0.0->ipykernel>=5.1.2->pydeck>=0.1.dev5->streamlit) (0.1.3)\nRequirement already satisfied: ipython-genutils~=0.2.0 in /shared-libs/python3.7/py-core/lib/python3.7/site-packages (from ipywidgets>=7.0.0->pydeck>=0.1.dev5->streamlit) (0.2.0)\nCollecting widgetsnbextension~=3.5.0\n  Downloading widgetsnbextension-3.5.2-py2.py3-none-any.whl (1.6 MB)\n\u001b[K     |████████████████████████████████| 1.6 MB 41.8 MB/s \n\u001b[?25hRequirement already satisfied: nbformat>=4.2.0 in /shared-libs/python3.7/py-core/lib/python3.7/site-packages (from ipywidgets>=7.0.0->pydeck>=0.1.dev5->streamlit) (5.1.3)\nCollecting jupyterlab-widgets>=1.0.0\n  Downloading jupyterlab_widgets-1.0.2-py3-none-any.whl (243 kB)\n\u001b[K     |████████████████████████████████| 243 kB 26.2 MB/s \n\u001b[?25hRequirement already satisfied: parso<0.8.0,>=0.7.0 in /shared-libs/python3.7/py-core/lib/python3.7/site-packages (from jedi>=0.16->ipython>=5.0.0->ipykernel>=5.1.2->pydeck>=0.1.dev5->streamlit) (0.7.1)\nRequirement already satisfied: MarkupSafe>=2.0 in /shared-libs/python3.7/py-core/lib/python3.7/site-packages (from jinja2->altair>=3.2.0->streamlit) (2.0.1)\nRequirement already satisfied: jupyter-core in /shared-libs/python3.7/py-core/lib/python3.7/site-packages (from nbformat>=4.2.0->ipywidgets>=7.0.0->pydeck>=0.1.dev5->streamlit) (4.7.1)\nRequirement already satisfied: importlib-metadata in /shared-libs/python3.7/py-core/lib/python3.7/site-packages (from jsonschema->altair>=3.2.0->streamlit) (4.8.1)\nRequirement already satisfied: pyrsistent>=0.14.0 in /shared-libs/python3.7/py-core/lib/python3.7/site-packages (from jsonschema->altair>=3.2.0->streamlit) (0.18.0)\nRequirement already satisfied: ptyprocess>=0.5 in /shared-libs/python3.7/py-core/lib/python3.7/site-packages (from pexpect>4.3->ipython>=5.0.0->ipykernel>=5.1.2->pydeck>=0.1.dev5->streamlit) (0.7.0)\nRequirement already satisfied: wcwidth in /shared-libs/python3.7/py-core/lib/python3.7/site-packages (from prompt-toolkit!=3.0.0,!=3.0.1,<3.1.0,>=2.0.0->ipython>=5.0.0->ipykernel>=5.1.2->pydeck>=0.1.dev5->streamlit) (0.2.5)\nRequirement already satisfied: notebook>=4.4.1 in /shared-libs/python3.7/py-core/lib/python3.7/site-packages (from widgetsnbextension~=3.5.0->ipywidgets>=7.0.0->pydeck>=0.1.dev5->streamlit) (6.3.0)\nRequirement already satisfied: terminado>=0.8.3 in /shared-libs/python3.7/py-core/lib/python3.7/site-packages (from notebook>=4.4.1->widgetsnbextension~=3.5.0->ipywidgets>=7.0.0->pydeck>=0.1.dev5->streamlit) (0.12.1)\nRequirement already satisfied: nbconvert==6.0.7 in /shared-libs/python3.7/py-core/lib/python3.7/site-packages (from notebook>=4.4.1->widgetsnbextension~=3.5.0->ipywidgets>=7.0.0->pydeck>=0.1.dev5->streamlit) (6.0.7)\nRequirement already satisfied: Send2Trash>=1.5.0 in /shared-libs/python3.7/py-core/lib/python3.7/site-packages (from notebook>=4.4.1->widgetsnbextension~=3.5.0->ipywidgets>=7.0.0->pydeck>=0.1.dev5->streamlit) (1.8.0)\nRequirement already satisfied: prometheus-client in /shared-libs/python3.7/py-core/lib/python3.7/site-packages (from notebook>=4.4.1->widgetsnbextension~=3.5.0->ipywidgets>=7.0.0->pydeck>=0.1.dev5->streamlit) (0.11.0)\nRequirement already satisfied: argon2-cffi in /shared-libs/python3.7/py-core/lib/python3.7/site-packages (from notebook>=4.4.1->widgetsnbextension~=3.5.0->ipywidgets>=7.0.0->pydeck>=0.1.dev5->streamlit) (21.1.0)\nRequirement already satisfied: pyzmq>=17 in /shared-libs/python3.7/py-core/lib/python3.7/site-packages (from notebook>=4.4.1->widgetsnbextension~=3.5.0->ipywidgets>=7.0.0->pydeck>=0.1.dev5->streamlit) (22.3.0)\nRequirement already satisfied: nbclient<0.6.0,>=0.5.0 in /shared-libs/python3.7/py-core/lib/python3.7/site-packages (from nbconvert==6.0.7->notebook>=4.4.1->widgetsnbextension~=3.5.0->ipywidgets>=7.0.0->pydeck>=0.1.dev5->streamlit) (0.5.4)\nRequirement already satisfied: bleach in /shared-libs/python3.7/py-core/lib/python3.7/site-packages (from nbconvert==6.0.7->notebook>=4.4.1->widgetsnbextension~=3.5.0->ipywidgets>=7.0.0->pydeck>=0.1.dev5->streamlit) (4.1.0)\nRequirement already satisfied: jupyterlab-pygments in /shared-libs/python3.7/py-core/lib/python3.7/site-packages (from nbconvert==6.0.7->notebook>=4.4.1->widgetsnbextension~=3.5.0->ipywidgets>=7.0.0->pydeck>=0.1.dev5->streamlit) (0.1.2)\nRequirement already satisfied: testpath in /shared-libs/python3.7/py-core/lib/python3.7/site-packages (from nbconvert==6.0.7->notebook>=4.4.1->widgetsnbextension~=3.5.0->ipywidgets>=7.0.0->pydeck>=0.1.dev5->streamlit) (0.5.0)\nRequirement already satisfied: mistune<2,>=0.8.1 in /shared-libs/python3.7/py-core/lib/python3.7/site-packages (from nbconvert==6.0.7->notebook>=4.4.1->widgetsnbextension~=3.5.0->ipywidgets>=7.0.0->pydeck>=0.1.dev5->streamlit) (0.8.4)\nRequirement already satisfied: defusedxml in /shared-libs/python3.7/py-core/lib/python3.7/site-packages (from nbconvert==6.0.7->notebook>=4.4.1->widgetsnbextension~=3.5.0->ipywidgets>=7.0.0->pydeck>=0.1.dev5->streamlit) (0.7.1)\nRequirement already satisfied: pandocfilters>=1.4.1 in /shared-libs/python3.7/py-core/lib/python3.7/site-packages (from nbconvert==6.0.7->notebook>=4.4.1->widgetsnbextension~=3.5.0->ipywidgets>=7.0.0->pydeck>=0.1.dev5->streamlit) (1.5.0)\nRequirement already satisfied: nest-asyncio in /shared-libs/python3.7/py-core/lib/python3.7/site-packages (from nbclient<0.6.0,>=0.5.0->nbconvert==6.0.7->notebook>=4.4.1->widgetsnbextension~=3.5.0->ipywidgets>=7.0.0->pydeck>=0.1.dev5->streamlit) (1.5.1)\nRequirement already satisfied: cffi>=1.0.0 in /shared-libs/python3.7/py-core/lib/python3.7/site-packages (from argon2-cffi->notebook>=4.4.1->widgetsnbextension~=3.5.0->ipywidgets>=7.0.0->pydeck>=0.1.dev5->streamlit) (1.14.6)\nRequirement already satisfied: pycparser in /shared-libs/python3.7/py-core/lib/python3.7/site-packages (from cffi>=1.0.0->argon2-cffi->notebook>=4.4.1->widgetsnbextension~=3.5.0->ipywidgets>=7.0.0->pydeck>=0.1.dev5->streamlit) (2.20)\nRequirement already satisfied: webencodings in /shared-libs/python3.7/py-core/lib/python3.7/site-packages (from bleach->nbconvert==6.0.7->notebook>=4.4.1->widgetsnbextension~=3.5.0->ipywidgets>=7.0.0->pydeck>=0.1.dev5->streamlit) (0.5.1)\nRequirement already satisfied: zipp>=0.5 in /shared-libs/python3.7/py-core/lib/python3.7/site-packages (from importlib-metadata->jsonschema->altair>=3.2.0->streamlit) (3.6.0)\nRequirement already satisfied: pyparsing>=2.0.2 in /shared-libs/python3.7/py-core/lib/python3.7/site-packages (from packaging->streamlit) (2.4.7)\nRequirement already satisfied: urllib3<1.27,>=1.21.1 in /shared-libs/python3.7/py/lib/python3.7/site-packages (from requests->streamlit) (1.26.7)\nRequirement already satisfied: certifi>=2017.4.17 in /shared-libs/python3.7/py/lib/python3.7/site-packages (from requests->streamlit) (2021.10.8)\nRequirement already satisfied: charset-normalizer~=2.0.0 in /shared-libs/python3.7/py/lib/python3.7/site-packages (from requests->streamlit) (2.0.7)\nRequirement already satisfied: idna<4,>=2.5 in /shared-libs/python3.7/py-core/lib/python3.7/site-packages (from requests->streamlit) (3.3)\nCollecting pytz-deprecation-shim\n  Downloading pytz_deprecation_shim-0.1.0.post0-py2.py3-none-any.whl (15 kB)\nCollecting backports.zoneinfo\n  Downloading backports.zoneinfo-0.2.1-cp37-cp37m-manylinux1_x86_64.whl (70 kB)\n\u001b[K     |████████████████████████████████| 70 kB 14.4 MB/s \n\u001b[?25hCollecting tzdata\n  Downloading tzdata-2021.5-py2.py3-none-any.whl (339 kB)\n\u001b[K     |████████████████████████████████| 339 kB 50.9 MB/s \n\u001b[?25hBuilding wheels for collected packages: blinker\n  Building wheel for blinker (setup.py) ... \u001b[?25ldone\n\u001b[?25h  Created wheel for blinker: filename=blinker-1.4-py3-none-any.whl size=13478 sha256=7ffe28e840cc3f494c9b6faea445c32d6d9047a90a95cb8bdbb997574534333f\n  Stored in directory: /root/.cache/pip/wheels/22/f5/18/df711b66eb25b21325c132757d4314db9ac5e8dabeaf196eab\nSuccessfully built blinker\nInstalling collected packages: widgetsnbextension, tzdata, smmap, jupyterlab-widgets, backports.zoneinfo, pytz-deprecation-shim, ipywidgets, gitdb, watchdog, validators, tzlocal, pydeck, gitpython, click, blinker, base58, astor, streamlit\n  Attempting uninstall: click\n    Found existing installation: click 8.0.3\n    Not uninstalling click at /shared-libs/python3.7/py/lib/python3.7/site-packages, outside environment /root/venv\n    Can't uninstall 'click'. No files were found to uninstall.\nSuccessfully installed astor-0.8.1 backports.zoneinfo-0.2.1 base58-2.1.1 blinker-1.4 click-7.1.2 gitdb-4.0.9 gitpython-3.1.24 ipywidgets-7.6.5 jupyterlab-widgets-1.0.2 pydeck-0.7.1 pytz-deprecation-shim-0.1.0.post0 smmap-5.0.0 streamlit-1.1.0 tzdata-2021.5 tzlocal-4.1 validators-0.18.2 watchdog-2.1.6 widgetsnbextension-3.5.2\n\u001b[33mWARNING: You are using pip version 21.2.4; however, version 21.3.1 is available.\nYou should consider upgrading via the '/root/venv/bin/python -m pip install --upgrade pip' command.\u001b[0m\n",
     "output_type": "stream"
    }
   ],
   "execution_count": 2
  },
  {
   "cell_type": "code",
   "metadata": {
    "cell_id": "00003-96928d60-003a-43eb-b525-cc42587580b0",
    "deepnote_to_be_reexecuted": false,
    "execution_millis": 4794,
    "execution_start": 1636446185855,
    "source_hash": "74b719e9",
    "tags": [],
    "deepnote_cell_type": "code"
   },
   "source": "# Multiple Linear Regression\n\nimport numpy as np\nimport pandas as pd\nimport datetime as dt\nimport streamlit as st\n\n\n# Importing the dataset\n# Start from 1 Aug 2021 (first record of vaccination rate)\ndf = pd.read_excel('Covid-19 SG.xlsx', skiprows=range(1, 557))\n\n# processing with -\n#  Vaccination rate\n# - Daily active cases\n# - Hospitalised\n# - Recovered\n# - daily new cases\nsg_population = 5.686 * 10**6 # if got type we can find a dataset and map this\n\n# Processing Nan Values\ndf = df[pd.notnull(df['Phase'])]\ndf['Cumulative Individuals Vaccinated'] = df['Cumulative Individuals Vaccinated'].fillna(0) # drop na if we want to remove vacine\ndf['Percentage Vaccinated'] = df['Cumulative Individuals Vaccinated'].divide(sg_population)\n\n# Convert to Date time object for easier processing\ndf['Date'] = pd.to_datetime(df['Date'])\n\n# Convert Date to numerical value\ndf['Date'] = df['Date'].map(dt.datetime.toordinal)\n\n# Find 7 days Moving Average as another feature\ndf['7 days Moving Average'] = df['Daily Confirmed'].rolling(window=7).mean()\n\n# Replace NaN values\ndf['7 days Moving Average'].fillna(df['Daily Confirmed'], inplace=True)\n\n# df['Date'] = pd.to_datetime(df['Date'],format=\"%d/%m/%Y\")\n\n\n# Getting useful columns\n# new_columns = ['Date','Daily Confirmed', 'Still Hospitalised','Phase','7 days Moving Average','Percentage Vaccinated']\nnew_columns = ['Date', 'Still Hospitalised','Phase','7 days Moving Average', 'Percentage Vaccinated']\ndf = df.reindex(columns=new_columns)\n\ndf = df[new_columns]\n# df.isnull().any()\n\n# st.table(df)",
   "outputs": [
    {
     "name": "stderr",
     "text": "2021-11-09 08:23:08.402 INFO    matplotlib.font_manager: generated new fontManager\n",
     "output_type": "stream"
    }
   ],
   "execution_count": 3
  },
  {
   "cell_type": "code",
   "metadata": {
    "cell_id": "00007-83eb7162-9203-4cce-9ab7-21405b703a4e",
    "deepnote_to_be_reexecuted": false,
    "source_hash": "838c0c28",
    "execution_start": 1636446217789,
    "execution_millis": 5,
    "deepnote_cell_type": "code"
   },
   "source": "df.tail()",
   "outputs": [
    {
     "output_type": "execute_result",
     "execution_count": 6,
     "data": {
      "application/vnd.deepnote.dataframe.v2+json": {
       "row_count": 5,
       "column_count": 5,
       "columns": [
        {
         "name": "Date",
         "dtype": "int64",
         "stats": {
          "unique_count": 5,
          "nan_count": 0,
          "min": "738081",
          "max": "738085",
          "histogram": [
           {
            "bin_start": 738081,
            "bin_end": 738081.4,
            "count": 1
           },
           {
            "bin_start": 738081.4,
            "bin_end": 738081.8,
            "count": 0
           },
           {
            "bin_start": 738081.8,
            "bin_end": 738082.2,
            "count": 1
           },
           {
            "bin_start": 738082.2,
            "bin_end": 738082.6,
            "count": 0
           },
           {
            "bin_start": 738082.6,
            "bin_end": 738083,
            "count": 0
           },
           {
            "bin_start": 738083,
            "bin_end": 738083.4,
            "count": 1
           },
           {
            "bin_start": 738083.4,
            "bin_end": 738083.8,
            "count": 0
           },
           {
            "bin_start": 738083.8,
            "bin_end": 738084.2,
            "count": 1
           },
           {
            "bin_start": 738084.2,
            "bin_end": 738084.6,
            "count": 0
           },
           {
            "bin_start": 738084.6,
            "bin_end": 738085,
            "count": 1
           }
          ]
         }
        },
        {
         "name": "Still Hospitalised",
         "dtype": "int64",
         "stats": {
          "unique_count": 5,
          "nan_count": 0,
          "min": "1579",
          "max": "1708",
          "histogram": [
           {
            "bin_start": 1579,
            "bin_end": 1591.9,
            "count": 2
           },
           {
            "bin_start": 1591.9,
            "bin_end": 1604.8,
            "count": 0
           },
           {
            "bin_start": 1604.8,
            "bin_end": 1617.7,
            "count": 0
           },
           {
            "bin_start": 1617.7,
            "bin_end": 1630.6,
            "count": 0
           },
           {
            "bin_start": 1630.6,
            "bin_end": 1643.5,
            "count": 0
           },
           {
            "bin_start": 1643.5,
            "bin_end": 1656.4,
            "count": 0
           },
           {
            "bin_start": 1656.4,
            "bin_end": 1669.3,
            "count": 0
           },
           {
            "bin_start": 1669.3,
            "bin_end": 1682.2,
            "count": 0
           },
           {
            "bin_start": 1682.2,
            "bin_end": 1695.1,
            "count": 2
           },
           {
            "bin_start": 1695.1,
            "bin_end": 1708,
            "count": 1
           }
          ]
         }
        },
        {
         "name": "Phase",
         "dtype": "object",
         "stats": {
          "unique_count": 1,
          "nan_count": 0,
          "categories": [
           {
            "name": "Stabilisation Phase",
            "count": 5
           }
          ]
         }
        },
        {
         "name": "7 days Moving Average",
         "dtype": "float64",
         "stats": {
          "unique_count": 5,
          "nan_count": 0,
          "min": "3071.714285714286",
          "max": "3413.0",
          "histogram": [
           {
            "bin_start": 3071.714285714286,
            "bin_end": 3105.842857142857,
            "count": 1
           },
           {
            "bin_start": 3105.842857142857,
            "bin_end": 3139.9714285714285,
            "count": 0
           },
           {
            "bin_start": 3139.9714285714285,
            "bin_end": 3174.1,
            "count": 0
           },
           {
            "bin_start": 3174.1,
            "bin_end": 3208.2285714285713,
            "count": 0
           },
           {
            "bin_start": 3208.2285714285713,
            "bin_end": 3242.357142857143,
            "count": 1
           },
           {
            "bin_start": 3242.357142857143,
            "bin_end": 3276.4857142857145,
            "count": 0
           },
           {
            "bin_start": 3276.4857142857145,
            "bin_end": 3310.614285714286,
            "count": 0
           },
           {
            "bin_start": 3310.614285714286,
            "bin_end": 3344.7428571428572,
            "count": 1
           },
           {
            "bin_start": 3344.7428571428572,
            "bin_end": 3378.8714285714286,
            "count": 0
           },
           {
            "bin_start": 3378.8714285714286,
            "bin_end": 3413,
            "count": 2
           }
          ]
         }
        },
        {
         "name": "Percentage Vaccinated",
         "dtype": "float64",
         "stats": {
          "unique_count": 5,
          "nan_count": 0,
          "min": "0.8125592683784735",
          "max": "0.813715617305663",
          "histogram": [
           {
            "bin_start": 0.8125592683784735,
            "bin_end": 0.8126749032711924,
            "count": 1
           },
           {
            "bin_start": 0.8126749032711924,
            "bin_end": 0.8127905381639113,
            "count": 0
           },
           {
            "bin_start": 0.8127905381639113,
            "bin_end": 0.8129061730566304,
            "count": 0
           },
           {
            "bin_start": 0.8129061730566304,
            "bin_end": 0.8130218079493493,
            "count": 1
           },
           {
            "bin_start": 0.8130218079493493,
            "bin_end": 0.8131374428420682,
            "count": 0
           },
           {
            "bin_start": 0.8131374428420682,
            "bin_end": 0.8132530777347872,
            "count": 1
           },
           {
            "bin_start": 0.8132530777347872,
            "bin_end": 0.8133687126275061,
            "count": 0
           },
           {
            "bin_start": 0.8133687126275061,
            "bin_end": 0.8134843475202251,
            "count": 1
           },
           {
            "bin_start": 0.8134843475202251,
            "bin_end": 0.8135999824129441,
            "count": 0
           },
           {
            "bin_start": 0.8135999824129441,
            "bin_end": 0.813715617305663,
            "count": 1
           }
          ]
         }
        },
        {
         "name": "_deepnote_index_column",
         "dtype": "int64"
        }
       ],
       "rows_top": [
        {
         "Date": 738081,
         "Still Hospitalised": 1684,
         "Phase": "Stabilisation Phase",
         "7 days Moving Average": 3071.714285714286,
         "Percentage Vaccinated": 0.8125592683784735,
         "_deepnote_index_column": 78
        },
        {
         "Date": 738082,
         "Still Hospitalised": 1708,
         "Phase": "Stabilisation Phase",
         "7 days Moving Average": 3217.1428571428573,
         "Percentage Vaccinated": 0.8129497010200493,
         "_deepnote_index_column": 79
        },
        {
         "Date": 738083,
         "Still Hospitalised": 1688,
         "Phase": "Stabilisation Phase",
         "7 days Moving Average": 3313.1428571428573,
         "Percentage Vaccinated": 0.8132124516355962,
         "_deepnote_index_column": 80
        },
        {
         "Date": 738084,
         "Still Hospitalised": 1583,
         "Phase": "Stabilisation Phase",
         "7 days Moving Average": 3385.5714285714284,
         "Percentage Vaccinated": 0.813465881111502,
         "_deepnote_index_column": 81
        },
        {
         "Date": 738085,
         "Still Hospitalised": 1579,
         "Phase": "Stabilisation Phase",
         "7 days Moving Average": 3413,
         "Percentage Vaccinated": 0.813715617305663,
         "_deepnote_index_column": 82
        }
       ],
       "rows_bottom": null
      },
      "text/plain": "      Date  Still Hospitalised                Phase  7 days Moving Average  \\\n78  738081                1684  Stabilisation Phase            3071.714286   \n79  738082                1708  Stabilisation Phase            3217.142857   \n80  738083                1688  Stabilisation Phase            3313.142857   \n81  738084                1583  Stabilisation Phase            3385.571429   \n82  738085                1579  Stabilisation Phase            3413.000000   \n\n    Percentage Vaccinated  \n78               0.812559  \n79               0.812950  \n80               0.813212  \n81               0.813466  \n82               0.813716  ",
      "text/html": "<div>\n<style scoped>\n    .dataframe tbody tr th:only-of-type {\n        vertical-align: middle;\n    }\n\n    .dataframe tbody tr th {\n        vertical-align: top;\n    }\n\n    .dataframe thead th {\n        text-align: right;\n    }\n</style>\n<table border=\"1\" class=\"dataframe\">\n  <thead>\n    <tr style=\"text-align: right;\">\n      <th></th>\n      <th>Date</th>\n      <th>Still Hospitalised</th>\n      <th>Phase</th>\n      <th>7 days Moving Average</th>\n      <th>Percentage Vaccinated</th>\n    </tr>\n  </thead>\n  <tbody>\n    <tr>\n      <th>78</th>\n      <td>738081</td>\n      <td>1684</td>\n      <td>Stabilisation Phase</td>\n      <td>3071.714286</td>\n      <td>0.812559</td>\n    </tr>\n    <tr>\n      <th>79</th>\n      <td>738082</td>\n      <td>1708</td>\n      <td>Stabilisation Phase</td>\n      <td>3217.142857</td>\n      <td>0.812950</td>\n    </tr>\n    <tr>\n      <th>80</th>\n      <td>738083</td>\n      <td>1688</td>\n      <td>Stabilisation Phase</td>\n      <td>3313.142857</td>\n      <td>0.813212</td>\n    </tr>\n    <tr>\n      <th>81</th>\n      <td>738084</td>\n      <td>1583</td>\n      <td>Stabilisation Phase</td>\n      <td>3385.571429</td>\n      <td>0.813466</td>\n    </tr>\n    <tr>\n      <th>82</th>\n      <td>738085</td>\n      <td>1579</td>\n      <td>Stabilisation Phase</td>\n      <td>3413.000000</td>\n      <td>0.813716</td>\n    </tr>\n  </tbody>\n</table>\n</div>"
     },
     "metadata": {}
    }
   ],
   "execution_count": 6
  },
  {
   "cell_type": "code",
   "metadata": {
    "tags": [],
    "cell_id": "00011-f58122fb-71ec-4f07-971f-5fc69bda3772",
    "deepnote_to_be_reexecuted": false,
    "source_hash": "ccdd2504",
    "execution_start": 1636446231533,
    "execution_millis": 24,
    "deepnote_cell_type": "code"
   },
   "source": "# Preprocessing SGX Data for Y Axis\nsgx_df = pd.read_csv('./HistoricalPrices.csv', skipfooter=43)\n\nsgx_df['Date'] = pd.to_datetime(sgx_df['Date'])\nsgx_df['Date'] = sgx_df['Date'].map(dt.datetime.toordinal)\nsgx_df = sgx_df.rename(columns={' Open':'STI Price'})\n# Narrowing down to just open instead of high,low and close\nsgx_df = sgx_df[['Date','STI Price']]\n\n# merge wit dataset on date\n",
   "outputs": [
    {
     "name": "stderr",
     "text": "/shared-libs/python3.7/py-core/lib/python3.7/site-packages/ipykernel_launcher.py:2: ParserWarning: Falling back to the 'python' engine because the 'c' engine does not support skipfooter; you can avoid this warning by specifying engine='python'.\n  \n",
     "output_type": "stream"
    }
   ],
   "execution_count": 7
  },
  {
   "cell_type": "code",
   "metadata": {
    "tags": [],
    "cell_id": "00012-11a5bc5e-f59e-4b72-8f76-b73642ff74b6",
    "deepnote_to_be_reexecuted": false,
    "source_hash": "390f09ff",
    "execution_start": 1636446233153,
    "execution_millis": 10,
    "deepnote_cell_type": "code"
   },
   "source": "merged_df = pd.merge(df,sgx_df, how='inner', on='Date')\n\n# merged_df = pd.concat([df,sgx_df],join='inner', axis=1)",
   "outputs": [],
   "execution_count": 8
  },
  {
   "cell_type": "code",
   "metadata": {
    "tags": [],
    "cell_id": "00011-116b1c5f-f7d5-4617-acd3-d53e8a8cc67d",
    "deepnote_to_be_reexecuted": false,
    "source_hash": "be0aaf1",
    "execution_start": 1636446235726,
    "execution_millis": 16,
    "deepnote_cell_type": "code"
   },
   "source": "merged_df",
   "outputs": [
    {
     "output_type": "execute_result",
     "execution_count": 9,
     "data": {
      "application/vnd.deepnote.dataframe.v2+json": {
       "row_count": 59,
       "column_count": 6,
       "columns": [
        {
         "name": "Date",
         "dtype": "int64",
         "stats": {
          "unique_count": 59,
          "nan_count": 0,
          "min": "738004",
          "max": "738085",
          "histogram": [
           {
            "bin_start": 738004,
            "bin_end": 738012.1,
            "count": 6
           },
           {
            "bin_start": 738012.1,
            "bin_end": 738020.2,
            "count": 6
           },
           {
            "bin_start": 738020.2,
            "bin_end": 738028.3,
            "count": 6
           },
           {
            "bin_start": 738028.3,
            "bin_end": 738036.4,
            "count": 6
           },
           {
            "bin_start": 738036.4,
            "bin_end": 738044.5,
            "count": 5
           },
           {
            "bin_start": 738044.5,
            "bin_end": 738052.6,
            "count": 5
           },
           {
            "bin_start": 738052.6,
            "bin_end": 738060.7,
            "count": 6
           },
           {
            "bin_start": 738060.7,
            "bin_end": 738068.8,
            "count": 6
           },
           {
            "bin_start": 738068.8,
            "bin_end": 738076.9,
            "count": 6
           },
           {
            "bin_start": 738076.9,
            "bin_end": 738085,
            "count": 7
           }
          ]
         }
        },
        {
         "name": "Still Hospitalised",
         "dtype": "int64",
         "stats": {
          "unique_count": 57,
          "nan_count": 0,
          "min": "306",
          "max": "1708",
          "histogram": [
           {
            "bin_start": 306,
            "bin_end": 446.2,
            "count": 13
           },
           {
            "bin_start": 446.2,
            "bin_end": 586.4,
            "count": 11
           },
           {
            "bin_start": 586.4,
            "bin_end": 726.5999999999999,
            "count": 5
           },
           {
            "bin_start": 726.5999999999999,
            "bin_end": 866.8,
            "count": 5
           },
           {
            "bin_start": 866.8,
            "bin_end": 1007,
            "count": 0
           },
           {
            "bin_start": 1007,
            "bin_end": 1147.1999999999998,
            "count": 5
           },
           {
            "bin_start": 1147.1999999999998,
            "bin_end": 1287.3999999999999,
            "count": 1
           },
           {
            "bin_start": 1287.3999999999999,
            "bin_end": 1427.6,
            "count": 5
           },
           {
            "bin_start": 1427.6,
            "bin_end": 1567.8,
            "count": 7
           },
           {
            "bin_start": 1567.8,
            "bin_end": 1708,
            "count": 7
           }
          ]
         }
        },
        {
         "name": "Phase",
         "dtype": "object",
         "stats": {
          "unique_count": 3,
          "nan_count": 0,
          "categories": [
           {
            "name": "Preparatory Stage",
            "count": 34
           },
           {
            "name": "Stabilisation Phase",
            "count": 20
           },
           {
            "name": "Phase 2 (Heightened Alert)",
            "count": 5
           }
          ]
         }
        },
        {
         "name": "7 days Moving Average",
         "dtype": "float64",
         "stats": {
          "unique_count": 59,
          "nan_count": 0,
          "min": "49.285714285714285",
          "max": "3413.0",
          "histogram": [
           {
            "bin_start": 49.285714285714285,
            "bin_end": 385.65714285714284,
            "count": 29
           },
           {
            "bin_start": 385.65714285714284,
            "bin_end": 722.0285714285715,
            "count": 4
           },
           {
            "bin_start": 722.0285714285715,
            "bin_end": 1058.3999999999999,
            "count": 3
           },
           {
            "bin_start": 1058.3999999999999,
            "bin_end": 1394.7714285714285,
            "count": 3
           },
           {
            "bin_start": 1394.7714285714285,
            "bin_end": 1731.142857142857,
            "count": 2
           },
           {
            "bin_start": 1731.142857142857,
            "bin_end": 2067.5142857142855,
            "count": 2
           },
           {
            "bin_start": 2067.5142857142855,
            "bin_end": 2403.885714285714,
            "count": 2
           },
           {
            "bin_start": 2403.885714285714,
            "bin_end": 2740.2571428571428,
            "count": 1
           },
           {
            "bin_start": 2740.2571428571428,
            "bin_end": 3076.6285714285714,
            "count": 6
           },
           {
            "bin_start": 3076.6285714285714,
            "bin_end": 3413,
            "count": 7
           }
          ]
         }
        },
        {
         "name": "Percentage Vaccinated",
         "dtype": "float64",
         "stats": {
          "unique_count": 59,
          "nan_count": 0,
          "min": "0.7585617305663032",
          "max": "0.813715617305663",
          "histogram": [
           {
            "bin_start": 0.7585617305663032,
            "bin_end": 0.7640771192402391,
            "count": 5
           },
           {
            "bin_start": 0.7640771192402391,
            "bin_end": 0.7695925079141751,
            "count": 1
           },
           {
            "bin_start": 0.7695925079141751,
            "bin_end": 0.7751078965881111,
            "count": 3
           },
           {
            "bin_start": 0.7751078965881111,
            "bin_end": 0.780623285262047,
            "count": 1
           },
           {
            "bin_start": 0.780623285262047,
            "bin_end": 0.786138673935983,
            "count": 4
           },
           {
            "bin_start": 0.786138673935983,
            "bin_end": 0.7916540626099191,
            "count": 5
           },
           {
            "bin_start": 0.7916540626099191,
            "bin_end": 0.7971694512838551,
            "count": 5
           },
           {
            "bin_start": 0.7971694512838551,
            "bin_end": 0.802684839957791,
            "count": 8
           },
           {
            "bin_start": 0.802684839957791,
            "bin_end": 0.808200228631727,
            "count": 16
           },
           {
            "bin_start": 0.808200228631727,
            "bin_end": 0.813715617305663,
            "count": 11
           }
          ]
         }
        },
        {
         "name": "STI Price",
         "dtype": "float64",
         "stats": {
          "unique_count": 59,
          "nan_count": 0,
          "min": "3039.96",
          "max": "3212.67",
          "histogram": [
           {
            "bin_start": 3039.96,
            "bin_end": 3057.231,
            "count": 4
           },
           {
            "bin_start": 3057.231,
            "bin_end": 3074.502,
            "count": 6
           },
           {
            "bin_start": 3074.502,
            "bin_end": 3091.773,
            "count": 15
           },
           {
            "bin_start": 3091.773,
            "bin_end": 3109.044,
            "count": 9
           },
           {
            "bin_start": 3109.044,
            "bin_end": 3126.315,
            "count": 7
           },
           {
            "bin_start": 3126.315,
            "bin_end": 3143.5860000000002,
            "count": 2
           },
           {
            "bin_start": 3143.5860000000002,
            "bin_end": 3160.857,
            "count": 3
           },
           {
            "bin_start": 3160.857,
            "bin_end": 3178.128,
            "count": 4
           },
           {
            "bin_start": 3178.128,
            "bin_end": 3195.399,
            "count": 5
           },
           {
            "bin_start": 3195.399,
            "bin_end": 3212.67,
            "count": 4
           }
          ]
         }
        },
        {
         "name": "_deepnote_index_column",
         "dtype": "int64"
        }
       ],
       "rows_top": [
        {
         "Date": 738004,
         "Still Hospitalised": 572,
         "Phase": "Phase 2 (Heightened Alert)",
         "7 days Moving Average": 111,
         "Percentage Vaccinated": 0.7585617305663032,
         "STI Price": 3176.42,
         "_deepnote_index_column": 0
        },
        {
         "Date": 738005,
         "Still Hospitalised": 562,
         "Phase": "Phase 2 (Heightened Alert)",
         "7 days Moving Average": 102,
         "Percentage Vaccinated": 0.7599759057333803,
         "STI Price": 3149.25,
         "_deepnote_index_column": 1
        },
        {
         "Date": 738006,
         "Still Hospitalised": 525,
         "Phase": "Phase 2 (Heightened Alert)",
         "7 days Moving Average": 95,
         "Percentage Vaccinated": 0.7615117833274709,
         "STI Price": 3154.6,
         "_deepnote_index_column": 2
        },
        {
         "Date": 738007,
         "Still Hospitalised": 547,
         "Phase": "Phase 2 (Heightened Alert)",
         "7 days Moving Average": 98,
         "Percentage Vaccinated": 0.762820436158987,
         "STI Price": 3186.65,
         "_deepnote_index_column": 3
        },
        {
         "Date": 738008,
         "Still Hospitalised": 516,
         "Phase": "Phase 2 (Heightened Alert)",
         "7 days Moving Average": 97,
         "Percentage Vaccinated": 0.7640138937741822,
         "STI Price": 3175,
         "_deepnote_index_column": 4
        },
        {
         "Date": 738012,
         "Still Hospitalised": 478,
         "Phase": "Preparatory Stage",
         "7 days Moving Average": 82.14285714285714,
         "Percentage Vaccinated": 0.7691786844882167,
         "STI Price": 3187.53,
         "_deepnote_index_column": 5
        },
        {
         "Date": 738013,
         "Still Hospitalised": 478,
         "Phase": "Preparatory Stage",
         "7 days Moving Average": 77.57142857142857,
         "Percentage Vaccinated": 0.7709516355962012,
         "STI Price": 3204.76,
         "_deepnote_index_column": 6
        },
        {
         "Date": 738014,
         "Still Hospitalised": 440,
         "Phase": "Preparatory Stage",
         "7 days Moving Average": 72,
         "Percentage Vaccinated": 0.7727238832219486,
         "STI Price": 3190.23,
         "_deepnote_index_column": 7
        },
        {
         "Date": 738015,
         "Still Hospitalised": 458,
         "Phase": "Preparatory Stage",
         "7 days Moving Average": 65.14285714285714,
         "Percentage Vaccinated": 0.7742891311994372,
         "STI Price": 3167.03,
         "_deepnote_index_column": 8
        },
        {
         "Date": 738018,
         "Still Hospitalised": 396,
         "Phase": "Preparatory Stage",
         "7 days Moving Average": 55.57142857142857,
         "Percentage Vaccinated": 0.7794725641927541,
         "STI Price": 3139.23,
         "_deepnote_index_column": 9
        },
        {
         "Date": 738019,
         "Still Hospitalised": 374,
         "Phase": "Preparatory Stage",
         "7 days Moving Average": 55.857142857142854,
         "Percentage Vaccinated": 0.7809124164614843,
         "STI Price": 3138.58,
         "_deepnote_index_column": 10
        },
        {
         "Date": 738020,
         "Still Hospitalised": 372,
         "Phase": "Preparatory Stage",
         "7 days Moving Average": 54.42857142857143,
         "Percentage Vaccinated": 0.7821403447062961,
         "STI Price": 3117.28,
         "_deepnote_index_column": 11
        },
        {
         "Date": 738021,
         "Still Hospitalised": 361,
         "Phase": "Preparatory Stage",
         "7 days Moving Average": 50.57142857142857,
         "Percentage Vaccinated": 0.7832532536053465,
         "STI Price": 3110.38,
         "_deepnote_index_column": 12
        },
        {
         "Date": 738022,
         "Still Hospitalised": 350,
         "Phase": "Preparatory Stage",
         "7 days Moving Average": 49.285714285714285,
         "Percentage Vaccinated": 0.7842419978895533,
         "STI Price": 3106.84,
         "_deepnote_index_column": 13
        },
        {
         "Date": 738025,
         "Still Hospitalised": 306,
         "Phase": "Preparatory Stage",
         "7 days Moving Average": 50.142857142857146,
         "Percentage Vaccinated": 0.7875422089342244,
         "STI Price": 3087.56,
         "_deepnote_index_column": 14
        },
        {
         "Date": 738026,
         "Still Hospitalised": 309,
         "Phase": "Preparatory Stage",
         "7 days Moving Average": 58.714285714285715,
         "Percentage Vaccinated": 0.788301442138586,
         "STI Price": 3105.24,
         "_deepnote_index_column": 15
        },
        {
         "Date": 738027,
         "Still Hospitalised": 320,
         "Phase": "Preparatory Stage",
         "7 days Moving Average": 68.28571428571429,
         "Percentage Vaccinated": 0.7890198733731973,
         "STI Price": 3121.36,
         "_deepnote_index_column": 16
        },
        {
         "Date": 738028,
         "Still Hospitalised": 313,
         "Phase": "Preparatory Stage",
         "7 days Moving Average": 80.28571428571429,
         "Percentage Vaccinated": 0.7897959901512487,
         "STI Price": 3114.6,
         "_deepnote_index_column": 17
        },
        {
         "Date": 738029,
         "Still Hospitalised": 339,
         "Phase": "Preparatory Stage",
         "7 days Moving Average": 92,
         "Percentage Vaccinated": 0.7904820612029546,
         "STI Price": 3089.91,
         "_deepnote_index_column": 18
        },
        {
         "Date": 738032,
         "Still Hospitalised": 411,
         "Phase": "Preparatory Stage",
         "7 days Moving Average": 126.14285714285714,
         "Percentage Vaccinated": 0.7927690819556806,
         "STI Price": 3092,
         "_deepnote_index_column": 19
        },
        {
         "Date": 738033,
         "Still Hospitalised": 433,
         "Phase": "Preparatory Stage",
         "7 days Moving Average": 132.57142857142858,
         "Percentage Vaccinated": 0.7934834681674288,
         "STI Price": 3088.23,
         "_deepnote_index_column": 20
        },
        {
         "Date": 738034,
         "Still Hospitalised": 469,
         "Phase": "Preparatory Stage",
         "7 days Moving Average": 141.14285714285714,
         "Percentage Vaccinated": 0.7941380583890256,
         "STI Price": 3087.84,
         "_deepnote_index_column": 21
        },
        {
         "Date": 738035,
         "Still Hospitalised": 498,
         "Phase": "Preparatory Stage",
         "7 days Moving Average": 151.85714285714286,
         "Percentage Vaccinated": 0.7947534294759058,
         "STI Price": 3093.46,
         "_deepnote_index_column": 22
        },
        {
         "Date": 738036,
         "Still Hospitalised": 550,
         "Phase": "Preparatory Stage",
         "7 days Moving Average": 165.71428571428572,
         "Percentage Vaccinated": 0.7953798804080197,
         "STI Price": 3089.94,
         "_deepnote_index_column": 23
        },
        {
         "Date": 738039,
         "Still Hospitalised": 607,
         "Phase": "Preparatory Stage",
         "7 days Moving Average": 206,
         "Percentage Vaccinated": 0.7973047836792121,
         "STI Price": 3079.15,
         "_deepnote_index_column": 24
        },
        {
         "Date": 738040,
         "Still Hospitalised": 613,
         "Phase": "Preparatory Stage",
         "7 days Moving Average": 230.42857142857142,
         "Percentage Vaccinated": 0.7979222652128034,
         "STI Price": 3108.53,
         "_deepnote_index_column": 25
        },
        {
         "Date": 738041,
         "Still Hospitalised": 634,
         "Phase": "Preparatory Stage",
         "7 days Moving Average": 254.57142857142858,
         "Percentage Vaccinated": 0.7985265564544495,
         "STI Price": 3092.78,
         "_deepnote_index_column": 26
        },
        {
         "Date": 738042,
         "Still Hospitalised": 634,
         "Phase": "Preparatory Stage",
         "7 days Moving Average": 292.57142857142856,
         "Percentage Vaccinated": 0.7991830812521984,
         "STI Price": 3071.7,
         "_deepnote_index_column": 27
        },
        {
         "Date": 738043,
         "Still Hospitalised": 659,
         "Phase": "Preparatory Stage",
         "7 days Moving Average": 343.14285714285717,
         "Percentage Vaccinated": 0.7998422441083363,
         "STI Price": 3085.62,
         "_deepnote_index_column": 28
        },
        {
         "Date": 738046,
         "Still Hospitalised": 744,
         "Phase": "Preparatory Stage",
         "7 days Moving Average": 484.7142857142857,
         "Percentage Vaccinated": 0.8013325712275765,
         "STI Price": 3074.31,
         "_deepnote_index_column": 29
        },
        {
         "Date": 738047,
         "Still Hospitalised": 779,
         "Phase": "Preparatory Stage",
         "7 days Moving Average": 556.8571428571429,
         "Percentage Vaccinated": 0.8017697854379177,
         "STI Price": 3087.07,
         "_deepnote_index_column": 30
        },
        {
         "Date": 738048,
         "Still Hospitalised": 792,
         "Phase": "Preparatory Stage",
         "7 days Moving Average": 622.2857142857143,
         "Percentage Vaccinated": 0.8022465705240943,
         "STI Price": 3058.61,
         "_deepnote_index_column": 31
        },
        {
         "Date": 738049,
         "Still Hospitalised": 807,
         "Phase": "Preparatory Stage",
         "7 days Moving Average": 687,
         "Percentage Vaccinated": 0.8027921209989448,
         "STI Price": 3065.22,
         "_deepnote_index_column": 32
        },
        {
         "Date": 738050,
         "Still Hospitalised": 783,
         "Phase": "Preparatory Stage",
         "7 days Moving Average": 738.7142857142857,
         "Percentage Vaccinated": 0.8033944776644389,
         "STI Price": 3071.23,
         "_deepnote_index_column": 33
        },
        {
         "Date": 738053,
         "Still Hospitalised": 1025,
         "Phase": "Preparatory Stage",
         "7 days Moving Average": 918.1428571428571,
         "Percentage Vaccinated": 0.8047583538515652,
         "STI Price": 3041.73,
         "_deepnote_index_column": 34
        },
        {
         "Date": 738054,
         "Still Hospitalised": 1079,
         "Phase": "Preparatory Stage",
         "7 days Moving Average": 966.8571428571429,
         "Percentage Vaccinated": 0.8052592332043615,
         "STI Price": 3039.96,
         "_deepnote_index_column": 35
        },
        {
         "Date": 738055,
         "Still Hospitalised": 1053,
         "Phase": "Preparatory Stage",
         "7 days Moving Average": 1059.7142857142858,
         "Percentage Vaccinated": 0.8058424199788955,
         "STI Price": 3048.05,
         "_deepnote_index_column": 36
        },
        {
         "Date": 738056,
         "Still Hospitalised": 1090,
         "Phase": "Preparatory Stage",
         "7 days Moving Average": 1144.5714285714287,
         "Percentage Vaccinated": 0.806296166021808,
         "STI Price": 3076.44,
         "_deepnote_index_column": 37
        },
        {
         "Date": 738057,
         "Still Hospitalised": 1062,
         "Phase": "Preparatory Stage",
         "7 days Moving Average": 1246.7142857142858,
         "Percentage Vaccinated": 0.8066987337319733,
         "STI Price": 3089.32,
         "_deepnote_index_column": 38
        },
        {
         "Date": 738060,
         "Still Hospitalised": 1258,
         "Phase": "Stabilisation Phase",
         "7 days Moving Average": 1545.4285714285713,
         "Percentage Vaccinated": 0.8077722476257474,
         "STI Price": 3100.3,
         "_deepnote_index_column": 39
        },
        {
         "Date": 738061,
         "Still Hospitalised": 1295,
         "Phase": "Stabilisation Phase",
         "7 days Moving Average": 1696.5714285714287,
         "Percentage Vaccinated": 0.8078506858951812,
         "STI Price": 3085.44,
         "_deepnote_index_column": 40
        },
        {
         "Date": 738062,
         "Still Hospitalised": 1305,
         "Phase": "Stabilisation Phase",
         "7 days Moving Average": 1812.4285714285713,
         "Percentage Vaccinated": 0.8078995779106578,
         "STI Price": 3080.88,
         "_deepnote_index_column": 41
        },
        {
         "Date": 738063,
         "Still Hospitalised": 1330,
         "Phase": "Stabilisation Phase",
         "7 days Moving Average": 1951.5714285714287,
         "Percentage Vaccinated": 0.8079143510376363,
         "STI Price": 3090.32,
         "_deepnote_index_column": 42
        },
        {
         "Date": 738064,
         "Still Hospitalised": 1326,
         "Phase": "Stabilisation Phase",
         "7 days Moving Average": 2131.4285714285716,
         "Percentage Vaccinated": 0.8080357017235315,
         "STI Price": 3051.11,
         "_deepnote_index_column": 43
        },
        {
         "Date": 738067,
         "Still Hospitalised": 1325,
         "Phase": "Stabilisation Phase",
         "7 days Moving Average": 2397,
         "Percentage Vaccinated": 0.8081122054168133,
         "STI Price": 3079.99,
         "_deepnote_index_column": 44
        },
        {
         "Date": 738068,
         "Still Hospitalised": 1482,
         "Phase": "Stabilisation Phase",
         "7 days Moving Average": 2575.5714285714284,
         "Percentage Vaccinated": 0.8081273302849104,
         "STI Price": 3071.93,
         "_deepnote_index_column": 45
        },
        {
         "Date": 738069,
         "Still Hospitalised": 1490,
         "Phase": "Stabilisation Phase",
         "7 days Moving Average": 2762.5714285714284,
         "Percentage Vaccinated": 0.8081596904678157,
         "STI Price": 3082.58,
         "_deepnote_index_column": 46
        },
        {
         "Date": 738070,
         "Still Hospitalised": 1504,
         "Phase": "Stabilisation Phase",
         "7 days Moving Average": 2906.1428571428573,
         "Percentage Vaccinated": 0.8081727048892016,
         "STI Price": 3099.99,
         "_deepnote_index_column": 47
        },
        {
         "Date": 738071,
         "Still Hospitalised": 1534,
         "Phase": "Stabilisation Phase",
         "7 days Moving Average": 3003.4285714285716,
         "Percentage Vaccinated": 0.80847836792121,
         "STI Price": 3110.82,
         "_deepnote_index_column": 48
        },
        {
         "Date": 738074,
         "Still Hospitalised": 1668,
         "Phase": "Stabilisation Phase",
         "7 days Moving Average": 3273,
         "Percentage Vaccinated": 0.8096873021456208,
         "STI Price": 3118.57,
         "_deepnote_index_column": 49
        },
        {
         "Date": 738075,
         "Still Hospitalised": 1589,
         "Phase": "Stabilisation Phase",
         "7 days Moving Average": 3200.1428571428573,
         "Percentage Vaccinated": 0.810230038691523,
         "STI Price": 3102.29,
         "_deepnote_index_column": 50
        },
        {
         "Date": 738076,
         "Still Hospitalised": 1477,
         "Phase": "Stabilisation Phase",
         "7 days Moving Average": 3144.8571428571427,
         "Percentage Vaccinated": 0.8106869504045023,
         "STI Price": 3122.78,
         "_deepnote_index_column": 51
        },
        {
         "Date": 738077,
         "Still Hospitalised": 1481,
         "Phase": "Stabilisation Phase",
         "7 days Moving Average": 3066.1428571428573,
         "Percentage Vaccinated": 0.8110738656348927,
         "STI Price": 3148.34,
         "_deepnote_index_column": 52
        },
        {
         "Date": 738078,
         "Still Hospitalised": 1563,
         "Phase": "Stabilisation Phase",
         "7 days Moving Average": 3045.4285714285716,
         "Percentage Vaccinated": 0.8114201547660922,
         "STI Price": 3180.55,
         "_deepnote_index_column": 53
        },
        {
         "Date": 738081,
         "Still Hospitalised": 1684,
         "Phase": "Stabilisation Phase",
         "7 days Moving Average": 3071.714285714286,
         "Percentage Vaccinated": 0.8125592683784735,
         "STI Price": 3174.3,
         "_deepnote_index_column": 54
        },
        {
         "Date": 738082,
         "Still Hospitalised": 1708,
         "Phase": "Stabilisation Phase",
         "7 days Moving Average": 3217.1428571428573,
         "Percentage Vaccinated": 0.8129497010200493,
         "STI Price": 3195.45,
         "_deepnote_index_column": 55
        },
        {
         "Date": 738083,
         "Still Hospitalised": 1688,
         "Phase": "Stabilisation Phase",
         "7 days Moving Average": 3313.1428571428573,
         "Percentage Vaccinated": 0.8132124516355962,
         "STI Price": 3212.67,
         "_deepnote_index_column": 56
        },
        {
         "Date": 738084,
         "Still Hospitalised": 1583,
         "Phase": "Stabilisation Phase",
         "7 days Moving Average": 3385.5714285714284,
         "Percentage Vaccinated": 0.813465881111502,
         "STI Price": 3203.92,
         "_deepnote_index_column": 57
        },
        {
         "Date": 738085,
         "Still Hospitalised": 1579,
         "Phase": "Stabilisation Phase",
         "7 days Moving Average": 3413,
         "Percentage Vaccinated": 0.813715617305663,
         "STI Price": 3195.36,
         "_deepnote_index_column": 58
        }
       ],
       "rows_bottom": null
      },
      "text/plain": "      Date  Still Hospitalised                       Phase  \\\n0   738004                 572  Phase 2 (Heightened Alert)   \n1   738005                 562  Phase 2 (Heightened Alert)   \n2   738006                 525  Phase 2 (Heightened Alert)   \n3   738007                 547  Phase 2 (Heightened Alert)   \n4   738008                 516  Phase 2 (Heightened Alert)   \n5   738012                 478           Preparatory Stage   \n6   738013                 478           Preparatory Stage   \n7   738014                 440           Preparatory Stage   \n8   738015                 458           Preparatory Stage   \n9   738018                 396           Preparatory Stage   \n10  738019                 374           Preparatory Stage   \n11  738020                 372           Preparatory Stage   \n12  738021                 361           Preparatory Stage   \n13  738022                 350           Preparatory Stage   \n14  738025                 306           Preparatory Stage   \n15  738026                 309           Preparatory Stage   \n16  738027                 320           Preparatory Stage   \n17  738028                 313           Preparatory Stage   \n18  738029                 339           Preparatory Stage   \n19  738032                 411           Preparatory Stage   \n20  738033                 433           Preparatory Stage   \n21  738034                 469           Preparatory Stage   \n22  738035                 498           Preparatory Stage   \n23  738036                 550           Preparatory Stage   \n24  738039                 607           Preparatory Stage   \n25  738040                 613           Preparatory Stage   \n26  738041                 634           Preparatory Stage   \n27  738042                 634           Preparatory Stage   \n28  738043                 659           Preparatory Stage   \n29  738046                 744           Preparatory Stage   \n30  738047                 779           Preparatory Stage   \n31  738048                 792           Preparatory Stage   \n32  738049                 807           Preparatory Stage   \n33  738050                 783           Preparatory Stage   \n34  738053                1025           Preparatory Stage   \n35  738054                1079           Preparatory Stage   \n36  738055                1053           Preparatory Stage   \n37  738056                1090           Preparatory Stage   \n38  738057                1062           Preparatory Stage   \n39  738060                1258         Stabilisation Phase   \n40  738061                1295         Stabilisation Phase   \n41  738062                1305         Stabilisation Phase   \n42  738063                1330         Stabilisation Phase   \n43  738064                1326         Stabilisation Phase   \n44  738067                1325         Stabilisation Phase   \n45  738068                1482         Stabilisation Phase   \n46  738069                1490         Stabilisation Phase   \n47  738070                1504         Stabilisation Phase   \n48  738071                1534         Stabilisation Phase   \n49  738074                1668         Stabilisation Phase   \n50  738075                1589         Stabilisation Phase   \n51  738076                1477         Stabilisation Phase   \n52  738077                1481         Stabilisation Phase   \n53  738078                1563         Stabilisation Phase   \n54  738081                1684         Stabilisation Phase   \n55  738082                1708         Stabilisation Phase   \n56  738083                1688         Stabilisation Phase   \n57  738084                1583         Stabilisation Phase   \n58  738085                1579         Stabilisation Phase   \n\n    7 days Moving Average  Percentage Vaccinated  STI Price  \n0              111.000000               0.758562    3176.42  \n1              102.000000               0.759976    3149.25  \n2               95.000000               0.761512    3154.60  \n3               98.000000               0.762820    3186.65  \n4               97.000000               0.764014    3175.00  \n5               82.142857               0.769179    3187.53  \n6               77.571429               0.770952    3204.76  \n7               72.000000               0.772724    3190.23  \n8               65.142857               0.774289    3167.03  \n9               55.571429               0.779473    3139.23  \n10              55.857143               0.780912    3138.58  \n11              54.428571               0.782140    3117.28  \n12              50.571429               0.783253    3110.38  \n13              49.285714               0.784242    3106.84  \n14              50.142857               0.787542    3087.56  \n15              58.714286               0.788301    3105.24  \n16              68.285714               0.789020    3121.36  \n17              80.285714               0.789796    3114.60  \n18              92.000000               0.790482    3089.91  \n19             126.142857               0.792769    3092.00  \n20             132.571429               0.793483    3088.23  \n21             141.142857               0.794138    3087.84  \n22             151.857143               0.794753    3093.46  \n23             165.714286               0.795380    3089.94  \n24             206.000000               0.797305    3079.15  \n25             230.428571               0.797922    3108.53  \n26             254.571429               0.798527    3092.78  \n27             292.571429               0.799183    3071.70  \n28             343.142857               0.799842    3085.62  \n29             484.714286               0.801333    3074.31  \n30             556.857143               0.801770    3087.07  \n31             622.285714               0.802247    3058.61  \n32             687.000000               0.802792    3065.22  \n33             738.714286               0.803394    3071.23  \n34             918.142857               0.804758    3041.73  \n35             966.857143               0.805259    3039.96  \n36            1059.714286               0.805842    3048.05  \n37            1144.571429               0.806296    3076.44  \n38            1246.714286               0.806699    3089.32  \n39            1545.428571               0.807772    3100.30  \n40            1696.571429               0.807851    3085.44  \n41            1812.428571               0.807900    3080.88  \n42            1951.571429               0.807914    3090.32  \n43            2131.428571               0.808036    3051.11  \n44            2397.000000               0.808112    3079.99  \n45            2575.571429               0.808127    3071.93  \n46            2762.571429               0.808160    3082.58  \n47            2906.142857               0.808173    3099.99  \n48            3003.428571               0.808478    3110.82  \n49            3273.000000               0.809687    3118.57  \n50            3200.142857               0.810230    3102.29  \n51            3144.857143               0.810687    3122.78  \n52            3066.142857               0.811074    3148.34  \n53            3045.428571               0.811420    3180.55  \n54            3071.714286               0.812559    3174.30  \n55            3217.142857               0.812950    3195.45  \n56            3313.142857               0.813212    3212.67  \n57            3385.571429               0.813466    3203.92  \n58            3413.000000               0.813716    3195.36  ",
      "text/html": "<div>\n<style scoped>\n    .dataframe tbody tr th:only-of-type {\n        vertical-align: middle;\n    }\n\n    .dataframe tbody tr th {\n        vertical-align: top;\n    }\n\n    .dataframe thead th {\n        text-align: right;\n    }\n</style>\n<table border=\"1\" class=\"dataframe\">\n  <thead>\n    <tr style=\"text-align: right;\">\n      <th></th>\n      <th>Date</th>\n      <th>Still Hospitalised</th>\n      <th>Phase</th>\n      <th>7 days Moving Average</th>\n      <th>Percentage Vaccinated</th>\n      <th>STI Price</th>\n    </tr>\n  </thead>\n  <tbody>\n    <tr>\n      <th>0</th>\n      <td>738004</td>\n      <td>572</td>\n      <td>Phase 2 (Heightened Alert)</td>\n      <td>111.000000</td>\n      <td>0.758562</td>\n      <td>3176.42</td>\n    </tr>\n    <tr>\n      <th>1</th>\n      <td>738005</td>\n      <td>562</td>\n      <td>Phase 2 (Heightened Alert)</td>\n      <td>102.000000</td>\n      <td>0.759976</td>\n      <td>3149.25</td>\n    </tr>\n    <tr>\n      <th>2</th>\n      <td>738006</td>\n      <td>525</td>\n      <td>Phase 2 (Heightened Alert)</td>\n      <td>95.000000</td>\n      <td>0.761512</td>\n      <td>3154.60</td>\n    </tr>\n    <tr>\n      <th>3</th>\n      <td>738007</td>\n      <td>547</td>\n      <td>Phase 2 (Heightened Alert)</td>\n      <td>98.000000</td>\n      <td>0.762820</td>\n      <td>3186.65</td>\n    </tr>\n    <tr>\n      <th>4</th>\n      <td>738008</td>\n      <td>516</td>\n      <td>Phase 2 (Heightened Alert)</td>\n      <td>97.000000</td>\n      <td>0.764014</td>\n      <td>3175.00</td>\n    </tr>\n    <tr>\n      <th>5</th>\n      <td>738012</td>\n      <td>478</td>\n      <td>Preparatory Stage</td>\n      <td>82.142857</td>\n      <td>0.769179</td>\n      <td>3187.53</td>\n    </tr>\n    <tr>\n      <th>6</th>\n      <td>738013</td>\n      <td>478</td>\n      <td>Preparatory Stage</td>\n      <td>77.571429</td>\n      <td>0.770952</td>\n      <td>3204.76</td>\n    </tr>\n    <tr>\n      <th>7</th>\n      <td>738014</td>\n      <td>440</td>\n      <td>Preparatory Stage</td>\n      <td>72.000000</td>\n      <td>0.772724</td>\n      <td>3190.23</td>\n    </tr>\n    <tr>\n      <th>8</th>\n      <td>738015</td>\n      <td>458</td>\n      <td>Preparatory Stage</td>\n      <td>65.142857</td>\n      <td>0.774289</td>\n      <td>3167.03</td>\n    </tr>\n    <tr>\n      <th>9</th>\n      <td>738018</td>\n      <td>396</td>\n      <td>Preparatory Stage</td>\n      <td>55.571429</td>\n      <td>0.779473</td>\n      <td>3139.23</td>\n    </tr>\n    <tr>\n      <th>10</th>\n      <td>738019</td>\n      <td>374</td>\n      <td>Preparatory Stage</td>\n      <td>55.857143</td>\n      <td>0.780912</td>\n      <td>3138.58</td>\n    </tr>\n    <tr>\n      <th>11</th>\n      <td>738020</td>\n      <td>372</td>\n      <td>Preparatory Stage</td>\n      <td>54.428571</td>\n      <td>0.782140</td>\n      <td>3117.28</td>\n    </tr>\n    <tr>\n      <th>12</th>\n      <td>738021</td>\n      <td>361</td>\n      <td>Preparatory Stage</td>\n      <td>50.571429</td>\n      <td>0.783253</td>\n      <td>3110.38</td>\n    </tr>\n    <tr>\n      <th>13</th>\n      <td>738022</td>\n      <td>350</td>\n      <td>Preparatory Stage</td>\n      <td>49.285714</td>\n      <td>0.784242</td>\n      <td>3106.84</td>\n    </tr>\n    <tr>\n      <th>14</th>\n      <td>738025</td>\n      <td>306</td>\n      <td>Preparatory Stage</td>\n      <td>50.142857</td>\n      <td>0.787542</td>\n      <td>3087.56</td>\n    </tr>\n    <tr>\n      <th>15</th>\n      <td>738026</td>\n      <td>309</td>\n      <td>Preparatory Stage</td>\n      <td>58.714286</td>\n      <td>0.788301</td>\n      <td>3105.24</td>\n    </tr>\n    <tr>\n      <th>16</th>\n      <td>738027</td>\n      <td>320</td>\n      <td>Preparatory Stage</td>\n      <td>68.285714</td>\n      <td>0.789020</td>\n      <td>3121.36</td>\n    </tr>\n    <tr>\n      <th>17</th>\n      <td>738028</td>\n      <td>313</td>\n      <td>Preparatory Stage</td>\n      <td>80.285714</td>\n      <td>0.789796</td>\n      <td>3114.60</td>\n    </tr>\n    <tr>\n      <th>18</th>\n      <td>738029</td>\n      <td>339</td>\n      <td>Preparatory Stage</td>\n      <td>92.000000</td>\n      <td>0.790482</td>\n      <td>3089.91</td>\n    </tr>\n    <tr>\n      <th>19</th>\n      <td>738032</td>\n      <td>411</td>\n      <td>Preparatory Stage</td>\n      <td>126.142857</td>\n      <td>0.792769</td>\n      <td>3092.00</td>\n    </tr>\n    <tr>\n      <th>20</th>\n      <td>738033</td>\n      <td>433</td>\n      <td>Preparatory Stage</td>\n      <td>132.571429</td>\n      <td>0.793483</td>\n      <td>3088.23</td>\n    </tr>\n    <tr>\n      <th>21</th>\n      <td>738034</td>\n      <td>469</td>\n      <td>Preparatory Stage</td>\n      <td>141.142857</td>\n      <td>0.794138</td>\n      <td>3087.84</td>\n    </tr>\n    <tr>\n      <th>22</th>\n      <td>738035</td>\n      <td>498</td>\n      <td>Preparatory Stage</td>\n      <td>151.857143</td>\n      <td>0.794753</td>\n      <td>3093.46</td>\n    </tr>\n    <tr>\n      <th>23</th>\n      <td>738036</td>\n      <td>550</td>\n      <td>Preparatory Stage</td>\n      <td>165.714286</td>\n      <td>0.795380</td>\n      <td>3089.94</td>\n    </tr>\n    <tr>\n      <th>24</th>\n      <td>738039</td>\n      <td>607</td>\n      <td>Preparatory Stage</td>\n      <td>206.000000</td>\n      <td>0.797305</td>\n      <td>3079.15</td>\n    </tr>\n    <tr>\n      <th>25</th>\n      <td>738040</td>\n      <td>613</td>\n      <td>Preparatory Stage</td>\n      <td>230.428571</td>\n      <td>0.797922</td>\n      <td>3108.53</td>\n    </tr>\n    <tr>\n      <th>26</th>\n      <td>738041</td>\n      <td>634</td>\n      <td>Preparatory Stage</td>\n      <td>254.571429</td>\n      <td>0.798527</td>\n      <td>3092.78</td>\n    </tr>\n    <tr>\n      <th>27</th>\n      <td>738042</td>\n      <td>634</td>\n      <td>Preparatory Stage</td>\n      <td>292.571429</td>\n      <td>0.799183</td>\n      <td>3071.70</td>\n    </tr>\n    <tr>\n      <th>28</th>\n      <td>738043</td>\n      <td>659</td>\n      <td>Preparatory Stage</td>\n      <td>343.142857</td>\n      <td>0.799842</td>\n      <td>3085.62</td>\n    </tr>\n    <tr>\n      <th>29</th>\n      <td>738046</td>\n      <td>744</td>\n      <td>Preparatory Stage</td>\n      <td>484.714286</td>\n      <td>0.801333</td>\n      <td>3074.31</td>\n    </tr>\n    <tr>\n      <th>30</th>\n      <td>738047</td>\n      <td>779</td>\n      <td>Preparatory Stage</td>\n      <td>556.857143</td>\n      <td>0.801770</td>\n      <td>3087.07</td>\n    </tr>\n    <tr>\n      <th>31</th>\n      <td>738048</td>\n      <td>792</td>\n      <td>Preparatory Stage</td>\n      <td>622.285714</td>\n      <td>0.802247</td>\n      <td>3058.61</td>\n    </tr>\n    <tr>\n      <th>32</th>\n      <td>738049</td>\n      <td>807</td>\n      <td>Preparatory Stage</td>\n      <td>687.000000</td>\n      <td>0.802792</td>\n      <td>3065.22</td>\n    </tr>\n    <tr>\n      <th>33</th>\n      <td>738050</td>\n      <td>783</td>\n      <td>Preparatory Stage</td>\n      <td>738.714286</td>\n      <td>0.803394</td>\n      <td>3071.23</td>\n    </tr>\n    <tr>\n      <th>34</th>\n      <td>738053</td>\n      <td>1025</td>\n      <td>Preparatory Stage</td>\n      <td>918.142857</td>\n      <td>0.804758</td>\n      <td>3041.73</td>\n    </tr>\n    <tr>\n      <th>35</th>\n      <td>738054</td>\n      <td>1079</td>\n      <td>Preparatory Stage</td>\n      <td>966.857143</td>\n      <td>0.805259</td>\n      <td>3039.96</td>\n    </tr>\n    <tr>\n      <th>36</th>\n      <td>738055</td>\n      <td>1053</td>\n      <td>Preparatory Stage</td>\n      <td>1059.714286</td>\n      <td>0.805842</td>\n      <td>3048.05</td>\n    </tr>\n    <tr>\n      <th>37</th>\n      <td>738056</td>\n      <td>1090</td>\n      <td>Preparatory Stage</td>\n      <td>1144.571429</td>\n      <td>0.806296</td>\n      <td>3076.44</td>\n    </tr>\n    <tr>\n      <th>38</th>\n      <td>738057</td>\n      <td>1062</td>\n      <td>Preparatory Stage</td>\n      <td>1246.714286</td>\n      <td>0.806699</td>\n      <td>3089.32</td>\n    </tr>\n    <tr>\n      <th>39</th>\n      <td>738060</td>\n      <td>1258</td>\n      <td>Stabilisation Phase</td>\n      <td>1545.428571</td>\n      <td>0.807772</td>\n      <td>3100.30</td>\n    </tr>\n    <tr>\n      <th>40</th>\n      <td>738061</td>\n      <td>1295</td>\n      <td>Stabilisation Phase</td>\n      <td>1696.571429</td>\n      <td>0.807851</td>\n      <td>3085.44</td>\n    </tr>\n    <tr>\n      <th>41</th>\n      <td>738062</td>\n      <td>1305</td>\n      <td>Stabilisation Phase</td>\n      <td>1812.428571</td>\n      <td>0.807900</td>\n      <td>3080.88</td>\n    </tr>\n    <tr>\n      <th>42</th>\n      <td>738063</td>\n      <td>1330</td>\n      <td>Stabilisation Phase</td>\n      <td>1951.571429</td>\n      <td>0.807914</td>\n      <td>3090.32</td>\n    </tr>\n    <tr>\n      <th>43</th>\n      <td>738064</td>\n      <td>1326</td>\n      <td>Stabilisation Phase</td>\n      <td>2131.428571</td>\n      <td>0.808036</td>\n      <td>3051.11</td>\n    </tr>\n    <tr>\n      <th>44</th>\n      <td>738067</td>\n      <td>1325</td>\n      <td>Stabilisation Phase</td>\n      <td>2397.000000</td>\n      <td>0.808112</td>\n      <td>3079.99</td>\n    </tr>\n    <tr>\n      <th>45</th>\n      <td>738068</td>\n      <td>1482</td>\n      <td>Stabilisation Phase</td>\n      <td>2575.571429</td>\n      <td>0.808127</td>\n      <td>3071.93</td>\n    </tr>\n    <tr>\n      <th>46</th>\n      <td>738069</td>\n      <td>1490</td>\n      <td>Stabilisation Phase</td>\n      <td>2762.571429</td>\n      <td>0.808160</td>\n      <td>3082.58</td>\n    </tr>\n    <tr>\n      <th>47</th>\n      <td>738070</td>\n      <td>1504</td>\n      <td>Stabilisation Phase</td>\n      <td>2906.142857</td>\n      <td>0.808173</td>\n      <td>3099.99</td>\n    </tr>\n    <tr>\n      <th>48</th>\n      <td>738071</td>\n      <td>1534</td>\n      <td>Stabilisation Phase</td>\n      <td>3003.428571</td>\n      <td>0.808478</td>\n      <td>3110.82</td>\n    </tr>\n    <tr>\n      <th>49</th>\n      <td>738074</td>\n      <td>1668</td>\n      <td>Stabilisation Phase</td>\n      <td>3273.000000</td>\n      <td>0.809687</td>\n      <td>3118.57</td>\n    </tr>\n    <tr>\n      <th>50</th>\n      <td>738075</td>\n      <td>1589</td>\n      <td>Stabilisation Phase</td>\n      <td>3200.142857</td>\n      <td>0.810230</td>\n      <td>3102.29</td>\n    </tr>\n    <tr>\n      <th>51</th>\n      <td>738076</td>\n      <td>1477</td>\n      <td>Stabilisation Phase</td>\n      <td>3144.857143</td>\n      <td>0.810687</td>\n      <td>3122.78</td>\n    </tr>\n    <tr>\n      <th>52</th>\n      <td>738077</td>\n      <td>1481</td>\n      <td>Stabilisation Phase</td>\n      <td>3066.142857</td>\n      <td>0.811074</td>\n      <td>3148.34</td>\n    </tr>\n    <tr>\n      <th>53</th>\n      <td>738078</td>\n      <td>1563</td>\n      <td>Stabilisation Phase</td>\n      <td>3045.428571</td>\n      <td>0.811420</td>\n      <td>3180.55</td>\n    </tr>\n    <tr>\n      <th>54</th>\n      <td>738081</td>\n      <td>1684</td>\n      <td>Stabilisation Phase</td>\n      <td>3071.714286</td>\n      <td>0.812559</td>\n      <td>3174.30</td>\n    </tr>\n    <tr>\n      <th>55</th>\n      <td>738082</td>\n      <td>1708</td>\n      <td>Stabilisation Phase</td>\n      <td>3217.142857</td>\n      <td>0.812950</td>\n      <td>3195.45</td>\n    </tr>\n    <tr>\n      <th>56</th>\n      <td>738083</td>\n      <td>1688</td>\n      <td>Stabilisation Phase</td>\n      <td>3313.142857</td>\n      <td>0.813212</td>\n      <td>3212.67</td>\n    </tr>\n    <tr>\n      <th>57</th>\n      <td>738084</td>\n      <td>1583</td>\n      <td>Stabilisation Phase</td>\n      <td>3385.571429</td>\n      <td>0.813466</td>\n      <td>3203.92</td>\n    </tr>\n    <tr>\n      <th>58</th>\n      <td>738085</td>\n      <td>1579</td>\n      <td>Stabilisation Phase</td>\n      <td>3413.000000</td>\n      <td>0.813716</td>\n      <td>3195.36</td>\n    </tr>\n  </tbody>\n</table>\n</div>"
     },
     "metadata": {}
    }
   ],
   "execution_count": 9
  },
  {
   "cell_type": "markdown",
   "source": "## Data Visualization : \nTells us if we need to transform the data\n",
   "metadata": {
    "tags": [],
    "cell_id": "00012-a354edd7-f9b9-4b4c-be97-2635685e3aa9",
    "deepnote_cell_type": "markdown"
   }
  },
  {
   "cell_type": "code",
   "metadata": {
    "tags": [],
    "cell_id": "00012-f44c5e60-6b96-4b38-9744-b78f288918ee",
    "deepnote_to_be_reexecuted": false,
    "source_hash": "be0aaf1",
    "execution_start": 1636446282278,
    "execution_millis": 17,
    "deepnote_cell_type": "code"
   },
   "source": "merged_df",
   "outputs": [
    {
     "output_type": "execute_result",
     "execution_count": 11,
     "data": {
      "application/vnd.deepnote.dataframe.v2+json": {
       "row_count": 59,
       "column_count": 6,
       "columns": [
        {
         "name": "Date",
         "dtype": "int64",
         "stats": {
          "unique_count": 59,
          "nan_count": 0,
          "min": "738004",
          "max": "738085",
          "histogram": [
           {
            "bin_start": 738004,
            "bin_end": 738012.1,
            "count": 6
           },
           {
            "bin_start": 738012.1,
            "bin_end": 738020.2,
            "count": 6
           },
           {
            "bin_start": 738020.2,
            "bin_end": 738028.3,
            "count": 6
           },
           {
            "bin_start": 738028.3,
            "bin_end": 738036.4,
            "count": 6
           },
           {
            "bin_start": 738036.4,
            "bin_end": 738044.5,
            "count": 5
           },
           {
            "bin_start": 738044.5,
            "bin_end": 738052.6,
            "count": 5
           },
           {
            "bin_start": 738052.6,
            "bin_end": 738060.7,
            "count": 6
           },
           {
            "bin_start": 738060.7,
            "bin_end": 738068.8,
            "count": 6
           },
           {
            "bin_start": 738068.8,
            "bin_end": 738076.9,
            "count": 6
           },
           {
            "bin_start": 738076.9,
            "bin_end": 738085,
            "count": 7
           }
          ]
         }
        },
        {
         "name": "Still Hospitalised",
         "dtype": "int64",
         "stats": {
          "unique_count": 57,
          "nan_count": 0,
          "min": "306",
          "max": "1708",
          "histogram": [
           {
            "bin_start": 306,
            "bin_end": 446.2,
            "count": 13
           },
           {
            "bin_start": 446.2,
            "bin_end": 586.4,
            "count": 11
           },
           {
            "bin_start": 586.4,
            "bin_end": 726.5999999999999,
            "count": 5
           },
           {
            "bin_start": 726.5999999999999,
            "bin_end": 866.8,
            "count": 5
           },
           {
            "bin_start": 866.8,
            "bin_end": 1007,
            "count": 0
           },
           {
            "bin_start": 1007,
            "bin_end": 1147.1999999999998,
            "count": 5
           },
           {
            "bin_start": 1147.1999999999998,
            "bin_end": 1287.3999999999999,
            "count": 1
           },
           {
            "bin_start": 1287.3999999999999,
            "bin_end": 1427.6,
            "count": 5
           },
           {
            "bin_start": 1427.6,
            "bin_end": 1567.8,
            "count": 7
           },
           {
            "bin_start": 1567.8,
            "bin_end": 1708,
            "count": 7
           }
          ]
         }
        },
        {
         "name": "Phase",
         "dtype": "object",
         "stats": {
          "unique_count": 3,
          "nan_count": 0,
          "categories": [
           {
            "name": "Preparatory Stage",
            "count": 34
           },
           {
            "name": "Stabilisation Phase",
            "count": 20
           },
           {
            "name": "Phase 2 (Heightened Alert)",
            "count": 5
           }
          ]
         }
        },
        {
         "name": "7 days Moving Average",
         "dtype": "float64",
         "stats": {
          "unique_count": 59,
          "nan_count": 0,
          "min": "49.285714285714285",
          "max": "3413.0",
          "histogram": [
           {
            "bin_start": 49.285714285714285,
            "bin_end": 385.65714285714284,
            "count": 29
           },
           {
            "bin_start": 385.65714285714284,
            "bin_end": 722.0285714285715,
            "count": 4
           },
           {
            "bin_start": 722.0285714285715,
            "bin_end": 1058.3999999999999,
            "count": 3
           },
           {
            "bin_start": 1058.3999999999999,
            "bin_end": 1394.7714285714285,
            "count": 3
           },
           {
            "bin_start": 1394.7714285714285,
            "bin_end": 1731.142857142857,
            "count": 2
           },
           {
            "bin_start": 1731.142857142857,
            "bin_end": 2067.5142857142855,
            "count": 2
           },
           {
            "bin_start": 2067.5142857142855,
            "bin_end": 2403.885714285714,
            "count": 2
           },
           {
            "bin_start": 2403.885714285714,
            "bin_end": 2740.2571428571428,
            "count": 1
           },
           {
            "bin_start": 2740.2571428571428,
            "bin_end": 3076.6285714285714,
            "count": 6
           },
           {
            "bin_start": 3076.6285714285714,
            "bin_end": 3413,
            "count": 7
           }
          ]
         }
        },
        {
         "name": "Percentage Vaccinated",
         "dtype": "float64",
         "stats": {
          "unique_count": 59,
          "nan_count": 0,
          "min": "0.7585617305663032",
          "max": "0.813715617305663",
          "histogram": [
           {
            "bin_start": 0.7585617305663032,
            "bin_end": 0.7640771192402391,
            "count": 5
           },
           {
            "bin_start": 0.7640771192402391,
            "bin_end": 0.7695925079141751,
            "count": 1
           },
           {
            "bin_start": 0.7695925079141751,
            "bin_end": 0.7751078965881111,
            "count": 3
           },
           {
            "bin_start": 0.7751078965881111,
            "bin_end": 0.780623285262047,
            "count": 1
           },
           {
            "bin_start": 0.780623285262047,
            "bin_end": 0.786138673935983,
            "count": 4
           },
           {
            "bin_start": 0.786138673935983,
            "bin_end": 0.7916540626099191,
            "count": 5
           },
           {
            "bin_start": 0.7916540626099191,
            "bin_end": 0.7971694512838551,
            "count": 5
           },
           {
            "bin_start": 0.7971694512838551,
            "bin_end": 0.802684839957791,
            "count": 8
           },
           {
            "bin_start": 0.802684839957791,
            "bin_end": 0.808200228631727,
            "count": 16
           },
           {
            "bin_start": 0.808200228631727,
            "bin_end": 0.813715617305663,
            "count": 11
           }
          ]
         }
        },
        {
         "name": "STI Price",
         "dtype": "float64",
         "stats": {
          "unique_count": 59,
          "nan_count": 0,
          "min": "3039.96",
          "max": "3212.67",
          "histogram": [
           {
            "bin_start": 3039.96,
            "bin_end": 3057.231,
            "count": 4
           },
           {
            "bin_start": 3057.231,
            "bin_end": 3074.502,
            "count": 6
           },
           {
            "bin_start": 3074.502,
            "bin_end": 3091.773,
            "count": 15
           },
           {
            "bin_start": 3091.773,
            "bin_end": 3109.044,
            "count": 9
           },
           {
            "bin_start": 3109.044,
            "bin_end": 3126.315,
            "count": 7
           },
           {
            "bin_start": 3126.315,
            "bin_end": 3143.5860000000002,
            "count": 2
           },
           {
            "bin_start": 3143.5860000000002,
            "bin_end": 3160.857,
            "count": 3
           },
           {
            "bin_start": 3160.857,
            "bin_end": 3178.128,
            "count": 4
           },
           {
            "bin_start": 3178.128,
            "bin_end": 3195.399,
            "count": 5
           },
           {
            "bin_start": 3195.399,
            "bin_end": 3212.67,
            "count": 4
           }
          ]
         }
        },
        {
         "name": "_deepnote_index_column",
         "dtype": "int64"
        }
       ],
       "rows_top": [
        {
         "Date": 738004,
         "Still Hospitalised": 572,
         "Phase": "Phase 2 (Heightened Alert)",
         "7 days Moving Average": 111,
         "Percentage Vaccinated": 0.7585617305663032,
         "STI Price": 3176.42,
         "_deepnote_index_column": 0
        },
        {
         "Date": 738005,
         "Still Hospitalised": 562,
         "Phase": "Phase 2 (Heightened Alert)",
         "7 days Moving Average": 102,
         "Percentage Vaccinated": 0.7599759057333803,
         "STI Price": 3149.25,
         "_deepnote_index_column": 1
        },
        {
         "Date": 738006,
         "Still Hospitalised": 525,
         "Phase": "Phase 2 (Heightened Alert)",
         "7 days Moving Average": 95,
         "Percentage Vaccinated": 0.7615117833274709,
         "STI Price": 3154.6,
         "_deepnote_index_column": 2
        },
        {
         "Date": 738007,
         "Still Hospitalised": 547,
         "Phase": "Phase 2 (Heightened Alert)",
         "7 days Moving Average": 98,
         "Percentage Vaccinated": 0.762820436158987,
         "STI Price": 3186.65,
         "_deepnote_index_column": 3
        },
        {
         "Date": 738008,
         "Still Hospitalised": 516,
         "Phase": "Phase 2 (Heightened Alert)",
         "7 days Moving Average": 97,
         "Percentage Vaccinated": 0.7640138937741822,
         "STI Price": 3175,
         "_deepnote_index_column": 4
        },
        {
         "Date": 738012,
         "Still Hospitalised": 478,
         "Phase": "Preparatory Stage",
         "7 days Moving Average": 82.14285714285714,
         "Percentage Vaccinated": 0.7691786844882167,
         "STI Price": 3187.53,
         "_deepnote_index_column": 5
        },
        {
         "Date": 738013,
         "Still Hospitalised": 478,
         "Phase": "Preparatory Stage",
         "7 days Moving Average": 77.57142857142857,
         "Percentage Vaccinated": 0.7709516355962012,
         "STI Price": 3204.76,
         "_deepnote_index_column": 6
        },
        {
         "Date": 738014,
         "Still Hospitalised": 440,
         "Phase": "Preparatory Stage",
         "7 days Moving Average": 72,
         "Percentage Vaccinated": 0.7727238832219486,
         "STI Price": 3190.23,
         "_deepnote_index_column": 7
        },
        {
         "Date": 738015,
         "Still Hospitalised": 458,
         "Phase": "Preparatory Stage",
         "7 days Moving Average": 65.14285714285714,
         "Percentage Vaccinated": 0.7742891311994372,
         "STI Price": 3167.03,
         "_deepnote_index_column": 8
        },
        {
         "Date": 738018,
         "Still Hospitalised": 396,
         "Phase": "Preparatory Stage",
         "7 days Moving Average": 55.57142857142857,
         "Percentage Vaccinated": 0.7794725641927541,
         "STI Price": 3139.23,
         "_deepnote_index_column": 9
        },
        {
         "Date": 738019,
         "Still Hospitalised": 374,
         "Phase": "Preparatory Stage",
         "7 days Moving Average": 55.857142857142854,
         "Percentage Vaccinated": 0.7809124164614843,
         "STI Price": 3138.58,
         "_deepnote_index_column": 10
        },
        {
         "Date": 738020,
         "Still Hospitalised": 372,
         "Phase": "Preparatory Stage",
         "7 days Moving Average": 54.42857142857143,
         "Percentage Vaccinated": 0.7821403447062961,
         "STI Price": 3117.28,
         "_deepnote_index_column": 11
        },
        {
         "Date": 738021,
         "Still Hospitalised": 361,
         "Phase": "Preparatory Stage",
         "7 days Moving Average": 50.57142857142857,
         "Percentage Vaccinated": 0.7832532536053465,
         "STI Price": 3110.38,
         "_deepnote_index_column": 12
        },
        {
         "Date": 738022,
         "Still Hospitalised": 350,
         "Phase": "Preparatory Stage",
         "7 days Moving Average": 49.285714285714285,
         "Percentage Vaccinated": 0.7842419978895533,
         "STI Price": 3106.84,
         "_deepnote_index_column": 13
        },
        {
         "Date": 738025,
         "Still Hospitalised": 306,
         "Phase": "Preparatory Stage",
         "7 days Moving Average": 50.142857142857146,
         "Percentage Vaccinated": 0.7875422089342244,
         "STI Price": 3087.56,
         "_deepnote_index_column": 14
        },
        {
         "Date": 738026,
         "Still Hospitalised": 309,
         "Phase": "Preparatory Stage",
         "7 days Moving Average": 58.714285714285715,
         "Percentage Vaccinated": 0.788301442138586,
         "STI Price": 3105.24,
         "_deepnote_index_column": 15
        },
        {
         "Date": 738027,
         "Still Hospitalised": 320,
         "Phase": "Preparatory Stage",
         "7 days Moving Average": 68.28571428571429,
         "Percentage Vaccinated": 0.7890198733731973,
         "STI Price": 3121.36,
         "_deepnote_index_column": 16
        },
        {
         "Date": 738028,
         "Still Hospitalised": 313,
         "Phase": "Preparatory Stage",
         "7 days Moving Average": 80.28571428571429,
         "Percentage Vaccinated": 0.7897959901512487,
         "STI Price": 3114.6,
         "_deepnote_index_column": 17
        },
        {
         "Date": 738029,
         "Still Hospitalised": 339,
         "Phase": "Preparatory Stage",
         "7 days Moving Average": 92,
         "Percentage Vaccinated": 0.7904820612029546,
         "STI Price": 3089.91,
         "_deepnote_index_column": 18
        },
        {
         "Date": 738032,
         "Still Hospitalised": 411,
         "Phase": "Preparatory Stage",
         "7 days Moving Average": 126.14285714285714,
         "Percentage Vaccinated": 0.7927690819556806,
         "STI Price": 3092,
         "_deepnote_index_column": 19
        },
        {
         "Date": 738033,
         "Still Hospitalised": 433,
         "Phase": "Preparatory Stage",
         "7 days Moving Average": 132.57142857142858,
         "Percentage Vaccinated": 0.7934834681674288,
         "STI Price": 3088.23,
         "_deepnote_index_column": 20
        },
        {
         "Date": 738034,
         "Still Hospitalised": 469,
         "Phase": "Preparatory Stage",
         "7 days Moving Average": 141.14285714285714,
         "Percentage Vaccinated": 0.7941380583890256,
         "STI Price": 3087.84,
         "_deepnote_index_column": 21
        },
        {
         "Date": 738035,
         "Still Hospitalised": 498,
         "Phase": "Preparatory Stage",
         "7 days Moving Average": 151.85714285714286,
         "Percentage Vaccinated": 0.7947534294759058,
         "STI Price": 3093.46,
         "_deepnote_index_column": 22
        },
        {
         "Date": 738036,
         "Still Hospitalised": 550,
         "Phase": "Preparatory Stage",
         "7 days Moving Average": 165.71428571428572,
         "Percentage Vaccinated": 0.7953798804080197,
         "STI Price": 3089.94,
         "_deepnote_index_column": 23
        },
        {
         "Date": 738039,
         "Still Hospitalised": 607,
         "Phase": "Preparatory Stage",
         "7 days Moving Average": 206,
         "Percentage Vaccinated": 0.7973047836792121,
         "STI Price": 3079.15,
         "_deepnote_index_column": 24
        },
        {
         "Date": 738040,
         "Still Hospitalised": 613,
         "Phase": "Preparatory Stage",
         "7 days Moving Average": 230.42857142857142,
         "Percentage Vaccinated": 0.7979222652128034,
         "STI Price": 3108.53,
         "_deepnote_index_column": 25
        },
        {
         "Date": 738041,
         "Still Hospitalised": 634,
         "Phase": "Preparatory Stage",
         "7 days Moving Average": 254.57142857142858,
         "Percentage Vaccinated": 0.7985265564544495,
         "STI Price": 3092.78,
         "_deepnote_index_column": 26
        },
        {
         "Date": 738042,
         "Still Hospitalised": 634,
         "Phase": "Preparatory Stage",
         "7 days Moving Average": 292.57142857142856,
         "Percentage Vaccinated": 0.7991830812521984,
         "STI Price": 3071.7,
         "_deepnote_index_column": 27
        },
        {
         "Date": 738043,
         "Still Hospitalised": 659,
         "Phase": "Preparatory Stage",
         "7 days Moving Average": 343.14285714285717,
         "Percentage Vaccinated": 0.7998422441083363,
         "STI Price": 3085.62,
         "_deepnote_index_column": 28
        },
        {
         "Date": 738046,
         "Still Hospitalised": 744,
         "Phase": "Preparatory Stage",
         "7 days Moving Average": 484.7142857142857,
         "Percentage Vaccinated": 0.8013325712275765,
         "STI Price": 3074.31,
         "_deepnote_index_column": 29
        },
        {
         "Date": 738047,
         "Still Hospitalised": 779,
         "Phase": "Preparatory Stage",
         "7 days Moving Average": 556.8571428571429,
         "Percentage Vaccinated": 0.8017697854379177,
         "STI Price": 3087.07,
         "_deepnote_index_column": 30
        },
        {
         "Date": 738048,
         "Still Hospitalised": 792,
         "Phase": "Preparatory Stage",
         "7 days Moving Average": 622.2857142857143,
         "Percentage Vaccinated": 0.8022465705240943,
         "STI Price": 3058.61,
         "_deepnote_index_column": 31
        },
        {
         "Date": 738049,
         "Still Hospitalised": 807,
         "Phase": "Preparatory Stage",
         "7 days Moving Average": 687,
         "Percentage Vaccinated": 0.8027921209989448,
         "STI Price": 3065.22,
         "_deepnote_index_column": 32
        },
        {
         "Date": 738050,
         "Still Hospitalised": 783,
         "Phase": "Preparatory Stage",
         "7 days Moving Average": 738.7142857142857,
         "Percentage Vaccinated": 0.8033944776644389,
         "STI Price": 3071.23,
         "_deepnote_index_column": 33
        },
        {
         "Date": 738053,
         "Still Hospitalised": 1025,
         "Phase": "Preparatory Stage",
         "7 days Moving Average": 918.1428571428571,
         "Percentage Vaccinated": 0.8047583538515652,
         "STI Price": 3041.73,
         "_deepnote_index_column": 34
        },
        {
         "Date": 738054,
         "Still Hospitalised": 1079,
         "Phase": "Preparatory Stage",
         "7 days Moving Average": 966.8571428571429,
         "Percentage Vaccinated": 0.8052592332043615,
         "STI Price": 3039.96,
         "_deepnote_index_column": 35
        },
        {
         "Date": 738055,
         "Still Hospitalised": 1053,
         "Phase": "Preparatory Stage",
         "7 days Moving Average": 1059.7142857142858,
         "Percentage Vaccinated": 0.8058424199788955,
         "STI Price": 3048.05,
         "_deepnote_index_column": 36
        },
        {
         "Date": 738056,
         "Still Hospitalised": 1090,
         "Phase": "Preparatory Stage",
         "7 days Moving Average": 1144.5714285714287,
         "Percentage Vaccinated": 0.806296166021808,
         "STI Price": 3076.44,
         "_deepnote_index_column": 37
        },
        {
         "Date": 738057,
         "Still Hospitalised": 1062,
         "Phase": "Preparatory Stage",
         "7 days Moving Average": 1246.7142857142858,
         "Percentage Vaccinated": 0.8066987337319733,
         "STI Price": 3089.32,
         "_deepnote_index_column": 38
        },
        {
         "Date": 738060,
         "Still Hospitalised": 1258,
         "Phase": "Stabilisation Phase",
         "7 days Moving Average": 1545.4285714285713,
         "Percentage Vaccinated": 0.8077722476257474,
         "STI Price": 3100.3,
         "_deepnote_index_column": 39
        },
        {
         "Date": 738061,
         "Still Hospitalised": 1295,
         "Phase": "Stabilisation Phase",
         "7 days Moving Average": 1696.5714285714287,
         "Percentage Vaccinated": 0.8078506858951812,
         "STI Price": 3085.44,
         "_deepnote_index_column": 40
        },
        {
         "Date": 738062,
         "Still Hospitalised": 1305,
         "Phase": "Stabilisation Phase",
         "7 days Moving Average": 1812.4285714285713,
         "Percentage Vaccinated": 0.8078995779106578,
         "STI Price": 3080.88,
         "_deepnote_index_column": 41
        },
        {
         "Date": 738063,
         "Still Hospitalised": 1330,
         "Phase": "Stabilisation Phase",
         "7 days Moving Average": 1951.5714285714287,
         "Percentage Vaccinated": 0.8079143510376363,
         "STI Price": 3090.32,
         "_deepnote_index_column": 42
        },
        {
         "Date": 738064,
         "Still Hospitalised": 1326,
         "Phase": "Stabilisation Phase",
         "7 days Moving Average": 2131.4285714285716,
         "Percentage Vaccinated": 0.8080357017235315,
         "STI Price": 3051.11,
         "_deepnote_index_column": 43
        },
        {
         "Date": 738067,
         "Still Hospitalised": 1325,
         "Phase": "Stabilisation Phase",
         "7 days Moving Average": 2397,
         "Percentage Vaccinated": 0.8081122054168133,
         "STI Price": 3079.99,
         "_deepnote_index_column": 44
        },
        {
         "Date": 738068,
         "Still Hospitalised": 1482,
         "Phase": "Stabilisation Phase",
         "7 days Moving Average": 2575.5714285714284,
         "Percentage Vaccinated": 0.8081273302849104,
         "STI Price": 3071.93,
         "_deepnote_index_column": 45
        },
        {
         "Date": 738069,
         "Still Hospitalised": 1490,
         "Phase": "Stabilisation Phase",
         "7 days Moving Average": 2762.5714285714284,
         "Percentage Vaccinated": 0.8081596904678157,
         "STI Price": 3082.58,
         "_deepnote_index_column": 46
        },
        {
         "Date": 738070,
         "Still Hospitalised": 1504,
         "Phase": "Stabilisation Phase",
         "7 days Moving Average": 2906.1428571428573,
         "Percentage Vaccinated": 0.8081727048892016,
         "STI Price": 3099.99,
         "_deepnote_index_column": 47
        },
        {
         "Date": 738071,
         "Still Hospitalised": 1534,
         "Phase": "Stabilisation Phase",
         "7 days Moving Average": 3003.4285714285716,
         "Percentage Vaccinated": 0.80847836792121,
         "STI Price": 3110.82,
         "_deepnote_index_column": 48
        },
        {
         "Date": 738074,
         "Still Hospitalised": 1668,
         "Phase": "Stabilisation Phase",
         "7 days Moving Average": 3273,
         "Percentage Vaccinated": 0.8096873021456208,
         "STI Price": 3118.57,
         "_deepnote_index_column": 49
        },
        {
         "Date": 738075,
         "Still Hospitalised": 1589,
         "Phase": "Stabilisation Phase",
         "7 days Moving Average": 3200.1428571428573,
         "Percentage Vaccinated": 0.810230038691523,
         "STI Price": 3102.29,
         "_deepnote_index_column": 50
        },
        {
         "Date": 738076,
         "Still Hospitalised": 1477,
         "Phase": "Stabilisation Phase",
         "7 days Moving Average": 3144.8571428571427,
         "Percentage Vaccinated": 0.8106869504045023,
         "STI Price": 3122.78,
         "_deepnote_index_column": 51
        },
        {
         "Date": 738077,
         "Still Hospitalised": 1481,
         "Phase": "Stabilisation Phase",
         "7 days Moving Average": 3066.1428571428573,
         "Percentage Vaccinated": 0.8110738656348927,
         "STI Price": 3148.34,
         "_deepnote_index_column": 52
        },
        {
         "Date": 738078,
         "Still Hospitalised": 1563,
         "Phase": "Stabilisation Phase",
         "7 days Moving Average": 3045.4285714285716,
         "Percentage Vaccinated": 0.8114201547660922,
         "STI Price": 3180.55,
         "_deepnote_index_column": 53
        },
        {
         "Date": 738081,
         "Still Hospitalised": 1684,
         "Phase": "Stabilisation Phase",
         "7 days Moving Average": 3071.714285714286,
         "Percentage Vaccinated": 0.8125592683784735,
         "STI Price": 3174.3,
         "_deepnote_index_column": 54
        },
        {
         "Date": 738082,
         "Still Hospitalised": 1708,
         "Phase": "Stabilisation Phase",
         "7 days Moving Average": 3217.1428571428573,
         "Percentage Vaccinated": 0.8129497010200493,
         "STI Price": 3195.45,
         "_deepnote_index_column": 55
        },
        {
         "Date": 738083,
         "Still Hospitalised": 1688,
         "Phase": "Stabilisation Phase",
         "7 days Moving Average": 3313.1428571428573,
         "Percentage Vaccinated": 0.8132124516355962,
         "STI Price": 3212.67,
         "_deepnote_index_column": 56
        },
        {
         "Date": 738084,
         "Still Hospitalised": 1583,
         "Phase": "Stabilisation Phase",
         "7 days Moving Average": 3385.5714285714284,
         "Percentage Vaccinated": 0.813465881111502,
         "STI Price": 3203.92,
         "_deepnote_index_column": 57
        },
        {
         "Date": 738085,
         "Still Hospitalised": 1579,
         "Phase": "Stabilisation Phase",
         "7 days Moving Average": 3413,
         "Percentage Vaccinated": 0.813715617305663,
         "STI Price": 3195.36,
         "_deepnote_index_column": 58
        }
       ],
       "rows_bottom": null
      },
      "text/plain": "      Date  Still Hospitalised                       Phase  \\\n0   738004                 572  Phase 2 (Heightened Alert)   \n1   738005                 562  Phase 2 (Heightened Alert)   \n2   738006                 525  Phase 2 (Heightened Alert)   \n3   738007                 547  Phase 2 (Heightened Alert)   \n4   738008                 516  Phase 2 (Heightened Alert)   \n5   738012                 478           Preparatory Stage   \n6   738013                 478           Preparatory Stage   \n7   738014                 440           Preparatory Stage   \n8   738015                 458           Preparatory Stage   \n9   738018                 396           Preparatory Stage   \n10  738019                 374           Preparatory Stage   \n11  738020                 372           Preparatory Stage   \n12  738021                 361           Preparatory Stage   \n13  738022                 350           Preparatory Stage   \n14  738025                 306           Preparatory Stage   \n15  738026                 309           Preparatory Stage   \n16  738027                 320           Preparatory Stage   \n17  738028                 313           Preparatory Stage   \n18  738029                 339           Preparatory Stage   \n19  738032                 411           Preparatory Stage   \n20  738033                 433           Preparatory Stage   \n21  738034                 469           Preparatory Stage   \n22  738035                 498           Preparatory Stage   \n23  738036                 550           Preparatory Stage   \n24  738039                 607           Preparatory Stage   \n25  738040                 613           Preparatory Stage   \n26  738041                 634           Preparatory Stage   \n27  738042                 634           Preparatory Stage   \n28  738043                 659           Preparatory Stage   \n29  738046                 744           Preparatory Stage   \n30  738047                 779           Preparatory Stage   \n31  738048                 792           Preparatory Stage   \n32  738049                 807           Preparatory Stage   \n33  738050                 783           Preparatory Stage   \n34  738053                1025           Preparatory Stage   \n35  738054                1079           Preparatory Stage   \n36  738055                1053           Preparatory Stage   \n37  738056                1090           Preparatory Stage   \n38  738057                1062           Preparatory Stage   \n39  738060                1258         Stabilisation Phase   \n40  738061                1295         Stabilisation Phase   \n41  738062                1305         Stabilisation Phase   \n42  738063                1330         Stabilisation Phase   \n43  738064                1326         Stabilisation Phase   \n44  738067                1325         Stabilisation Phase   \n45  738068                1482         Stabilisation Phase   \n46  738069                1490         Stabilisation Phase   \n47  738070                1504         Stabilisation Phase   \n48  738071                1534         Stabilisation Phase   \n49  738074                1668         Stabilisation Phase   \n50  738075                1589         Stabilisation Phase   \n51  738076                1477         Stabilisation Phase   \n52  738077                1481         Stabilisation Phase   \n53  738078                1563         Stabilisation Phase   \n54  738081                1684         Stabilisation Phase   \n55  738082                1708         Stabilisation Phase   \n56  738083                1688         Stabilisation Phase   \n57  738084                1583         Stabilisation Phase   \n58  738085                1579         Stabilisation Phase   \n\n    7 days Moving Average  Percentage Vaccinated  STI Price  \n0              111.000000               0.758562    3176.42  \n1              102.000000               0.759976    3149.25  \n2               95.000000               0.761512    3154.60  \n3               98.000000               0.762820    3186.65  \n4               97.000000               0.764014    3175.00  \n5               82.142857               0.769179    3187.53  \n6               77.571429               0.770952    3204.76  \n7               72.000000               0.772724    3190.23  \n8               65.142857               0.774289    3167.03  \n9               55.571429               0.779473    3139.23  \n10              55.857143               0.780912    3138.58  \n11              54.428571               0.782140    3117.28  \n12              50.571429               0.783253    3110.38  \n13              49.285714               0.784242    3106.84  \n14              50.142857               0.787542    3087.56  \n15              58.714286               0.788301    3105.24  \n16              68.285714               0.789020    3121.36  \n17              80.285714               0.789796    3114.60  \n18              92.000000               0.790482    3089.91  \n19             126.142857               0.792769    3092.00  \n20             132.571429               0.793483    3088.23  \n21             141.142857               0.794138    3087.84  \n22             151.857143               0.794753    3093.46  \n23             165.714286               0.795380    3089.94  \n24             206.000000               0.797305    3079.15  \n25             230.428571               0.797922    3108.53  \n26             254.571429               0.798527    3092.78  \n27             292.571429               0.799183    3071.70  \n28             343.142857               0.799842    3085.62  \n29             484.714286               0.801333    3074.31  \n30             556.857143               0.801770    3087.07  \n31             622.285714               0.802247    3058.61  \n32             687.000000               0.802792    3065.22  \n33             738.714286               0.803394    3071.23  \n34             918.142857               0.804758    3041.73  \n35             966.857143               0.805259    3039.96  \n36            1059.714286               0.805842    3048.05  \n37            1144.571429               0.806296    3076.44  \n38            1246.714286               0.806699    3089.32  \n39            1545.428571               0.807772    3100.30  \n40            1696.571429               0.807851    3085.44  \n41            1812.428571               0.807900    3080.88  \n42            1951.571429               0.807914    3090.32  \n43            2131.428571               0.808036    3051.11  \n44            2397.000000               0.808112    3079.99  \n45            2575.571429               0.808127    3071.93  \n46            2762.571429               0.808160    3082.58  \n47            2906.142857               0.808173    3099.99  \n48            3003.428571               0.808478    3110.82  \n49            3273.000000               0.809687    3118.57  \n50            3200.142857               0.810230    3102.29  \n51            3144.857143               0.810687    3122.78  \n52            3066.142857               0.811074    3148.34  \n53            3045.428571               0.811420    3180.55  \n54            3071.714286               0.812559    3174.30  \n55            3217.142857               0.812950    3195.45  \n56            3313.142857               0.813212    3212.67  \n57            3385.571429               0.813466    3203.92  \n58            3413.000000               0.813716    3195.36  ",
      "text/html": "<div>\n<style scoped>\n    .dataframe tbody tr th:only-of-type {\n        vertical-align: middle;\n    }\n\n    .dataframe tbody tr th {\n        vertical-align: top;\n    }\n\n    .dataframe thead th {\n        text-align: right;\n    }\n</style>\n<table border=\"1\" class=\"dataframe\">\n  <thead>\n    <tr style=\"text-align: right;\">\n      <th></th>\n      <th>Date</th>\n      <th>Still Hospitalised</th>\n      <th>Phase</th>\n      <th>7 days Moving Average</th>\n      <th>Percentage Vaccinated</th>\n      <th>STI Price</th>\n    </tr>\n  </thead>\n  <tbody>\n    <tr>\n      <th>0</th>\n      <td>738004</td>\n      <td>572</td>\n      <td>Phase 2 (Heightened Alert)</td>\n      <td>111.000000</td>\n      <td>0.758562</td>\n      <td>3176.42</td>\n    </tr>\n    <tr>\n      <th>1</th>\n      <td>738005</td>\n      <td>562</td>\n      <td>Phase 2 (Heightened Alert)</td>\n      <td>102.000000</td>\n      <td>0.759976</td>\n      <td>3149.25</td>\n    </tr>\n    <tr>\n      <th>2</th>\n      <td>738006</td>\n      <td>525</td>\n      <td>Phase 2 (Heightened Alert)</td>\n      <td>95.000000</td>\n      <td>0.761512</td>\n      <td>3154.60</td>\n    </tr>\n    <tr>\n      <th>3</th>\n      <td>738007</td>\n      <td>547</td>\n      <td>Phase 2 (Heightened Alert)</td>\n      <td>98.000000</td>\n      <td>0.762820</td>\n      <td>3186.65</td>\n    </tr>\n    <tr>\n      <th>4</th>\n      <td>738008</td>\n      <td>516</td>\n      <td>Phase 2 (Heightened Alert)</td>\n      <td>97.000000</td>\n      <td>0.764014</td>\n      <td>3175.00</td>\n    </tr>\n    <tr>\n      <th>5</th>\n      <td>738012</td>\n      <td>478</td>\n      <td>Preparatory Stage</td>\n      <td>82.142857</td>\n      <td>0.769179</td>\n      <td>3187.53</td>\n    </tr>\n    <tr>\n      <th>6</th>\n      <td>738013</td>\n      <td>478</td>\n      <td>Preparatory Stage</td>\n      <td>77.571429</td>\n      <td>0.770952</td>\n      <td>3204.76</td>\n    </tr>\n    <tr>\n      <th>7</th>\n      <td>738014</td>\n      <td>440</td>\n      <td>Preparatory Stage</td>\n      <td>72.000000</td>\n      <td>0.772724</td>\n      <td>3190.23</td>\n    </tr>\n    <tr>\n      <th>8</th>\n      <td>738015</td>\n      <td>458</td>\n      <td>Preparatory Stage</td>\n      <td>65.142857</td>\n      <td>0.774289</td>\n      <td>3167.03</td>\n    </tr>\n    <tr>\n      <th>9</th>\n      <td>738018</td>\n      <td>396</td>\n      <td>Preparatory Stage</td>\n      <td>55.571429</td>\n      <td>0.779473</td>\n      <td>3139.23</td>\n    </tr>\n    <tr>\n      <th>10</th>\n      <td>738019</td>\n      <td>374</td>\n      <td>Preparatory Stage</td>\n      <td>55.857143</td>\n      <td>0.780912</td>\n      <td>3138.58</td>\n    </tr>\n    <tr>\n      <th>11</th>\n      <td>738020</td>\n      <td>372</td>\n      <td>Preparatory Stage</td>\n      <td>54.428571</td>\n      <td>0.782140</td>\n      <td>3117.28</td>\n    </tr>\n    <tr>\n      <th>12</th>\n      <td>738021</td>\n      <td>361</td>\n      <td>Preparatory Stage</td>\n      <td>50.571429</td>\n      <td>0.783253</td>\n      <td>3110.38</td>\n    </tr>\n    <tr>\n      <th>13</th>\n      <td>738022</td>\n      <td>350</td>\n      <td>Preparatory Stage</td>\n      <td>49.285714</td>\n      <td>0.784242</td>\n      <td>3106.84</td>\n    </tr>\n    <tr>\n      <th>14</th>\n      <td>738025</td>\n      <td>306</td>\n      <td>Preparatory Stage</td>\n      <td>50.142857</td>\n      <td>0.787542</td>\n      <td>3087.56</td>\n    </tr>\n    <tr>\n      <th>15</th>\n      <td>738026</td>\n      <td>309</td>\n      <td>Preparatory Stage</td>\n      <td>58.714286</td>\n      <td>0.788301</td>\n      <td>3105.24</td>\n    </tr>\n    <tr>\n      <th>16</th>\n      <td>738027</td>\n      <td>320</td>\n      <td>Preparatory Stage</td>\n      <td>68.285714</td>\n      <td>0.789020</td>\n      <td>3121.36</td>\n    </tr>\n    <tr>\n      <th>17</th>\n      <td>738028</td>\n      <td>313</td>\n      <td>Preparatory Stage</td>\n      <td>80.285714</td>\n      <td>0.789796</td>\n      <td>3114.60</td>\n    </tr>\n    <tr>\n      <th>18</th>\n      <td>738029</td>\n      <td>339</td>\n      <td>Preparatory Stage</td>\n      <td>92.000000</td>\n      <td>0.790482</td>\n      <td>3089.91</td>\n    </tr>\n    <tr>\n      <th>19</th>\n      <td>738032</td>\n      <td>411</td>\n      <td>Preparatory Stage</td>\n      <td>126.142857</td>\n      <td>0.792769</td>\n      <td>3092.00</td>\n    </tr>\n    <tr>\n      <th>20</th>\n      <td>738033</td>\n      <td>433</td>\n      <td>Preparatory Stage</td>\n      <td>132.571429</td>\n      <td>0.793483</td>\n      <td>3088.23</td>\n    </tr>\n    <tr>\n      <th>21</th>\n      <td>738034</td>\n      <td>469</td>\n      <td>Preparatory Stage</td>\n      <td>141.142857</td>\n      <td>0.794138</td>\n      <td>3087.84</td>\n    </tr>\n    <tr>\n      <th>22</th>\n      <td>738035</td>\n      <td>498</td>\n      <td>Preparatory Stage</td>\n      <td>151.857143</td>\n      <td>0.794753</td>\n      <td>3093.46</td>\n    </tr>\n    <tr>\n      <th>23</th>\n      <td>738036</td>\n      <td>550</td>\n      <td>Preparatory Stage</td>\n      <td>165.714286</td>\n      <td>0.795380</td>\n      <td>3089.94</td>\n    </tr>\n    <tr>\n      <th>24</th>\n      <td>738039</td>\n      <td>607</td>\n      <td>Preparatory Stage</td>\n      <td>206.000000</td>\n      <td>0.797305</td>\n      <td>3079.15</td>\n    </tr>\n    <tr>\n      <th>25</th>\n      <td>738040</td>\n      <td>613</td>\n      <td>Preparatory Stage</td>\n      <td>230.428571</td>\n      <td>0.797922</td>\n      <td>3108.53</td>\n    </tr>\n    <tr>\n      <th>26</th>\n      <td>738041</td>\n      <td>634</td>\n      <td>Preparatory Stage</td>\n      <td>254.571429</td>\n      <td>0.798527</td>\n      <td>3092.78</td>\n    </tr>\n    <tr>\n      <th>27</th>\n      <td>738042</td>\n      <td>634</td>\n      <td>Preparatory Stage</td>\n      <td>292.571429</td>\n      <td>0.799183</td>\n      <td>3071.70</td>\n    </tr>\n    <tr>\n      <th>28</th>\n      <td>738043</td>\n      <td>659</td>\n      <td>Preparatory Stage</td>\n      <td>343.142857</td>\n      <td>0.799842</td>\n      <td>3085.62</td>\n    </tr>\n    <tr>\n      <th>29</th>\n      <td>738046</td>\n      <td>744</td>\n      <td>Preparatory Stage</td>\n      <td>484.714286</td>\n      <td>0.801333</td>\n      <td>3074.31</td>\n    </tr>\n    <tr>\n      <th>30</th>\n      <td>738047</td>\n      <td>779</td>\n      <td>Preparatory Stage</td>\n      <td>556.857143</td>\n      <td>0.801770</td>\n      <td>3087.07</td>\n    </tr>\n    <tr>\n      <th>31</th>\n      <td>738048</td>\n      <td>792</td>\n      <td>Preparatory Stage</td>\n      <td>622.285714</td>\n      <td>0.802247</td>\n      <td>3058.61</td>\n    </tr>\n    <tr>\n      <th>32</th>\n      <td>738049</td>\n      <td>807</td>\n      <td>Preparatory Stage</td>\n      <td>687.000000</td>\n      <td>0.802792</td>\n      <td>3065.22</td>\n    </tr>\n    <tr>\n      <th>33</th>\n      <td>738050</td>\n      <td>783</td>\n      <td>Preparatory Stage</td>\n      <td>738.714286</td>\n      <td>0.803394</td>\n      <td>3071.23</td>\n    </tr>\n    <tr>\n      <th>34</th>\n      <td>738053</td>\n      <td>1025</td>\n      <td>Preparatory Stage</td>\n      <td>918.142857</td>\n      <td>0.804758</td>\n      <td>3041.73</td>\n    </tr>\n    <tr>\n      <th>35</th>\n      <td>738054</td>\n      <td>1079</td>\n      <td>Preparatory Stage</td>\n      <td>966.857143</td>\n      <td>0.805259</td>\n      <td>3039.96</td>\n    </tr>\n    <tr>\n      <th>36</th>\n      <td>738055</td>\n      <td>1053</td>\n      <td>Preparatory Stage</td>\n      <td>1059.714286</td>\n      <td>0.805842</td>\n      <td>3048.05</td>\n    </tr>\n    <tr>\n      <th>37</th>\n      <td>738056</td>\n      <td>1090</td>\n      <td>Preparatory Stage</td>\n      <td>1144.571429</td>\n      <td>0.806296</td>\n      <td>3076.44</td>\n    </tr>\n    <tr>\n      <th>38</th>\n      <td>738057</td>\n      <td>1062</td>\n      <td>Preparatory Stage</td>\n      <td>1246.714286</td>\n      <td>0.806699</td>\n      <td>3089.32</td>\n    </tr>\n    <tr>\n      <th>39</th>\n      <td>738060</td>\n      <td>1258</td>\n      <td>Stabilisation Phase</td>\n      <td>1545.428571</td>\n      <td>0.807772</td>\n      <td>3100.30</td>\n    </tr>\n    <tr>\n      <th>40</th>\n      <td>738061</td>\n      <td>1295</td>\n      <td>Stabilisation Phase</td>\n      <td>1696.571429</td>\n      <td>0.807851</td>\n      <td>3085.44</td>\n    </tr>\n    <tr>\n      <th>41</th>\n      <td>738062</td>\n      <td>1305</td>\n      <td>Stabilisation Phase</td>\n      <td>1812.428571</td>\n      <td>0.807900</td>\n      <td>3080.88</td>\n    </tr>\n    <tr>\n      <th>42</th>\n      <td>738063</td>\n      <td>1330</td>\n      <td>Stabilisation Phase</td>\n      <td>1951.571429</td>\n      <td>0.807914</td>\n      <td>3090.32</td>\n    </tr>\n    <tr>\n      <th>43</th>\n      <td>738064</td>\n      <td>1326</td>\n      <td>Stabilisation Phase</td>\n      <td>2131.428571</td>\n      <td>0.808036</td>\n      <td>3051.11</td>\n    </tr>\n    <tr>\n      <th>44</th>\n      <td>738067</td>\n      <td>1325</td>\n      <td>Stabilisation Phase</td>\n      <td>2397.000000</td>\n      <td>0.808112</td>\n      <td>3079.99</td>\n    </tr>\n    <tr>\n      <th>45</th>\n      <td>738068</td>\n      <td>1482</td>\n      <td>Stabilisation Phase</td>\n      <td>2575.571429</td>\n      <td>0.808127</td>\n      <td>3071.93</td>\n    </tr>\n    <tr>\n      <th>46</th>\n      <td>738069</td>\n      <td>1490</td>\n      <td>Stabilisation Phase</td>\n      <td>2762.571429</td>\n      <td>0.808160</td>\n      <td>3082.58</td>\n    </tr>\n    <tr>\n      <th>47</th>\n      <td>738070</td>\n      <td>1504</td>\n      <td>Stabilisation Phase</td>\n      <td>2906.142857</td>\n      <td>0.808173</td>\n      <td>3099.99</td>\n    </tr>\n    <tr>\n      <th>48</th>\n      <td>738071</td>\n      <td>1534</td>\n      <td>Stabilisation Phase</td>\n      <td>3003.428571</td>\n      <td>0.808478</td>\n      <td>3110.82</td>\n    </tr>\n    <tr>\n      <th>49</th>\n      <td>738074</td>\n      <td>1668</td>\n      <td>Stabilisation Phase</td>\n      <td>3273.000000</td>\n      <td>0.809687</td>\n      <td>3118.57</td>\n    </tr>\n    <tr>\n      <th>50</th>\n      <td>738075</td>\n      <td>1589</td>\n      <td>Stabilisation Phase</td>\n      <td>3200.142857</td>\n      <td>0.810230</td>\n      <td>3102.29</td>\n    </tr>\n    <tr>\n      <th>51</th>\n      <td>738076</td>\n      <td>1477</td>\n      <td>Stabilisation Phase</td>\n      <td>3144.857143</td>\n      <td>0.810687</td>\n      <td>3122.78</td>\n    </tr>\n    <tr>\n      <th>52</th>\n      <td>738077</td>\n      <td>1481</td>\n      <td>Stabilisation Phase</td>\n      <td>3066.142857</td>\n      <td>0.811074</td>\n      <td>3148.34</td>\n    </tr>\n    <tr>\n      <th>53</th>\n      <td>738078</td>\n      <td>1563</td>\n      <td>Stabilisation Phase</td>\n      <td>3045.428571</td>\n      <td>0.811420</td>\n      <td>3180.55</td>\n    </tr>\n    <tr>\n      <th>54</th>\n      <td>738081</td>\n      <td>1684</td>\n      <td>Stabilisation Phase</td>\n      <td>3071.714286</td>\n      <td>0.812559</td>\n      <td>3174.30</td>\n    </tr>\n    <tr>\n      <th>55</th>\n      <td>738082</td>\n      <td>1708</td>\n      <td>Stabilisation Phase</td>\n      <td>3217.142857</td>\n      <td>0.812950</td>\n      <td>3195.45</td>\n    </tr>\n    <tr>\n      <th>56</th>\n      <td>738083</td>\n      <td>1688</td>\n      <td>Stabilisation Phase</td>\n      <td>3313.142857</td>\n      <td>0.813212</td>\n      <td>3212.67</td>\n    </tr>\n    <tr>\n      <th>57</th>\n      <td>738084</td>\n      <td>1583</td>\n      <td>Stabilisation Phase</td>\n      <td>3385.571429</td>\n      <td>0.813466</td>\n      <td>3203.92</td>\n    </tr>\n    <tr>\n      <th>58</th>\n      <td>738085</td>\n      <td>1579</td>\n      <td>Stabilisation Phase</td>\n      <td>3413.000000</td>\n      <td>0.813716</td>\n      <td>3195.36</td>\n    </tr>\n  </tbody>\n</table>\n</div>"
     },
     "metadata": {}
    }
   ],
   "execution_count": 11
  },
  {
   "cell_type": "code",
   "source": "_deepnote_run_altair(merged_df, \"\"\"{\"$schema\":\"https://vega.github.io/schema/vega-lite/v4.json\",\"mark\":{\"type\":\"bar\",\"tooltip\":{\"content\":\"data\"}},\"height\":220,\"autosize\":{\"type\":\"fit\"},\"data\":{\"name\":\"placeholder\"},\"encoding\":{\"x\":{\"field\":\"7 days Moving Average\",\"type\":\"quantitative\",\"sort\":null,\"scale\":{\"type\":\"linear\",\"zero\":false}},\"y\":{\"field\":\"STI Price\",\"type\":\"quantitative\",\"sort\":null,\"scale\":{\"type\":\"linear\",\"zero\":true}},\"color\":{\"field\":\"\",\"type\":\"nominal\",\"sort\":null,\"scale\":{\"type\":\"linear\",\"zero\":false}}}}\"\"\")",
   "metadata": {
    "cell_id": "00013-d8b86be9-ecef-4332-af97-ab1dd16d15a6",
    "deepnote_variable_name": "merged_df",
    "deepnote_visualization_spec": {
     "$schema": "https://vega.github.io/schema/vega-lite/v4.json",
     "mark": {
      "type": "bar",
      "tooltip": {
       "content": "data"
      }
     },
     "height": 220,
     "autosize": {
      "type": "fit"
     },
     "data": {
      "name": "placeholder"
     },
     "encoding": {
      "x": {
       "field": "7 days Moving Average",
       "type": "quantitative",
       "sort": null,
       "scale": {
        "type": "linear",
        "zero": false
       }
      },
      "y": {
       "field": "STI Price",
       "type": "quantitative",
       "sort": null,
       "scale": {
        "type": "linear",
        "zero": true
       }
      },
      "color": {
       "field": "",
       "type": "nominal",
       "sort": null,
       "scale": {
        "type": "linear",
        "zero": false
       }
      }
     }
    },
    "deepnote_to_be_reexecuted": false,
    "source_hash": "7acb97c4",
    "execution_start": 1635252809223,
    "execution_millis": 649,
    "deepnote_cell_type": "visualization"
   },
   "outputs": [
    {
     "output_type": "execute_result",
     "execution_count": 10,
     "data": {
      "text/html": "\n<div id=\"altair-viz-1ea11becf8664601a726ff1938ee6b7d\"></div>\n<script type=\"text/javascript\">\n  (function(spec, embedOpt){\n    let outputDiv = document.currentScript.previousElementSibling;\n    if (outputDiv.id !== \"altair-viz-1ea11becf8664601a726ff1938ee6b7d\") {\n      outputDiv = document.getElementById(\"altair-viz-1ea11becf8664601a726ff1938ee6b7d\");\n    }\n    const paths = {\n      \"vega\": \"https://cdn.jsdelivr.net/npm//vega@5?noext\",\n      \"vega-lib\": \"https://cdn.jsdelivr.net/npm//vega-lib?noext\",\n      \"vega-lite\": \"https://cdn.jsdelivr.net/npm//vega-lite@4.8.1?noext\",\n      \"vega-embed\": \"https://cdn.jsdelivr.net/npm//vega-embed@6?noext\",\n    };\n\n    function loadScript(lib) {\n      return new Promise(function(resolve, reject) {\n        var s = document.createElement('script');\n        s.src = paths[lib];\n        s.async = true;\n        s.onload = () => resolve(paths[lib]);\n        s.onerror = () => reject(`Error loading script: ${paths[lib]}`);\n        document.getElementsByTagName(\"head\")[0].appendChild(s);\n      });\n    }\n\n    function showError(err) {\n      outputDiv.innerHTML = `<div class=\"error\" style=\"color:red;\">${err}</div>`;\n      throw err;\n    }\n\n    function displayChart(vegaEmbed) {\n      vegaEmbed(outputDiv, spec, embedOpt)\n        .catch(err => showError(`Javascript Error: ${err.message}<br>This usually means there's a typo in your chart specification. See the javascript console for the full traceback.`));\n    }\n\n    if(typeof define === \"function\" && define.amd) {\n      requirejs.config({paths});\n      require([\"vega-embed\"], displayChart, err => showError(`Error loading script: ${err.message}`));\n    } else if (typeof vegaEmbed === \"function\") {\n      displayChart(vegaEmbed);\n    } else {\n      loadScript(\"vega\")\n        .then(() => loadScript(\"vega-lite\"))\n        .then(() => loadScript(\"vega-embed\"))\n        .catch(showError)\n        .then(() => displayChart(vegaEmbed));\n    }\n  })({\"config\": {\"view\": {\"continuousWidth\": 400, \"continuousHeight\": 300}, \"area\": {\"fill\": \"#51C0E9\"}, \"axis\": {\"labelFont\": \"Inter, sans-serif\", \"labelFontSize\": 12, \"labelFontWeight\": \"normal\", \"labelLimit\": 60, \"labelOverlap\": \"greedy\", \"titleFont\": \"Inter, sans-serif\", \"titleFontSize\": 12, \"titleFontWeight\": \"bold\"}, \"background\": \"#ffffff\", \"legend\": {\"labelFont\": \"Inter, sans-serif\", \"labelFontSize\": 12, \"titleFont\": \"Inter, sans-serif\", \"titleFontSize\": 12, \"titleFontWeight\": \"bold\"}, \"line\": {\"stroke\": \"#51C0E9\", \"strokeWidth\": 2}, \"rect\": {\"fill\": \"#51C0E9\"}, \"title\": {\"anchor\": \"start\", \"color\": \"#000000\", \"font\": \"Inter, sans-serif\", \"fontSize\": 22, \"fontWeight\": \"normal\"}}, \"data\": {\"name\": \"data-4b52460887f3515ca7fada659c5d72f5\"}, \"mark\": {\"type\": \"bar\", \"tooltip\": {\"content\": \"data\"}}, \"autosize\": {\"type\": \"fit\"}, \"encoding\": {\"color\": {\"type\": \"nominal\", \"field\": \"\", \"scale\": {\"type\": \"linear\", \"zero\": false}, \"sort\": null}, \"x\": {\"type\": \"quantitative\", \"field\": \"7 days Moving Average\", \"scale\": {\"type\": \"linear\", \"zero\": false}, \"sort\": null}, \"y\": {\"type\": \"quantitative\", \"field\": \"STI Price\", \"scale\": {\"type\": \"linear\", \"zero\": true}, \"sort\": null}}, \"height\": 300, \"width\": \"container\", \"$schema\": \"https://vega.github.io/schema/vega-lite/v4.json\", \"datasets\": {\"data-4b52460887f3515ca7fada659c5d72f5\": [{\"Date\": 738004, \"7 days Moving Average\": 111.0, \"Still Hospitalised\": 572, \"Phase\": \"Phase 2 (Heightened Alert)\", \"Percentage Vaccinated\": 0.7585617305663032, \"STI Price\": 3176.42}, {\"Date\": 738005, \"7 days Moving Average\": 102.0, \"Still Hospitalised\": 562, \"Phase\": \"Phase 2 (Heightened Alert)\", \"Percentage Vaccinated\": 0.7599759057333803, \"STI Price\": 3149.25}, {\"Date\": 738006, \"7 days Moving Average\": 95.0, \"Still Hospitalised\": 525, \"Phase\": \"Phase 2 (Heightened Alert)\", \"Percentage Vaccinated\": 0.7615117833274709, \"STI Price\": 3154.6}, {\"Date\": 738007, \"7 days Moving Average\": 98.0, \"Still Hospitalised\": 547, \"Phase\": \"Phase 2 (Heightened Alert)\", \"Percentage Vaccinated\": 0.762820436158987, \"STI Price\": 3186.65}, {\"Date\": 738008, \"7 days Moving Average\": 97.0, \"Still Hospitalised\": 516, \"Phase\": \"Phase 2 (Heightened Alert)\", \"Percentage Vaccinated\": 0.7640138937741822, \"STI Price\": 3175.0}, {\"Date\": 738012, \"7 days Moving Average\": 82.14285714285714, \"Still Hospitalised\": 478, \"Phase\": \"Preparatory Stage\", \"Percentage Vaccinated\": 0.7691786844882167, \"STI Price\": 3187.53}, {\"Date\": 738013, \"7 days Moving Average\": 77.57142857142857, \"Still Hospitalised\": 478, \"Phase\": \"Preparatory Stage\", \"Percentage Vaccinated\": 0.7709516355962012, \"STI Price\": 3204.76}, {\"Date\": 738014, \"7 days Moving Average\": 72.0, \"Still Hospitalised\": 440, \"Phase\": \"Preparatory Stage\", \"Percentage Vaccinated\": 0.7727238832219486, \"STI Price\": 3190.23}, {\"Date\": 738015, \"7 days Moving Average\": 65.14285714285714, \"Still Hospitalised\": 458, \"Phase\": \"Preparatory Stage\", \"Percentage Vaccinated\": 0.7742891311994372, \"STI Price\": 3167.03}, {\"Date\": 738018, \"7 days Moving Average\": 55.57142857142857, \"Still Hospitalised\": 396, \"Phase\": \"Preparatory Stage\", \"Percentage Vaccinated\": 0.7794725641927541, \"STI Price\": 3139.23}, {\"Date\": 738019, \"7 days Moving Average\": 55.857142857142854, \"Still Hospitalised\": 374, \"Phase\": \"Preparatory Stage\", \"Percentage Vaccinated\": 0.7809124164614843, \"STI Price\": 3138.58}, {\"Date\": 738020, \"7 days Moving Average\": 54.42857142857143, \"Still Hospitalised\": 372, \"Phase\": \"Preparatory Stage\", \"Percentage Vaccinated\": 0.7821403447062961, \"STI Price\": 3117.28}, {\"Date\": 738021, \"7 days Moving Average\": 50.57142857142857, \"Still Hospitalised\": 361, \"Phase\": \"Preparatory Stage\", \"Percentage Vaccinated\": 0.7832532536053465, \"STI Price\": 3110.38}, {\"Date\": 738022, \"7 days Moving Average\": 49.285714285714285, \"Still Hospitalised\": 350, \"Phase\": \"Preparatory Stage\", \"Percentage Vaccinated\": 0.7842419978895533, \"STI Price\": 3106.84}, {\"Date\": 738025, \"7 days Moving Average\": 50.142857142857146, \"Still Hospitalised\": 306, \"Phase\": \"Preparatory Stage\", \"Percentage Vaccinated\": 0.7875422089342244, \"STI Price\": 3087.56}, {\"Date\": 738026, \"7 days Moving Average\": 58.714285714285715, \"Still Hospitalised\": 309, \"Phase\": \"Preparatory Stage\", \"Percentage Vaccinated\": 0.788301442138586, \"STI Price\": 3105.24}, {\"Date\": 738027, \"7 days Moving Average\": 68.28571428571429, \"Still Hospitalised\": 320, \"Phase\": \"Preparatory Stage\", \"Percentage Vaccinated\": 0.7890198733731973, \"STI Price\": 3121.36}, {\"Date\": 738028, \"7 days Moving Average\": 80.28571428571429, \"Still Hospitalised\": 313, \"Phase\": \"Preparatory Stage\", \"Percentage Vaccinated\": 0.7897959901512487, \"STI Price\": 3114.6}, {\"Date\": 738029, \"7 days Moving Average\": 92.0, \"Still Hospitalised\": 339, \"Phase\": \"Preparatory Stage\", \"Percentage Vaccinated\": 0.7904820612029546, \"STI Price\": 3089.91}, {\"Date\": 738032, \"7 days Moving Average\": 126.14285714285714, \"Still Hospitalised\": 411, \"Phase\": \"Preparatory Stage\", \"Percentage Vaccinated\": 0.7927690819556806, \"STI Price\": 3092.0}, {\"Date\": 738033, \"7 days Moving Average\": 132.57142857142858, \"Still Hospitalised\": 433, \"Phase\": \"Preparatory Stage\", \"Percentage Vaccinated\": 0.7934834681674288, \"STI Price\": 3088.23}, {\"Date\": 738034, \"7 days Moving Average\": 141.14285714285714, \"Still Hospitalised\": 469, \"Phase\": \"Preparatory Stage\", \"Percentage Vaccinated\": 0.7941380583890256, \"STI Price\": 3087.84}, {\"Date\": 738035, \"7 days Moving Average\": 151.85714285714286, \"Still Hospitalised\": 498, \"Phase\": \"Preparatory Stage\", \"Percentage Vaccinated\": 0.7947534294759058, \"STI Price\": 3093.46}, {\"Date\": 738036, \"7 days Moving Average\": 165.71428571428572, \"Still Hospitalised\": 550, \"Phase\": \"Preparatory Stage\", \"Percentage Vaccinated\": 0.7953798804080197, \"STI Price\": 3089.94}, {\"Date\": 738039, \"7 days Moving Average\": 206.0, \"Still Hospitalised\": 607, \"Phase\": \"Preparatory Stage\", \"Percentage Vaccinated\": 0.7973047836792121, \"STI Price\": 3079.15}, {\"Date\": 738040, \"7 days Moving Average\": 230.42857142857142, \"Still Hospitalised\": 613, \"Phase\": \"Preparatory Stage\", \"Percentage Vaccinated\": 0.7979222652128034, \"STI Price\": 3108.53}, {\"Date\": 738041, \"7 days Moving Average\": 254.57142857142858, \"Still Hospitalised\": 634, \"Phase\": \"Preparatory Stage\", \"Percentage Vaccinated\": 0.7985265564544495, \"STI Price\": 3092.78}, {\"Date\": 738042, \"7 days Moving Average\": 292.57142857142856, \"Still Hospitalised\": 634, \"Phase\": \"Preparatory Stage\", \"Percentage Vaccinated\": 0.7991830812521984, \"STI Price\": 3071.7}, {\"Date\": 738043, \"7 days Moving Average\": 343.14285714285717, \"Still Hospitalised\": 659, \"Phase\": \"Preparatory Stage\", \"Percentage Vaccinated\": 0.7998422441083363, \"STI Price\": 3085.62}, {\"Date\": 738046, \"7 days Moving Average\": 484.7142857142857, \"Still Hospitalised\": 744, \"Phase\": \"Preparatory Stage\", \"Percentage Vaccinated\": 0.8013325712275765, \"STI Price\": 3074.31}, {\"Date\": 738047, \"7 days Moving Average\": 556.8571428571429, \"Still Hospitalised\": 779, \"Phase\": \"Preparatory Stage\", \"Percentage Vaccinated\": 0.8017697854379177, \"STI Price\": 3087.07}, {\"Date\": 738048, \"7 days Moving Average\": 622.2857142857143, \"Still Hospitalised\": 792, \"Phase\": \"Preparatory Stage\", \"Percentage Vaccinated\": 0.8022465705240943, \"STI Price\": 3058.61}, {\"Date\": 738049, \"7 days Moving Average\": 687.0, \"Still Hospitalised\": 807, \"Phase\": \"Preparatory Stage\", \"Percentage Vaccinated\": 0.8027921209989448, \"STI Price\": 3065.22}, {\"Date\": 738050, \"7 days Moving Average\": 738.7142857142857, \"Still Hospitalised\": 783, \"Phase\": \"Preparatory Stage\", \"Percentage Vaccinated\": 0.8033944776644389, \"STI Price\": 3071.23}, {\"Date\": 738053, \"7 days Moving Average\": 918.1428571428571, \"Still Hospitalised\": 1025, \"Phase\": \"Preparatory Stage\", \"Percentage Vaccinated\": 0.8047583538515652, \"STI Price\": 3041.73}, {\"Date\": 738054, \"7 days Moving Average\": 966.8571428571429, \"Still Hospitalised\": 1079, \"Phase\": \"Preparatory Stage\", \"Percentage Vaccinated\": 0.8052592332043615, \"STI Price\": 3039.96}, {\"Date\": 738055, \"7 days Moving Average\": 1059.7142857142858, \"Still Hospitalised\": 1053, \"Phase\": \"Preparatory Stage\", \"Percentage Vaccinated\": 0.8058424199788955, \"STI Price\": 3048.05}, {\"Date\": 738056, \"7 days Moving Average\": 1144.5714285714287, \"Still Hospitalised\": 1090, \"Phase\": \"Preparatory Stage\", \"Percentage Vaccinated\": 0.806296166021808, \"STI Price\": 3076.44}, {\"Date\": 738057, \"7 days Moving Average\": 1246.7142857142858, \"Still Hospitalised\": 1062, \"Phase\": \"Preparatory Stage\", \"Percentage Vaccinated\": 0.8066987337319733, \"STI Price\": 3089.32}, {\"Date\": 738060, \"7 days Moving Average\": 1545.4285714285713, \"Still Hospitalised\": 1258, \"Phase\": \"Stabilisation Phase\", \"Percentage Vaccinated\": 0.8077722476257474, \"STI Price\": 3100.3}, {\"Date\": 738061, \"7 days Moving Average\": 1696.5714285714287, \"Still Hospitalised\": 1295, \"Phase\": \"Stabilisation Phase\", \"Percentage Vaccinated\": 0.8078506858951812, \"STI Price\": 3085.44}, {\"Date\": 738062, \"7 days Moving Average\": 1812.4285714285713, \"Still Hospitalised\": 1305, \"Phase\": \"Stabilisation Phase\", \"Percentage Vaccinated\": 0.8078995779106578, \"STI Price\": 3080.88}, {\"Date\": 738063, \"7 days Moving Average\": 1951.5714285714287, \"Still Hospitalised\": 1330, \"Phase\": \"Stabilisation Phase\", \"Percentage Vaccinated\": 0.8079143510376363, \"STI Price\": 3090.32}, {\"Date\": 738064, \"7 days Moving Average\": 2131.4285714285716, \"Still Hospitalised\": 1326, \"Phase\": \"Stabilisation Phase\", \"Percentage Vaccinated\": 0.8080357017235315, \"STI Price\": 3051.11}, {\"Date\": 738067, \"7 days Moving Average\": 2397.0, \"Still Hospitalised\": 1325, \"Phase\": \"Stabilisation Phase\", \"Percentage Vaccinated\": 0.8081122054168133, \"STI Price\": 3079.99}, {\"Date\": 738068, \"7 days Moving Average\": 2575.5714285714284, \"Still Hospitalised\": 1482, \"Phase\": \"Stabilisation Phase\", \"Percentage Vaccinated\": 0.8081273302849104, \"STI Price\": 3071.93}, {\"Date\": 738069, \"7 days Moving Average\": 2762.5714285714284, \"Still Hospitalised\": 1490, \"Phase\": \"Stabilisation Phase\", \"Percentage Vaccinated\": 0.8081596904678157, \"STI Price\": 3082.58}, {\"Date\": 738070, \"7 days Moving Average\": 2906.1428571428573, \"Still Hospitalised\": 1504, \"Phase\": \"Stabilisation Phase\", \"Percentage Vaccinated\": 0.8081727048892016, \"STI Price\": 3099.99}, {\"Date\": 738071, \"7 days Moving Average\": 3003.4285714285716, \"Still Hospitalised\": 1534, \"Phase\": \"Stabilisation Phase\", \"Percentage Vaccinated\": 0.80847836792121, \"STI Price\": 3110.82}, {\"Date\": 738074, \"7 days Moving Average\": 3273.0, \"Still Hospitalised\": 1668, \"Phase\": \"Stabilisation Phase\", \"Percentage Vaccinated\": 0.8096873021456208, \"STI Price\": 3118.57}, {\"Date\": 738075, \"7 days Moving Average\": 3200.1428571428573, \"Still Hospitalised\": 1589, \"Phase\": \"Stabilisation Phase\", \"Percentage Vaccinated\": 0.810230038691523, \"STI Price\": 3102.29}, {\"Date\": 738076, \"7 days Moving Average\": 3144.8571428571427, \"Still Hospitalised\": 1477, \"Phase\": \"Stabilisation Phase\", \"Percentage Vaccinated\": 0.8106869504045023, \"STI Price\": 3122.78}, {\"Date\": 738077, \"7 days Moving Average\": 3066.1428571428573, \"Still Hospitalised\": 1481, \"Phase\": \"Stabilisation Phase\", \"Percentage Vaccinated\": 0.8110738656348927, \"STI Price\": 3148.34}, {\"Date\": 738078, \"7 days Moving Average\": 3045.4285714285716, \"Still Hospitalised\": 1563, \"Phase\": \"Stabilisation Phase\", \"Percentage Vaccinated\": 0.8114201547660922, \"STI Price\": 3180.55}, {\"Date\": 738081, \"7 days Moving Average\": 3071.714285714286, \"Still Hospitalised\": 1684, \"Phase\": \"Stabilisation Phase\", \"Percentage Vaccinated\": 0.8125592683784735, \"STI Price\": 3174.3}, {\"Date\": 738082, \"7 days Moving Average\": 3217.1428571428573, \"Still Hospitalised\": 1708, \"Phase\": \"Stabilisation Phase\", \"Percentage Vaccinated\": 0.8129497010200493, \"STI Price\": 3195.45}, {\"Date\": 738083, \"7 days Moving Average\": 3313.1428571428573, \"Still Hospitalised\": 1688, \"Phase\": \"Stabilisation Phase\", \"Percentage Vaccinated\": 0.8132124516355962, \"STI Price\": 3212.67}, {\"Date\": 738084, \"7 days Moving Average\": 3385.5714285714284, \"Still Hospitalised\": 1583, \"Phase\": \"Stabilisation Phase\", \"Percentage Vaccinated\": 0.813465881111502, \"STI Price\": 3203.92}, {\"Date\": 738085, \"7 days Moving Average\": 3413.0, \"Still Hospitalised\": 1579, \"Phase\": \"Stabilisation Phase\", \"Percentage Vaccinated\": 0.813715617305663, \"STI Price\": 3195.36}]}}, {\"actions\": false, \"mode\": \"vega-lite\"});\n</script>",
      "text/plain": "alt.Chart(...)"
     },
     "metadata": {}
    }
   ],
   "execution_count": null
  },
  {
   "cell_type": "code",
   "metadata": {
    "tags": [],
    "cell_id": "00015-1a678946-dea2-4805-a21e-60db19f2c5bf",
    "deepnote_to_be_reexecuted": false,
    "source_hash": "806bfe19",
    "execution_start": 1636446288191,
    "execution_millis": 1,
    "deepnote_cell_type": "code"
   },
   "source": "# Merging Dataset\n\nX = merged_df.iloc[:, :-1].values # selects all the columns excluding STI price\nY = merged_df.iloc[:, -1].values # STI price column\n",
   "outputs": [],
   "execution_count": 12
  },
  {
   "cell_type": "markdown",
   "source": "#### Data preprocessing of the phase column",
   "metadata": {
    "tags": [],
    "cell_id": "00016-021c8180-7a5c-4706-9ebc-2a41c456e118",
    "deepnote_cell_type": "markdown"
   }
  },
  {
   "cell_type": "code",
   "metadata": {
    "tags": [],
    "cell_id": "00017-bf6af610-da1b-4231-adde-b8859589378e",
    "deepnote_to_be_reexecuted": false,
    "source_hash": "7d9adfdc",
    "execution_start": 1636446738189,
    "execution_millis": 3,
    "deepnote_cell_type": "code"
   },
   "source": "\n# Encoding categorical data which is the phase\n\n# Encoding the Independent Variable\n\n# from sklearn.preprocessing import LabelEncoder, OneHotEncoder\n# from sklearn.compose import ColumnTransformer\n\n# labelencoder_X = LabelEncoder()\n# X[:, 2] = labelencoder_X.fit_transform(X[:, 2]) # phase column\n# ct = ColumnTransformer([(\"Phase\", OneHotEncoder(), [2])], remainder=\"passthrough\")\n# X = ct.fit_transform(X)\n\n\none_hot_cont = pd.get_dummies(merged_df['Phase'], prefix=\"Phase\")\nnew_df = merged_df.join(one_hot_cont)\n",
   "outputs": [],
   "execution_count": 26
  },
  {
   "cell_type": "markdown",
   "source": "# Modeling with Linear Regression",
   "metadata": {
    "cell_id": "00008-06241d90-2be6-4147-9ca0-d49070b61943",
    "deepnote_cell_type": "markdown"
   }
  },
  {
   "cell_type": "code",
   "metadata": {
    "cell_id": "00001-f307e8dc-0b37-4176-a8ef-eceb6f83248e",
    "tags": [],
    "deepnote_to_be_reexecuted": false,
    "source_hash": "e0c1b1bf",
    "execution_start": 1635253004321,
    "execution_millis": 4,
    "deepnote_cell_type": "code"
   },
   "source": "\n\n# # Avoiding the Dummy Variable Trap (dummy variables: binary variables for categorical data)\n# X = X[:, 1:] # avoid one of the dummy variables\n\n# # Splitting the dataset into the Training set and Test set\n\n# from sklearn.model_selection import train_test_split\n# X_Train, X_Test, Y_Train, Y_Test = train_test_split(X, Y, test_size = 0.2, random_state = 0)\n\n# # Fitting the Multiple Linear Regression in the Training set\n\n# from sklearn.linear_model import LinearRegression\n# regressor = LinearRegression()\n# regressor.fit(X_Train, Y_Train)\n# # print(regressor.intercept_)\n# # print(regressor.coef_)\n\n# # Predicting the Test set results\n\n# Y_Pred = regressor.predict(X_Test)\n\n",
   "outputs": [],
   "execution_count": null
  },
  {
   "cell_type": "code",
   "metadata": {
    "tags": [],
    "cell_id": "00022-a0f8aead-b66a-4062-89b2-ab7b38974942",
    "deepnote_to_be_reexecuted": false,
    "source_hash": "6fae91c1",
    "execution_start": 1636448964301,
    "execution_millis": 13,
    "deepnote_cell_type": "code"
   },
   "source": "def CostFunction(x,y,w,b):\n    cost = np.sum((((x.dot(w) + b) - y) ** 2) / (2*len(y)))\n    return cost\n\ndef GradientDescent(x, y, w, b, learning_rate, epochs):\n    print(x.shape)\n    cost_list = [0] * epochs\n   \n    for epoch in range(epochs):\n        z = x.dot(w) + b\n        loss = z - y\n        \n        weight_gradient = x.T.dot(loss) / len(y)\n        bias_gradient = np.sum(loss) / len(y)\n        \n        w = w - learning_rate*weight_gradient\n        b = b - learning_rate*bias_gradient\n  \n        cost = CostFunction(x, y, w, b)\n        cost_list[epoch] = cost\n        \n        if (epoch%(epochs/10)==0):\n            print(\"Cost is:\",cost)\n        \n    return w, b, cost_list\n\ndef predict(X, w, b):\n    return X.dot(w) + b\n\ndef r2score(y_pred, y):\n    rss = np.sum((y_pred - y) ** 2)\n    tss = np.sum((y-y.mean()) ** 2)\n    \n    r2 = 1 - (rss / tss)\n    return r2\n\ndef train_test_split(df_feature, df_target, random_state=None, test_size=0.5):\n    np.random.seed(random_state)\n    N = df_feature.shape[0]\n    print(N)\n    sample = int(test_size*N)\n    train_idx = np.random.choice(N, sample,replace=False)\n    print(len(train_idx))\n    \n    df_feature_train = df_feature.iloc[train_idx]\n    df_target_train = df_target.iloc[train_idx]\n\n    test_idx = [idx for idx in range(N) if idx not in train_idx]\n    print(len(test_idx))\n    \n    df_feature_test = df_feature.iloc[test_idx]\n    df_target_test = df_target.iloc[test_idx]\n\n    return df_feature_train, df_feature_test, df_target_train, df_target_test",
   "outputs": [],
   "execution_count": 74
  },
  {
   "cell_type": "code",
   "metadata": {
    "tags": [],
    "cell_id": "00023-2d595ea7-ec9f-48ba-846e-fe25c120802b",
    "deepnote_to_be_reexecuted": false,
    "source_hash": "413a64be",
    "execution_start": 1636448965309,
    "execution_millis": 5,
    "deepnote_cell_type": "code"
   },
   "source": "def standard_scaling(df):\n    dfout = df.apply(lambda x: (x - np.mean(x)) / np.std(x))\n    return dfout\n\ndef min_max_scaling(df):\n    return df.apply(lambda x: (x - x.min()) / (x.max() - x.min()))\n\ndef normalization(df):\n    return df.apply(lambda x: (x - np.mean(x)) / (np.max(x) - np.min(x)))",
   "outputs": [],
   "execution_count": 75
  },
  {
   "cell_type": "code",
   "metadata": {
    "tags": [],
    "cell_id": "00019-8db641a4-e356-4144-b6f8-79aa7e87246e",
    "deepnote_to_be_reexecuted": false,
    "source_hash": "670e4a9c",
    "execution_start": 1636447587315,
    "execution_millis": 4,
    "deepnote_cell_type": "code"
   },
   "source": "feature_names = ['Date','Still Hospitalised','7 days Moving Average','Percentage Vaccinated','Phase_Phase 2 (Heightened Alert)','Phase_Preparatory Stage','Phase_Stabilisation Phase']\ntarget_name = [\"STI Price\"]\nX = new_df.loc[:,feature_names]\ny = new_df.loc[:,target_name]",
   "outputs": [],
   "execution_count": 54
  },
  {
   "cell_type": "code",
   "metadata": {
    "tags": [],
    "cell_id": "00021-a11afa09-4f25-4849-9537-da986be96fcb",
    "deepnote_to_be_reexecuted": false,
    "source_hash": "f16b8fa6",
    "execution_start": 1636449542388,
    "execution_millis": 45,
    "deepnote_cell_type": "code"
   },
   "source": "X.values",
   "outputs": [
    {
     "output_type": "execute_result",
     "execution_count": 82,
     "data": {
      "text/plain": "array([[7.38004000e+05, 5.72000000e+02, 1.11000000e+02, 7.58561731e-01,\n        1.00000000e+00, 0.00000000e+00, 0.00000000e+00],\n       [7.38005000e+05, 5.62000000e+02, 1.02000000e+02, 7.59975906e-01,\n        1.00000000e+00, 0.00000000e+00, 0.00000000e+00],\n       [7.38006000e+05, 5.25000000e+02, 9.50000000e+01, 7.61511783e-01,\n        1.00000000e+00, 0.00000000e+00, 0.00000000e+00],\n       [7.38007000e+05, 5.47000000e+02, 9.80000000e+01, 7.62820436e-01,\n        1.00000000e+00, 0.00000000e+00, 0.00000000e+00],\n       [7.38008000e+05, 5.16000000e+02, 9.70000000e+01, 7.64013894e-01,\n        1.00000000e+00, 0.00000000e+00, 0.00000000e+00],\n       [7.38012000e+05, 4.78000000e+02, 8.21428571e+01, 7.69178684e-01,\n        0.00000000e+00, 1.00000000e+00, 0.00000000e+00],\n       [7.38013000e+05, 4.78000000e+02, 7.75714286e+01, 7.70951636e-01,\n        0.00000000e+00, 1.00000000e+00, 0.00000000e+00],\n       [7.38014000e+05, 4.40000000e+02, 7.20000000e+01, 7.72723883e-01,\n        0.00000000e+00, 1.00000000e+00, 0.00000000e+00],\n       [7.38015000e+05, 4.58000000e+02, 6.51428571e+01, 7.74289131e-01,\n        0.00000000e+00, 1.00000000e+00, 0.00000000e+00],\n       [7.38018000e+05, 3.96000000e+02, 5.55714286e+01, 7.79472564e-01,\n        0.00000000e+00, 1.00000000e+00, 0.00000000e+00],\n       [7.38019000e+05, 3.74000000e+02, 5.58571429e+01, 7.80912416e-01,\n        0.00000000e+00, 1.00000000e+00, 0.00000000e+00],\n       [7.38020000e+05, 3.72000000e+02, 5.44285714e+01, 7.82140345e-01,\n        0.00000000e+00, 1.00000000e+00, 0.00000000e+00],\n       [7.38021000e+05, 3.61000000e+02, 5.05714286e+01, 7.83253254e-01,\n        0.00000000e+00, 1.00000000e+00, 0.00000000e+00],\n       [7.38022000e+05, 3.50000000e+02, 4.92857143e+01, 7.84241998e-01,\n        0.00000000e+00, 1.00000000e+00, 0.00000000e+00],\n       [7.38025000e+05, 3.06000000e+02, 5.01428571e+01, 7.87542209e-01,\n        0.00000000e+00, 1.00000000e+00, 0.00000000e+00],\n       [7.38026000e+05, 3.09000000e+02, 5.87142857e+01, 7.88301442e-01,\n        0.00000000e+00, 1.00000000e+00, 0.00000000e+00],\n       [7.38027000e+05, 3.20000000e+02, 6.82857143e+01, 7.89019873e-01,\n        0.00000000e+00, 1.00000000e+00, 0.00000000e+00],\n       [7.38028000e+05, 3.13000000e+02, 8.02857143e+01, 7.89795990e-01,\n        0.00000000e+00, 1.00000000e+00, 0.00000000e+00],\n       [7.38029000e+05, 3.39000000e+02, 9.20000000e+01, 7.90482061e-01,\n        0.00000000e+00, 1.00000000e+00, 0.00000000e+00],\n       [7.38032000e+05, 4.11000000e+02, 1.26142857e+02, 7.92769082e-01,\n        0.00000000e+00, 1.00000000e+00, 0.00000000e+00],\n       [7.38033000e+05, 4.33000000e+02, 1.32571429e+02, 7.93483468e-01,\n        0.00000000e+00, 1.00000000e+00, 0.00000000e+00],\n       [7.38034000e+05, 4.69000000e+02, 1.41142857e+02, 7.94138058e-01,\n        0.00000000e+00, 1.00000000e+00, 0.00000000e+00],\n       [7.38035000e+05, 4.98000000e+02, 1.51857143e+02, 7.94753429e-01,\n        0.00000000e+00, 1.00000000e+00, 0.00000000e+00],\n       [7.38036000e+05, 5.50000000e+02, 1.65714286e+02, 7.95379880e-01,\n        0.00000000e+00, 1.00000000e+00, 0.00000000e+00],\n       [7.38039000e+05, 6.07000000e+02, 2.06000000e+02, 7.97304784e-01,\n        0.00000000e+00, 1.00000000e+00, 0.00000000e+00],\n       [7.38040000e+05, 6.13000000e+02, 2.30428571e+02, 7.97922265e-01,\n        0.00000000e+00, 1.00000000e+00, 0.00000000e+00],\n       [7.38041000e+05, 6.34000000e+02, 2.54571429e+02, 7.98526556e-01,\n        0.00000000e+00, 1.00000000e+00, 0.00000000e+00],\n       [7.38042000e+05, 6.34000000e+02, 2.92571429e+02, 7.99183081e-01,\n        0.00000000e+00, 1.00000000e+00, 0.00000000e+00],\n       [7.38043000e+05, 6.59000000e+02, 3.43142857e+02, 7.99842244e-01,\n        0.00000000e+00, 1.00000000e+00, 0.00000000e+00],\n       [7.38046000e+05, 7.44000000e+02, 4.84714286e+02, 8.01332571e-01,\n        0.00000000e+00, 1.00000000e+00, 0.00000000e+00],\n       [7.38047000e+05, 7.79000000e+02, 5.56857143e+02, 8.01769785e-01,\n        0.00000000e+00, 1.00000000e+00, 0.00000000e+00],\n       [7.38048000e+05, 7.92000000e+02, 6.22285714e+02, 8.02246571e-01,\n        0.00000000e+00, 1.00000000e+00, 0.00000000e+00],\n       [7.38049000e+05, 8.07000000e+02, 6.87000000e+02, 8.02792121e-01,\n        0.00000000e+00, 1.00000000e+00, 0.00000000e+00],\n       [7.38050000e+05, 7.83000000e+02, 7.38714286e+02, 8.03394478e-01,\n        0.00000000e+00, 1.00000000e+00, 0.00000000e+00],\n       [7.38053000e+05, 1.02500000e+03, 9.18142857e+02, 8.04758354e-01,\n        0.00000000e+00, 1.00000000e+00, 0.00000000e+00],\n       [7.38054000e+05, 1.07900000e+03, 9.66857143e+02, 8.05259233e-01,\n        0.00000000e+00, 1.00000000e+00, 0.00000000e+00],\n       [7.38055000e+05, 1.05300000e+03, 1.05971429e+03, 8.05842420e-01,\n        0.00000000e+00, 1.00000000e+00, 0.00000000e+00],\n       [7.38056000e+05, 1.09000000e+03, 1.14457143e+03, 8.06296166e-01,\n        0.00000000e+00, 1.00000000e+00, 0.00000000e+00],\n       [7.38057000e+05, 1.06200000e+03, 1.24671429e+03, 8.06698734e-01,\n        0.00000000e+00, 1.00000000e+00, 0.00000000e+00],\n       [7.38060000e+05, 1.25800000e+03, 1.54542857e+03, 8.07772248e-01,\n        0.00000000e+00, 0.00000000e+00, 1.00000000e+00],\n       [7.38061000e+05, 1.29500000e+03, 1.69657143e+03, 8.07850686e-01,\n        0.00000000e+00, 0.00000000e+00, 1.00000000e+00],\n       [7.38062000e+05, 1.30500000e+03, 1.81242857e+03, 8.07899578e-01,\n        0.00000000e+00, 0.00000000e+00, 1.00000000e+00],\n       [7.38063000e+05, 1.33000000e+03, 1.95157143e+03, 8.07914351e-01,\n        0.00000000e+00, 0.00000000e+00, 1.00000000e+00],\n       [7.38064000e+05, 1.32600000e+03, 2.13142857e+03, 8.08035702e-01,\n        0.00000000e+00, 0.00000000e+00, 1.00000000e+00],\n       [7.38067000e+05, 1.32500000e+03, 2.39700000e+03, 8.08112205e-01,\n        0.00000000e+00, 0.00000000e+00, 1.00000000e+00],\n       [7.38068000e+05, 1.48200000e+03, 2.57557143e+03, 8.08127330e-01,\n        0.00000000e+00, 0.00000000e+00, 1.00000000e+00],\n       [7.38069000e+05, 1.49000000e+03, 2.76257143e+03, 8.08159690e-01,\n        0.00000000e+00, 0.00000000e+00, 1.00000000e+00],\n       [7.38070000e+05, 1.50400000e+03, 2.90614286e+03, 8.08172705e-01,\n        0.00000000e+00, 0.00000000e+00, 1.00000000e+00],\n       [7.38071000e+05, 1.53400000e+03, 3.00342857e+03, 8.08478368e-01,\n        0.00000000e+00, 0.00000000e+00, 1.00000000e+00],\n       [7.38074000e+05, 1.66800000e+03, 3.27300000e+03, 8.09687302e-01,\n        0.00000000e+00, 0.00000000e+00, 1.00000000e+00],\n       [7.38075000e+05, 1.58900000e+03, 3.20014286e+03, 8.10230039e-01,\n        0.00000000e+00, 0.00000000e+00, 1.00000000e+00],\n       [7.38076000e+05, 1.47700000e+03, 3.14485714e+03, 8.10686950e-01,\n        0.00000000e+00, 0.00000000e+00, 1.00000000e+00],\n       [7.38077000e+05, 1.48100000e+03, 3.06614286e+03, 8.11073866e-01,\n        0.00000000e+00, 0.00000000e+00, 1.00000000e+00],\n       [7.38078000e+05, 1.56300000e+03, 3.04542857e+03, 8.11420155e-01,\n        0.00000000e+00, 0.00000000e+00, 1.00000000e+00],\n       [7.38081000e+05, 1.68400000e+03, 3.07171429e+03, 8.12559268e-01,\n        0.00000000e+00, 0.00000000e+00, 1.00000000e+00],\n       [7.38082000e+05, 1.70800000e+03, 3.21714286e+03, 8.12949701e-01,\n        0.00000000e+00, 0.00000000e+00, 1.00000000e+00],\n       [7.38083000e+05, 1.68800000e+03, 3.31314286e+03, 8.13212452e-01,\n        0.00000000e+00, 0.00000000e+00, 1.00000000e+00],\n       [7.38084000e+05, 1.58300000e+03, 3.38557143e+03, 8.13465881e-01,\n        0.00000000e+00, 0.00000000e+00, 1.00000000e+00],\n       [7.38085000e+05, 1.57900000e+03, 3.41300000e+03, 8.13715617e-01,\n        0.00000000e+00, 0.00000000e+00, 1.00000000e+00]])"
     },
     "metadata": {}
    }
   ],
   "execution_count": 82
  },
  {
   "cell_type": "code",
   "metadata": {
    "tags": [],
    "cell_id": "00022-0bd63082-a927-43b2-99f6-cf7bd669722f",
    "deepnote_to_be_reexecuted": false,
    "source_hash": "49ade80a",
    "execution_start": 1636448782290,
    "execution_millis": 10,
    "deepnote_cell_type": "code"
   },
   "source": "X_train.shape[1]",
   "outputs": [
    {
     "output_type": "execute_result",
     "execution_count": 71,
     "data": {
      "text/plain": "7"
     },
     "metadata": {}
    }
   ],
   "execution_count": 71
  },
  {
   "cell_type": "code",
   "metadata": {
    "tags": [],
    "cell_id": "00023-123ce258-1f42-405f-a85a-a36505705706",
    "deepnote_to_be_reexecuted": false,
    "source_hash": "f4920e",
    "execution_start": 1636449465746,
    "execution_millis": 57,
    "deepnote_cell_type": "code"
   },
   "source": "# Dividing the data into training and testing data\nX_train, X_test, y_train, y_test = train_test_split(X.values, y.values, test_size = 0.25)\n\n# Initial random weights\nw = np.random.randn(X_train.shape[1])\n# Initial bias\nb = 0\n\n# call the gradient descent function to get the finalised weights and bias (model training)\nw, b, c= GradientDescent(X_train, y_train, np.zeros(X_train.shape[1]), 0, 0.002,epochs=100)\nplt.plot(c)\n\ny_pred = predict(X_test, w, b)\n\nr2score(y_pred, y_test)",
   "outputs": [
    {
     "name": "stdout",
     "text": "(44, 7)\n",
     "output_type": "stream"
    },
    {
     "output_type": "error",
     "ename": "ValueError",
     "evalue": "operands could not be broadcast together with shapes (7,) (7,44) ",
     "traceback": [
      "\u001b[0;31m---------------------------------------------------------------------------\u001b[0m",
      "\u001b[0;31mValueError\u001b[0m                                Traceback (most recent call last)",
      "\u001b[0;32m<ipython-input-81-097d04262b1d>\u001b[0m in \u001b[0;36m<module>\u001b[0;34m\u001b[0m\n\u001b[1;32m      8\u001b[0m \u001b[0;34m\u001b[0m\u001b[0m\n\u001b[1;32m      9\u001b[0m \u001b[0;31m# call the gradient descent function to get the finalised weights and bias (model training)\u001b[0m\u001b[0;34m\u001b[0m\u001b[0;34m\u001b[0m\u001b[0;34m\u001b[0m\u001b[0m\n\u001b[0;32m---> 10\u001b[0;31m \u001b[0mw\u001b[0m\u001b[0;34m,\u001b[0m \u001b[0mb\u001b[0m\u001b[0;34m,\u001b[0m \u001b[0mc\u001b[0m\u001b[0;34m=\u001b[0m \u001b[0mGradientDescent\u001b[0m\u001b[0;34m(\u001b[0m\u001b[0mX_train\u001b[0m\u001b[0;34m,\u001b[0m \u001b[0my_train\u001b[0m\u001b[0;34m,\u001b[0m \u001b[0mnp\u001b[0m\u001b[0;34m.\u001b[0m\u001b[0mzeros\u001b[0m\u001b[0;34m(\u001b[0m\u001b[0mX_train\u001b[0m\u001b[0;34m.\u001b[0m\u001b[0mshape\u001b[0m\u001b[0;34m[\u001b[0m\u001b[0;36m1\u001b[0m\u001b[0;34m]\u001b[0m\u001b[0;34m)\u001b[0m\u001b[0;34m,\u001b[0m \u001b[0;36m0\u001b[0m\u001b[0;34m,\u001b[0m \u001b[0;36m0.002\u001b[0m\u001b[0;34m,\u001b[0m\u001b[0mepochs\u001b[0m\u001b[0;34m=\u001b[0m\u001b[0;36m100\u001b[0m\u001b[0;34m)\u001b[0m\u001b[0;34m\u001b[0m\u001b[0;34m\u001b[0m\u001b[0m\n\u001b[0m\u001b[1;32m     11\u001b[0m \u001b[0mplt\u001b[0m\u001b[0;34m.\u001b[0m\u001b[0mplot\u001b[0m\u001b[0;34m(\u001b[0m\u001b[0mc\u001b[0m\u001b[0;34m)\u001b[0m\u001b[0;34m\u001b[0m\u001b[0;34m\u001b[0m\u001b[0m\n\u001b[1;32m     12\u001b[0m \u001b[0;34m\u001b[0m\u001b[0m\n",
      "\u001b[0;32m<ipython-input-74-b3204c8dacf0>\u001b[0m in \u001b[0;36mGradientDescent\u001b[0;34m(x, y, w, b, learning_rate, epochs)\u001b[0m\n\u001b[1;32m     14\u001b[0m         \u001b[0mbias_gradient\u001b[0m \u001b[0;34m=\u001b[0m \u001b[0mnp\u001b[0m\u001b[0;34m.\u001b[0m\u001b[0msum\u001b[0m\u001b[0;34m(\u001b[0m\u001b[0mloss\u001b[0m\u001b[0;34m)\u001b[0m \u001b[0;34m/\u001b[0m \u001b[0mlen\u001b[0m\u001b[0;34m(\u001b[0m\u001b[0my\u001b[0m\u001b[0;34m)\u001b[0m\u001b[0;34m\u001b[0m\u001b[0;34m\u001b[0m\u001b[0m\n\u001b[1;32m     15\u001b[0m \u001b[0;34m\u001b[0m\u001b[0m\n\u001b[0;32m---> 16\u001b[0;31m         \u001b[0mw\u001b[0m \u001b[0;34m=\u001b[0m \u001b[0mw\u001b[0m \u001b[0;34m-\u001b[0m \u001b[0mlearning_rate\u001b[0m\u001b[0;34m*\u001b[0m\u001b[0mweight_gradient\u001b[0m\u001b[0;34m\u001b[0m\u001b[0;34m\u001b[0m\u001b[0m\n\u001b[0m\u001b[1;32m     17\u001b[0m         \u001b[0mb\u001b[0m \u001b[0;34m=\u001b[0m \u001b[0mb\u001b[0m \u001b[0;34m-\u001b[0m \u001b[0mlearning_rate\u001b[0m\u001b[0;34m*\u001b[0m\u001b[0mbias_gradient\u001b[0m\u001b[0;34m\u001b[0m\u001b[0;34m\u001b[0m\u001b[0m\n\u001b[1;32m     18\u001b[0m \u001b[0;34m\u001b[0m\u001b[0m\n",
      "\u001b[0;31mValueError\u001b[0m: operands could not be broadcast together with shapes (7,) (7,44) "
     ]
    }
   ],
   "execution_count": 81
  },
  {
   "cell_type": "markdown",
   "source": "## Optimization\n",
   "metadata": {
    "tags": [],
    "cell_id": "00020-e485c632-ca0d-403a-9402-349edbc27ae1",
    "deepnote_cell_type": "markdown"
   }
  },
  {
   "cell_type": "code",
   "metadata": {
    "tags": [],
    "cell_id": "00021-3bcb4724-84a4-4b58-a097-ecd64ed94401",
    "deepnote_to_be_reexecuted": false,
    "source_hash": "b8bffaec",
    "execution_start": 1635253008688,
    "execution_millis": 65,
    "deepnote_cell_type": "code"
   },
   "source": "# Building the optimal model using Backward Elimination\n\nimport statsmodels.api as sm\nX = np.append(arr = np.ones((59, 1)).astype(int), values = X, axis = 1)\n# X = np.append(arr = np.ones((59, 1)).astype('float64'), values = X, axis = 1)\n\nX_Optimal = X[:, [0,1,2,3,4,5]]\nX_Optimal = np.array(X_Optimal, dtype=float)\nregressor_OLS = sm.OLS(endog = Y, exog = X_Optimal).fit()\nregressor_OLS.summary()\n\nX_Optimal = X[:, [0,1,2,4,5]]\nX_Optimal = np.array(X_Optimal, dtype=float)\nregressor_OLS = sm.OLS(endog = Y, exog = X_Optimal).fit()\nregressor_OLS.summary()\n\nX_Optimal = X[:, [0,1,4,5]]\nX_Optimal = np.array(X_Optimal, dtype=float)\nregressor_OLS = sm.OLS(endog = Y, exog = X_Optimal).fit()\nregressor_OLS.summary()\n\nX_Optimal = X[:, [0,1,4]]\nX_Optimal = np.array(X_Optimal, dtype=float)\nregressor_OLS = sm.OLS(endog = Y, exog = X_Optimal).fit()\nregressor_OLS.summary()\n\n# Fitting the Multiple Linear Regression in the Optimal Training set\n\nX_Optimal_Train, X_Optimal_Test = train_test_split(X_Optimal,test_size = 0.2, random_state = 0)\nregressor.fit(X_Optimal_Train, Y_Train)\n\n# Predicting the Optimal Test set results\n\nY_Optimal_Pred = regressor.predict(X_Optimal_Test)",
   "outputs": [],
   "execution_count": null
  },
  {
   "cell_type": "code",
   "metadata": {
    "tags": [],
    "cell_id": "00020-7caf0f8e-d0dd-47b8-a770-65491b2aff80",
    "deepnote_to_be_reexecuted": false,
    "source_hash": "75ff147e",
    "execution_start": 1635252811725,
    "execution_millis": 17,
    "deepnote_cell_type": "code"
   },
   "source": "# X = merged_df.iloc[:, :-1].values # selects all the columns excluding STI price",
   "outputs": [],
   "execution_count": null
  },
  {
   "cell_type": "markdown",
   "source": "# Evaluating the model\n",
   "metadata": {
    "tags": [],
    "cell_id": "00018-214cb481-125b-4c63-8484-c92d26fca5d9",
    "deepnote_cell_type": "markdown"
   }
  },
  {
   "cell_type": "code",
   "metadata": {
    "tags": [],
    "cell_id": "00022-5ec5a53e-9d9a-466e-b1af-46e4a1512d36",
    "deepnote_to_be_reexecuted": false,
    "source_hash": "68ba4ebc",
    "execution_start": 1635253012794,
    "execution_millis": 55,
    "deepnote_cell_type": "code"
   },
   "source": "# optimized with bw elimation\nX_Optimal = X[:, [0,1,2,3,4,5]]\nX_Optimal = np.array(X_Optimal, dtype=float)\nregressor_OLS = sm.OLS(endog = Y, exog = X_Optimal).fit()\nprint(regressor_OLS.summary())",
   "outputs": [
    {
     "name": "stdout",
     "text": "                            OLS Regression Results                            \n==============================================================================\nDep. Variable:                      y   R-squared:                       0.529\nModel:                            OLS   Adj. R-squared:                  0.485\nMethod:                 Least Squares   F-statistic:                     11.93\nDate:                Tue, 26 Oct 2021   Prob (F-statistic):           9.36e-08\nTime:                        12:56:52   Log-Likelihood:                -287.59\nNo. Observations:                  59   AIC:                             587.2\nDf Residuals:                      53   BIC:                             599.7\nDf Model:                           5                                         \nCovariance Type:            nonrobust                                         \n==============================================================================\n                 coef    std err          t      P>|t|      [0.025      0.975]\n------------------------------------------------------------------------------\nconst        2.38e+06   5.89e+05      4.044      0.000     1.2e+06    3.56e+06\nx1             4.4917     26.170      0.172      0.864     -47.999      56.983\nx2           -32.5158     33.501     -0.971      0.336     -99.710      34.678\nx3            -3.2206      0.797     -4.039      0.000      -4.820      -1.621\nx4            -0.0525      0.049     -1.063      0.293      -0.152       0.047\nx5             0.0959      0.018      5.218      0.000       0.059       0.133\n==============================================================================\nOmnibus:                        1.329   Durbin-Watson:                   0.338\nProb(Omnibus):                  0.515   Jarque-Bera (JB):                1.353\nSkew:                           0.326   Prob(JB):                        0.508\nKurtosis:                       2.647   Cond. No.                     9.98e+10\n==============================================================================\n\nNotes:\n[1] Standard Errors assume that the covariance matrix of the errors is correctly specified.\n[2] The condition number is large, 9.98e+10. This might indicate that there are\nstrong multicollinearity or other numerical problems.\n",
     "output_type": "stream"
    }
   ],
   "execution_count": null
  },
  {
   "cell_type": "code",
   "metadata": {
    "tags": [],
    "cell_id": "00018-eff8738b-6dfb-463c-8b00-b5512bd5ef41",
    "deepnote_to_be_reexecuted": false,
    "source_hash": "5db9d94a",
    "execution_start": 1635253036233,
    "execution_millis": 9,
    "deepnote_cell_type": "code"
   },
   "source": "Y_Pred",
   "outputs": [
    {
     "output_type": "execute_result",
     "execution_count": 31,
     "data": {
      "text/plain": "array([3087.27157853, 3063.1365116 , 3089.03177691, 3085.2729684 ,\n       3109.35837855, 3166.32833225, 3066.88064559, 3104.94332752,\n       3076.4737427 , 3086.97484616, 3151.43215778, 3116.52180025])"
     },
     "metadata": {}
    }
   ],
   "execution_count": null
  },
  {
   "cell_type": "code",
   "metadata": {
    "tags": [],
    "cell_id": "00019-99d87c19-b4d8-45c5-8b07-87b557e76352",
    "deepnote_to_be_reexecuted": false,
    "source_hash": "1eb6ad89",
    "execution_start": 1635253041479,
    "execution_millis": 13,
    "deepnote_cell_type": "code"
   },
   "source": "# importing r2_score module\nfrom sklearn.metrics import r2_score\nfrom sklearn.metrics import mean_squared_error\n\n\n# predicting the accuracy score\nscore=r2_score(Y_Test,Y_Pred)\nprint(f\"r2 score is {score}\")\nprint(f\"mean_sqrd_error is == {mean_squared_error(Y_Test,Y_Pred)}\")\nprint(f\"root_mean_squared error of is == {np.sqrt(mean_squared_error(Y_Test,Y_Pred))}\")\n\n\n# After Optimization with BE\nprint(\"============================\")\nprint(\"After Optimization with Backwards Elimination\")\n# predicting the accuracy score\nscore=r2_score(Y_Test,Y_Optimal_Pred)\nprint(f\"r2 score is {score}\")\nprint(f\"mean_sqrd_error is == {mean_squared_error(Y_Test,Y_Pred)}\")\nprint(f\"root_mean_squared error of is == {np.sqrt(mean_squared_error(Y_Test,Y_Pred))}\")",
   "outputs": [
    {
     "name": "stdout",
     "text": "r2 score is 0.7798496442687198\nmean_sqrd_error is == 375.25938334777646\nroot_mean_squared error of is == 19.371612822575628\n============================\nAfter Optimization with Backwards Elimination\nr2 score is 3.958279437643597e-05\nmean_sqrd_error is == 375.25938334777646\nroot_mean_squared error of is == 19.371612822575628\n",
     "output_type": "stream"
    }
   ],
   "execution_count": null
  },
  {
   "cell_type": "markdown",
   "source": "# Data Visualization",
   "metadata": {
    "tags": [],
    "cell_id": "00021-76fed8dc-d083-4872-a1af-d073938f2eae",
    "deepnote_cell_type": "markdown"
   }
  },
  {
   "cell_type": "code",
   "metadata": {
    "tags": [],
    "cell_id": "00024-76739429-353d-4015-a119-3f925ce016c1",
    "deepnote_to_be_reexecuted": true,
    "source_hash": "a6eb6ee4",
    "execution_start": 1635224838244,
    "execution_millis": 20,
    "deepnote_cell_type": "code"
   },
   "source": "import numpy as np\nimport plotly.express as px\nimport plotly.graph_objects as go\n\nx_range = np.linspace(X.min(), X.max(), 100)\ny_range = regressor.predict(x_range.reshape(-1, 1))\n\nfig = px.scatter(df, x='total_bill', y='STI index', opacity=0.65)\nfig.add_traces(go.Scatter(x=x_range, y=y_range, name='Regression Fit'))\nfig.show()",
   "outputs": [
    {
     "output_type": "error",
     "ename": "ValueError",
     "evalue": "X has 1 features, but LinearRegression is expecting 65 features as input.",
     "traceback": [
      "\u001b[0;31m---------------------------------------------------------------------------\u001b[0m",
      "\u001b[0;31mValueError\u001b[0m                                Traceback (most recent call last)",
      "\u001b[0;32m<ipython-input-27-5955ed8fb705>\u001b[0m in \u001b[0;36m<module>\u001b[0;34m\u001b[0m\n\u001b[1;32m      4\u001b[0m \u001b[0;34m\u001b[0m\u001b[0m\n\u001b[1;32m      5\u001b[0m \u001b[0mx_range\u001b[0m \u001b[0;34m=\u001b[0m \u001b[0mnp\u001b[0m\u001b[0;34m.\u001b[0m\u001b[0mlinspace\u001b[0m\u001b[0;34m(\u001b[0m\u001b[0mX\u001b[0m\u001b[0;34m.\u001b[0m\u001b[0mmin\u001b[0m\u001b[0;34m(\u001b[0m\u001b[0;34m)\u001b[0m\u001b[0;34m,\u001b[0m \u001b[0mX\u001b[0m\u001b[0;34m.\u001b[0m\u001b[0mmax\u001b[0m\u001b[0;34m(\u001b[0m\u001b[0;34m)\u001b[0m\u001b[0;34m,\u001b[0m \u001b[0;36m100\u001b[0m\u001b[0;34m)\u001b[0m\u001b[0;34m\u001b[0m\u001b[0;34m\u001b[0m\u001b[0m\n\u001b[0;32m----> 6\u001b[0;31m \u001b[0my_range\u001b[0m \u001b[0;34m=\u001b[0m \u001b[0mregressor\u001b[0m\u001b[0;34m.\u001b[0m\u001b[0mpredict\u001b[0m\u001b[0;34m(\u001b[0m\u001b[0mx_range\u001b[0m\u001b[0;34m.\u001b[0m\u001b[0mreshape\u001b[0m\u001b[0;34m(\u001b[0m\u001b[0;34m-\u001b[0m\u001b[0;36m1\u001b[0m\u001b[0;34m,\u001b[0m \u001b[0;36m1\u001b[0m\u001b[0;34m)\u001b[0m\u001b[0;34m)\u001b[0m\u001b[0;34m\u001b[0m\u001b[0;34m\u001b[0m\u001b[0m\n\u001b[0m\u001b[1;32m      7\u001b[0m \u001b[0;34m\u001b[0m\u001b[0m\n\u001b[1;32m      8\u001b[0m \u001b[0mfig\u001b[0m \u001b[0;34m=\u001b[0m \u001b[0mpx\u001b[0m\u001b[0;34m.\u001b[0m\u001b[0mscatter\u001b[0m\u001b[0;34m(\u001b[0m\u001b[0mdf\u001b[0m\u001b[0;34m,\u001b[0m \u001b[0mx\u001b[0m\u001b[0;34m=\u001b[0m\u001b[0;34m'total_bill'\u001b[0m\u001b[0;34m,\u001b[0m \u001b[0my\u001b[0m\u001b[0;34m=\u001b[0m\u001b[0;34m'STI index'\u001b[0m\u001b[0;34m,\u001b[0m \u001b[0mopacity\u001b[0m\u001b[0;34m=\u001b[0m\u001b[0;36m0.65\u001b[0m\u001b[0;34m)\u001b[0m\u001b[0;34m\u001b[0m\u001b[0;34m\u001b[0m\u001b[0m\n",
      "\u001b[0;32m/shared-libs/python3.7/py/lib/python3.7/site-packages/sklearn/linear_model/_base.py\u001b[0m in \u001b[0;36mpredict\u001b[0;34m(self, X)\u001b[0m\n\u001b[1;32m    360\u001b[0m             \u001b[0mReturns\u001b[0m \u001b[0mpredicted\u001b[0m \u001b[0mvalues\u001b[0m\u001b[0;34m.\u001b[0m\u001b[0;34m\u001b[0m\u001b[0;34m\u001b[0m\u001b[0m\n\u001b[1;32m    361\u001b[0m         \"\"\"\n\u001b[0;32m--> 362\u001b[0;31m         \u001b[0;32mreturn\u001b[0m \u001b[0mself\u001b[0m\u001b[0;34m.\u001b[0m\u001b[0m_decision_function\u001b[0m\u001b[0;34m(\u001b[0m\u001b[0mX\u001b[0m\u001b[0;34m)\u001b[0m\u001b[0;34m\u001b[0m\u001b[0;34m\u001b[0m\u001b[0m\n\u001b[0m\u001b[1;32m    363\u001b[0m \u001b[0;34m\u001b[0m\u001b[0m\n\u001b[1;32m    364\u001b[0m     \u001b[0m_preprocess_data\u001b[0m \u001b[0;34m=\u001b[0m \u001b[0mstaticmethod\u001b[0m\u001b[0;34m(\u001b[0m\u001b[0m_preprocess_data\u001b[0m\u001b[0;34m)\u001b[0m\u001b[0;34m\u001b[0m\u001b[0;34m\u001b[0m\u001b[0m\n",
      "\u001b[0;32m/shared-libs/python3.7/py/lib/python3.7/site-packages/sklearn/linear_model/_base.py\u001b[0m in \u001b[0;36m_decision_function\u001b[0;34m(self, X)\u001b[0m\n\u001b[1;32m    343\u001b[0m         \u001b[0mcheck_is_fitted\u001b[0m\u001b[0;34m(\u001b[0m\u001b[0mself\u001b[0m\u001b[0;34m)\u001b[0m\u001b[0;34m\u001b[0m\u001b[0;34m\u001b[0m\u001b[0m\n\u001b[1;32m    344\u001b[0m \u001b[0;34m\u001b[0m\u001b[0m\n\u001b[0;32m--> 345\u001b[0;31m         \u001b[0mX\u001b[0m \u001b[0;34m=\u001b[0m \u001b[0mself\u001b[0m\u001b[0;34m.\u001b[0m\u001b[0m_validate_data\u001b[0m\u001b[0;34m(\u001b[0m\u001b[0mX\u001b[0m\u001b[0;34m,\u001b[0m \u001b[0maccept_sparse\u001b[0m\u001b[0;34m=\u001b[0m\u001b[0;34m[\u001b[0m\u001b[0;34m\"csr\"\u001b[0m\u001b[0;34m,\u001b[0m \u001b[0;34m\"csc\"\u001b[0m\u001b[0;34m,\u001b[0m \u001b[0;34m\"coo\"\u001b[0m\u001b[0;34m]\u001b[0m\u001b[0;34m,\u001b[0m \u001b[0mreset\u001b[0m\u001b[0;34m=\u001b[0m\u001b[0;32mFalse\u001b[0m\u001b[0;34m)\u001b[0m\u001b[0;34m\u001b[0m\u001b[0;34m\u001b[0m\u001b[0m\n\u001b[0m\u001b[1;32m    346\u001b[0m         \u001b[0;32mreturn\u001b[0m \u001b[0msafe_sparse_dot\u001b[0m\u001b[0;34m(\u001b[0m\u001b[0mX\u001b[0m\u001b[0;34m,\u001b[0m \u001b[0mself\u001b[0m\u001b[0;34m.\u001b[0m\u001b[0mcoef_\u001b[0m\u001b[0;34m.\u001b[0m\u001b[0mT\u001b[0m\u001b[0;34m,\u001b[0m \u001b[0mdense_output\u001b[0m\u001b[0;34m=\u001b[0m\u001b[0;32mTrue\u001b[0m\u001b[0;34m)\u001b[0m \u001b[0;34m+\u001b[0m \u001b[0mself\u001b[0m\u001b[0;34m.\u001b[0m\u001b[0mintercept_\u001b[0m\u001b[0;34m\u001b[0m\u001b[0;34m\u001b[0m\u001b[0m\n\u001b[1;32m    347\u001b[0m \u001b[0;34m\u001b[0m\u001b[0m\n",
      "\u001b[0;32m/shared-libs/python3.7/py/lib/python3.7/site-packages/sklearn/base.py\u001b[0m in \u001b[0;36m_validate_data\u001b[0;34m(self, X, y, reset, validate_separately, **check_params)\u001b[0m\n\u001b[1;32m    574\u001b[0m \u001b[0;34m\u001b[0m\u001b[0m\n\u001b[1;32m    575\u001b[0m         \u001b[0;32mif\u001b[0m \u001b[0;32mnot\u001b[0m \u001b[0mno_val_X\u001b[0m \u001b[0;32mand\u001b[0m \u001b[0mcheck_params\u001b[0m\u001b[0;34m.\u001b[0m\u001b[0mget\u001b[0m\u001b[0;34m(\u001b[0m\u001b[0;34m\"ensure_2d\"\u001b[0m\u001b[0;34m,\u001b[0m \u001b[0;32mTrue\u001b[0m\u001b[0;34m)\u001b[0m\u001b[0;34m:\u001b[0m\u001b[0;34m\u001b[0m\u001b[0;34m\u001b[0m\u001b[0m\n\u001b[0;32m--> 576\u001b[0;31m             \u001b[0mself\u001b[0m\u001b[0;34m.\u001b[0m\u001b[0m_check_n_features\u001b[0m\u001b[0;34m(\u001b[0m\u001b[0mX\u001b[0m\u001b[0;34m,\u001b[0m \u001b[0mreset\u001b[0m\u001b[0;34m=\u001b[0m\u001b[0mreset\u001b[0m\u001b[0;34m)\u001b[0m\u001b[0;34m\u001b[0m\u001b[0;34m\u001b[0m\u001b[0m\n\u001b[0m\u001b[1;32m    577\u001b[0m \u001b[0;34m\u001b[0m\u001b[0m\n\u001b[1;32m    578\u001b[0m         \u001b[0;32mreturn\u001b[0m \u001b[0mout\u001b[0m\u001b[0;34m\u001b[0m\u001b[0;34m\u001b[0m\u001b[0m\n",
      "\u001b[0;32m/shared-libs/python3.7/py/lib/python3.7/site-packages/sklearn/base.py\u001b[0m in \u001b[0;36m_check_n_features\u001b[0;34m(self, X, reset)\u001b[0m\n\u001b[1;32m    394\u001b[0m         \u001b[0;32mif\u001b[0m \u001b[0mn_features\u001b[0m \u001b[0;34m!=\u001b[0m \u001b[0mself\u001b[0m\u001b[0;34m.\u001b[0m\u001b[0mn_features_in_\u001b[0m\u001b[0;34m:\u001b[0m\u001b[0;34m\u001b[0m\u001b[0;34m\u001b[0m\u001b[0m\n\u001b[1;32m    395\u001b[0m             raise ValueError(\n\u001b[0;32m--> 396\u001b[0;31m                 \u001b[0;34mf\"X has {n_features} features, but {self.__class__.__name__} \"\u001b[0m\u001b[0;34m\u001b[0m\u001b[0;34m\u001b[0m\u001b[0m\n\u001b[0m\u001b[1;32m    397\u001b[0m                 \u001b[0;34mf\"is expecting {self.n_features_in_} features as input.\"\u001b[0m\u001b[0;34m\u001b[0m\u001b[0;34m\u001b[0m\u001b[0m\n\u001b[1;32m    398\u001b[0m             )\n",
      "\u001b[0;31mValueError\u001b[0m: X has 1 features, but LinearRegression is expecting 65 features as input."
     ]
    }
   ],
   "execution_count": null
  },
  {
   "cell_type": "code",
   "metadata": {
    "tags": [],
    "cell_id": "00025-fdf35e37-3929-4e67-b918-d876c359d96d",
    "deepnote_to_be_reexecuted": true,
    "source_hash": "b623e53d",
    "deepnote_cell_type": "code"
   },
   "source": "",
   "outputs": [],
   "execution_count": null
  },
  {
   "cell_type": "markdown",
   "source": "<a style='text-decoration:none;line-height:16px;display:flex;color:#5B5B62;padding:10px;justify-content:end;' href='https://deepnote.com?utm_source=created-in-deepnote-cell&projectId=8063f459-52be-4c78-9eaa-2f01d373f9b4' target=\"_blank\">\n<img alt='Created in deepnote.com' style='display:inline;max-height:16px;margin:0px;margin-right:7.5px;' src='data:image/svg+xml;base64,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' > </img>\nCreated in <span style='font-weight:600;margin-left:4px;'>Deepnote</span></a>",
   "metadata": {
    "tags": [],
    "created_in_deepnote_cell": true,
    "deepnote_cell_type": "markdown"
   }
  }
 ],
 "nbformat": 4,
 "nbformat_minor": 2,
 "metadata": {
  "deepnote": {
   "is_reactive": false
  },
  "deepnote_execution_queue": [],
  "deepnote_notebook_id": "3e20db9b-7d5b-427e-ab40-0553de67aec8",
  "interpreter": {
   "hash": "f8de414fe5ddbccff2f91c39ac2a6f46599db36c34b0eade305cc19fe9870220"
  },
  "kernelspec": {
   "display_name": "Python 3.8.5 64-bit ('fastai': conda)",
   "name": "python3"
  },
  "language_info": {
   "codemirror_mode": {
    "name": "ipython",
    "version": 3
   },
   "file_extension": ".py",
   "mimetype": "text/x-python",
   "name": "python",
   "nbconvert_exporter": "python",
   "pygments_lexer": "ipython3",
   "version": "3.8.5"
  },
  "orig_nbformat": 2
 }
}