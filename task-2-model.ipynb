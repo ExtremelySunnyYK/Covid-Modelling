{
 "cells": [
  {
   "cell_type": "markdown",
   "metadata": {
    "id": "DXvL5a1RlAzE",
    "papermill": {
     "duration": 0.024191,
     "end_time": "2021-02-10T19:02:30.236164",
     "exception": false,
     "start_time": "2021-02-10T19:02:30.211973",
     "status": "completed"
    },
    "tags": []
   },
   "source": [
    "### Importing the Dependencies"
   ]
  },
  {
   "cell_type": "code",
   "execution_count": 2,
   "metadata": {
    "execution": {
     "iopub.execute_input": "2021-02-10T19:02:30.289005Z",
     "iopub.status.busy": "2021-02-10T19:02:30.288092Z",
     "iopub.status.idle": "2021-02-10T19:02:30.292761Z",
     "shell.execute_reply": "2021-02-10T19:02:30.293349Z"
    },
    "id": "GXI1413Foust",
    "papermill": {
     "duration": 0.032976,
     "end_time": "2021-02-10T19:02:30.293659",
     "exception": false,
     "start_time": "2021-02-10T19:02:30.260683",
     "status": "completed"
    },
    "tags": []
   },
   "outputs": [],
   "source": [
    "#importing the required packages\n",
    "import numpy as np\n",
    "import pandas as pd\n",
    "import matplotlib.pyplot as plt"
   ]
  },
  {
   "cell_type": "markdown",
   "metadata": {
    "id": "s0J-6GLhlFxE",
    "papermill": {
     "duration": 0.024826,
     "end_time": "2021-02-10T19:02:30.343804",
     "exception": false,
     "start_time": "2021-02-10T19:02:30.318978",
     "status": "completed"
    },
    "tags": []
   },
   "source": [
    "### Get the Data and Data Preprocessing"
   ]
  },
  {
   "cell_type": "code",
   "execution_count": 3,
   "metadata": {
    "execution": {
     "iopub.execute_input": "2021-02-10T19:02:30.397474Z",
     "iopub.status.busy": "2021-02-10T19:02:30.396864Z",
     "iopub.status.idle": "2021-02-10T19:02:30.422388Z",
     "shell.execute_reply": "2021-02-10T19:02:30.422883Z"
    },
    "id": "Kr3QiE8Jf3Pa",
    "papermill": {
     "duration": 0.054064,
     "end_time": "2021-02-10T19:02:30.423059",
     "exception": false,
     "start_time": "2021-02-10T19:02:30.368995",
     "status": "completed"
    },
    "tags": []
   },
   "outputs": [],
   "source": [
    "#Get the dataset\n",
    "dataset = pd.read_csv(r'./output/processed_data.csv')"
   ]
  },
  {
   "cell_type": "code",
   "execution_count": 4,
   "metadata": {
    "execution": {
     "iopub.execute_input": "2021-02-10T19:02:30.476464Z",
     "iopub.status.busy": "2021-02-10T19:02:30.475795Z",
     "iopub.status.idle": "2021-02-10T19:02:30.505916Z",
     "shell.execute_reply": "2021-02-10T19:02:30.506402Z"
    },
    "id": "y8hHhyM1BuIb",
    "outputId": "e5d38506-f456-40fd-dd2c-08f11b394168",
    "papermill": {
     "duration": 0.05849,
     "end_time": "2021-02-10T19:02:30.506565",
     "exception": false,
     "start_time": "2021-02-10T19:02:30.448075",
     "status": "completed"
    },
    "tags": []
   },
   "outputs": [
    {
     "data": {
      "text/html": [
       "<div>\n",
       "<style scoped>\n",
       "    .dataframe tbody tr th:only-of-type {\n",
       "        vertical-align: middle;\n",
       "    }\n",
       "\n",
       "    .dataframe tbody tr th {\n",
       "        vertical-align: top;\n",
       "    }\n",
       "\n",
       "    .dataframe thead th {\n",
       "        text-align: right;\n",
       "    }\n",
       "</style>\n",
       "<table border=\"1\" class=\"dataframe\">\n",
       "  <thead>\n",
       "    <tr style=\"text-align: right;\">\n",
       "      <th></th>\n",
       "      <th>Date</th>\n",
       "      <th>Still Hospitalised</th>\n",
       "      <th>7 days Moving Average</th>\n",
       "      <th>Percentage Vaccinated</th>\n",
       "      <th>STI Price</th>\n",
       "      <th>Phase_Phase 2 (Heightened Alert)</th>\n",
       "      <th>Phase_Preparatory Stage</th>\n",
       "      <th>Phase_Stabilisation Phase</th>\n",
       "    </tr>\n",
       "  </thead>\n",
       "  <tbody>\n",
       "    <tr>\n",
       "      <th>0</th>\n",
       "      <td>738004</td>\n",
       "      <td>572</td>\n",
       "      <td>111.0</td>\n",
       "      <td>0.758562</td>\n",
       "      <td>3176.42</td>\n",
       "      <td>1</td>\n",
       "      <td>0</td>\n",
       "      <td>0</td>\n",
       "    </tr>\n",
       "    <tr>\n",
       "      <th>1</th>\n",
       "      <td>738005</td>\n",
       "      <td>562</td>\n",
       "      <td>102.0</td>\n",
       "      <td>0.759976</td>\n",
       "      <td>3149.25</td>\n",
       "      <td>1</td>\n",
       "      <td>0</td>\n",
       "      <td>0</td>\n",
       "    </tr>\n",
       "    <tr>\n",
       "      <th>2</th>\n",
       "      <td>738006</td>\n",
       "      <td>525</td>\n",
       "      <td>95.0</td>\n",
       "      <td>0.761512</td>\n",
       "      <td>3154.60</td>\n",
       "      <td>1</td>\n",
       "      <td>0</td>\n",
       "      <td>0</td>\n",
       "    </tr>\n",
       "    <tr>\n",
       "      <th>3</th>\n",
       "      <td>738007</td>\n",
       "      <td>547</td>\n",
       "      <td>98.0</td>\n",
       "      <td>0.762820</td>\n",
       "      <td>3186.65</td>\n",
       "      <td>1</td>\n",
       "      <td>0</td>\n",
       "      <td>0</td>\n",
       "    </tr>\n",
       "    <tr>\n",
       "      <th>4</th>\n",
       "      <td>738008</td>\n",
       "      <td>516</td>\n",
       "      <td>97.0</td>\n",
       "      <td>0.764014</td>\n",
       "      <td>3175.00</td>\n",
       "      <td>1</td>\n",
       "      <td>0</td>\n",
       "      <td>0</td>\n",
       "    </tr>\n",
       "  </tbody>\n",
       "</table>\n",
       "</div>"
      ],
      "text/plain": [
       "     Date  Still Hospitalised  7 days Moving Average  Percentage Vaccinated  \\\n",
       "0  738004                 572                  111.0               0.758562   \n",
       "1  738005                 562                  102.0               0.759976   \n",
       "2  738006                 525                   95.0               0.761512   \n",
       "3  738007                 547                   98.0               0.762820   \n",
       "4  738008                 516                   97.0               0.764014   \n",
       "\n",
       "   STI Price  Phase_Phase 2 (Heightened Alert)  Phase_Preparatory Stage  \\\n",
       "0    3176.42                                 1                        0   \n",
       "1    3149.25                                 1                        0   \n",
       "2    3154.60                                 1                        0   \n",
       "3    3186.65                                 1                        0   \n",
       "4    3175.00                                 1                        0   \n",
       "\n",
       "   Phase_Stabilisation Phase  \n",
       "0                          0  \n",
       "1                          0  \n",
       "2                          0  \n",
       "3                          0  \n",
       "4                          0  "
      ]
     },
     "execution_count": 4,
     "metadata": {},
     "output_type": "execute_result"
    }
   ],
   "source": [
    "#Get a glimpse of the Dataset\n",
    "dataset.head()"
   ]
  },
  {
   "cell_type": "code",
   "execution_count": 5,
   "metadata": {
    "execution": {
     "iopub.execute_input": "2021-02-10T19:02:30.561421Z",
     "iopub.status.busy": "2021-02-10T19:02:30.560754Z",
     "iopub.status.idle": "2021-02-10T19:02:30.566143Z",
     "shell.execute_reply": "2021-02-10T19:02:30.566626Z"
    },
    "id": "ake97iPi8_I7",
    "papermill": {
     "duration": 0.03383,
     "end_time": "2021-02-10T19:02:30.566800",
     "exception": false,
     "start_time": "2021-02-10T19:02:30.532970",
     "status": "completed"
    },
    "tags": []
   },
   "outputs": [],
   "source": [
    "#Separating the independent and dependent features\n",
    "#Dependent features\n",
    "y = np.asarray(dataset['STI Price'].values.tolist()) \n",
    "\n",
    "# Independent Features\n",
    "# Now, our dataset has only independent features\n",
    "dataset.drop([\"STI Price\"], axis = 1, inplace = True)"
   ]
  },
  {
   "cell_type": "code",
   "execution_count": 6,
   "metadata": {
    "execution": {
     "iopub.execute_input": "2021-02-10T19:02:31.531527Z",
     "iopub.status.busy": "2021-02-10T19:02:31.530991Z",
     "iopub.status.idle": "2021-02-10T19:02:31.535918Z",
     "shell.execute_reply": "2021-02-10T19:02:31.535416Z"
    },
    "id": "TK6Yxe3zin8N",
    "papermill": {
     "duration": 0.035589,
     "end_time": "2021-02-10T19:02:31.536052",
     "exception": false,
     "start_time": "2021-02-10T19:02:31.500463",
     "status": "completed"
    },
    "tags": []
   },
   "outputs": [],
   "source": [
    "# Get the processed Independent features \n",
    "X = np.asarray(dataset.values.tolist())"
   ]
  },
  {
   "cell_type": "code",
   "execution_count": 7,
   "metadata": {
    "execution": {
     "iopub.execute_input": "2021-02-10T19:02:31.597301Z",
     "iopub.status.busy": "2021-02-10T19:02:31.596664Z",
     "iopub.status.idle": "2021-02-10T19:02:31.600456Z",
     "shell.execute_reply": "2021-02-10T19:02:31.600871Z"
    },
    "id": "DaSyDT_fGlf5",
    "outputId": "cbed548a-2037-4948-c6f4-5673b3a188a7",
    "papermill": {
     "duration": 0.036853,
     "end_time": "2021-02-10T19:02:31.601046",
     "exception": false,
     "start_time": "2021-02-10T19:02:31.564193",
     "status": "completed"
    },
    "tags": []
   },
   "outputs": [
    {
     "name": "stdout",
     "output_type": "stream",
     "text": [
      "The shape of the independent fatures are  (59, 7)\n",
      "The shape of the dependent fatures are  (59,)\n"
     ]
    }
   ],
   "source": [
    "#Get the shapes of X and y\n",
    "print(\"The shape of the independent fatures are \",X.shape)\n",
    "print(\"The shape of the dependent fatures are \",y.shape)"
   ]
  },
  {
   "cell_type": "code",
   "execution_count": 8,
   "metadata": {
    "execution": {
     "iopub.execute_input": "2021-02-10T19:02:31.664699Z",
     "iopub.status.busy": "2021-02-10T19:02:31.664090Z",
     "iopub.status.idle": "2021-02-10T19:02:31.667530Z",
     "shell.execute_reply": "2021-02-10T19:02:31.666973Z"
    },
    "id": "iZhxeXCPi8Rd",
    "papermill": {
     "duration": 0.037565,
     "end_time": "2021-02-10T19:02:31.667660",
     "exception": false,
     "start_time": "2021-02-10T19:02:31.630095",
     "status": "completed"
    },
    "tags": []
   },
   "outputs": [],
   "source": [
    "#Reshaping the Dependent features\n",
    "y = y.reshape(len(y),1) # Changing the shape from (50,) to (50,1)"
   ]
  },
  {
   "cell_type": "code",
   "execution_count": 9,
   "metadata": {
    "execution": {
     "iopub.execute_input": "2021-02-10T19:02:31.731560Z",
     "iopub.status.busy": "2021-02-10T19:02:31.730938Z",
     "iopub.status.idle": "2021-02-10T19:02:31.734303Z",
     "shell.execute_reply": "2021-02-10T19:02:31.733713Z"
    },
    "id": "0FQ-HVLwSW0D",
    "papermill": {
     "duration": 0.038109,
     "end_time": "2021-02-10T19:02:31.734438",
     "exception": false,
     "start_time": "2021-02-10T19:02:31.696329",
     "status": "completed"
    },
    "tags": []
   },
   "outputs": [],
   "source": [
    "#Feature Scaling for Independent Variables\n",
    "for i in range(X.shape[1]-2):\n",
    "  X[:,i] = (X[:,i] - int(np.mean(X[:,i])))/np.std(X[:,i])\n"
   ]
  },
  {
   "cell_type": "code",
   "execution_count": 10,
   "metadata": {
    "execution": {
     "iopub.execute_input": "2021-02-10T19:02:31.797914Z",
     "iopub.status.busy": "2021-02-10T19:02:31.797284Z",
     "iopub.status.idle": "2021-02-10T19:02:31.800039Z",
     "shell.execute_reply": "2021-02-10T19:02:31.799506Z"
    },
    "id": "YtEFovnOu1x-",
    "papermill": {
     "duration": 0.036718,
     "end_time": "2021-02-10T19:02:31.800177",
     "exception": false,
     "start_time": "2021-02-10T19:02:31.763459",
     "status": "completed"
    },
    "tags": []
   },
   "outputs": [],
   "source": [
    "#Feature Scaling for Dependent Variables\n",
    "y = (y - int(np.mean(y)))/np.std(y)"
   ]
  },
  {
   "cell_type": "code",
   "execution_count": 11,
   "metadata": {
    "execution": {
     "iopub.execute_input": "2021-02-10T19:02:31.864264Z",
     "iopub.status.busy": "2021-02-10T19:02:31.863572Z",
     "iopub.status.idle": "2021-02-10T19:02:31.866185Z",
     "shell.execute_reply": "2021-02-10T19:02:31.865543Z"
    },
    "id": "WHGaikOGkSYQ",
    "papermill": {
     "duration": 0.036789,
     "end_time": "2021-02-10T19:02:31.866326",
     "exception": false,
     "start_time": "2021-02-10T19:02:31.829537",
     "status": "completed"
    },
    "tags": []
   },
   "outputs": [],
   "source": [
    "#Adding the feature X0 = 1, so we have the equation: y =  (W1 * X1) + (W0 * X0) \n",
    "X = np.concatenate((X,np.ones((X.shape[0],1))), axis = 1)"
   ]
  },
  {
   "cell_type": "markdown",
   "metadata": {
    "id": "TEAUmgwclN5d",
    "papermill": {
     "duration": 0.032178,
     "end_time": "2021-02-10T19:02:32.231232",
     "exception": false,
     "start_time": "2021-02-10T19:02:32.199054",
     "status": "completed"
    },
    "tags": []
   },
   "source": [
    "### Utility Methods"
   ]
  },
  {
   "cell_type": "code",
   "execution_count": 12,
   "metadata": {
    "execution": {
     "iopub.execute_input": "2021-02-10T19:02:32.298653Z",
     "iopub.status.busy": "2021-02-10T19:02:32.297701Z",
     "iopub.status.idle": "2021-02-10T19:02:32.303797Z",
     "shell.execute_reply": "2021-02-10T19:02:32.304322Z"
    },
    "id": "sMFw3Ps4IjIY",
    "papermill": {
     "duration": 0.041508,
     "end_time": "2021-02-10T19:02:32.304493",
     "exception": false,
     "start_time": "2021-02-10T19:02:32.262985",
     "status": "completed"
    },
    "tags": []
   },
   "outputs": [],
   "source": [
    "# The method \"split_data\" splits the given dataset into trainset and testset\n",
    "# This is similar to the method \"train_test_split\" from \"sklearn.model_selection\"\n",
    "def split_data(X,y,test_size=0.2,random_state=0):\n",
    "    np.random.seed(random_state)                  #set the seed for reproducible results\n",
    "    indices = np.random.permutation(len(X))       #shuffling the indices\n",
    "    data_test_size = int(X.shape[0] * test_size)  #Get the test size\n",
    "\n",
    "    #Separating the Independent and Dependent features into the Train and Test Set\n",
    "    train_indices = indices[data_test_size:]\n",
    "    test_indices = indices[:data_test_size]\n",
    "    X_train = X[train_indices]\n",
    "    y_train = y[train_indices]\n",
    "    X_test = X[test_indices]\n",
    "    y_test = y[test_indices]\n",
    "    return X_train, y_train, X_test, y_test"
   ]
  },
  {
   "cell_type": "code",
   "execution_count": 13,
   "metadata": {
    "execution": {
     "iopub.execute_input": "2021-02-10T19:02:32.433770Z",
     "iopub.status.busy": "2021-02-10T19:02:32.432803Z",
     "iopub.status.idle": "2021-02-10T19:02:32.447261Z",
     "shell.execute_reply": "2021-02-10T19:02:32.446718Z"
    },
    "id": "mBt41FyrunIl",
    "papermill": {
     "duration": 0.048802,
     "end_time": "2021-02-10T19:02:32.447412",
     "exception": false,
     "start_time": "2021-02-10T19:02:32.398610",
     "status": "completed"
    },
    "tags": []
   },
   "outputs": [],
   "source": [
    "class MultipleLinearRegression():\n",
    "\n",
    "  def __init__(self):\n",
    "    #No instance Variables required\n",
    "    pass\n",
    "\n",
    "  def forward(self,X,y,W):\n",
    "    \"\"\"\n",
    "    Parameters:\n",
    "    X (array) : Independent Features\n",
    "    y (array) : Dependent Features/ Target Variable\n",
    "    W (array) : Weights \n",
    "\n",
    "    Returns:\n",
    "    loss (float) : Calculated Sqaured Error Loss for y and y_pred\n",
    "    y_pred (array) : Predicted Target Variable\n",
    "    \"\"\"\n",
    "    y_pred = sum(W * X)\n",
    "    loss = ((y_pred-y)**2)/2    #Loss = Squared Error, we introduce 1/2 for ease in the calculation\n",
    "    return loss, y_pred\n",
    "\n",
    "  def updateWeights(self,X,y_pred,y_true,W,alpha,index):\n",
    "    \"\"\"\n",
    "    Parameters:\n",
    "    X (array) : Independent Features\n",
    "    y_pred (array) : Predicted Target Variable\n",
    "    y_true (array) : Dependent Features/ Target Variable\n",
    "    W (array) : Weights\n",
    "    alpha (float) : learning rate\n",
    "    index (int) : Index to fetch the corresponding values of W, X and y \n",
    "\n",
    "    Returns:\n",
    "    W (array) : Update Values of Weight\n",
    "    \"\"\"\n",
    "    for i in range(X.shape[1]):\n",
    "      #alpha = learning rate, rest of the RHS is derivative of loss function\n",
    "      W[i] -= (alpha * (y_pred-y_true[index])*X[index][i]) \n",
    "    return W\n",
    "\n",
    "  def train(self, X, y, epochs=10, alpha=0.001, random_state=0):\n",
    "    \"\"\"\n",
    "    Parameters:\n",
    "    X (array) : Independent Feature\n",
    "    y (array) : Dependent Features/ Target Variable\n",
    "    epochs (int) : Number of epochs for training, default value is 10\n",
    "    alpha (float) : learning rate, default value is 0.001\n",
    "\n",
    "    Returns:\n",
    "    y_pred (array) : Predicted Target Variable\n",
    "    loss (float) : Calculated Sqaured Error Loss for y and y_pred\n",
    "    \"\"\"\n",
    "\n",
    "    num_rows = X.shape[0] #Number of Rows\n",
    "    num_cols = X.shape[1] #Number of Columns \n",
    "    W = np.random.randn(1,num_cols) / np.sqrt(num_rows) #Weight Initialization\n",
    "\n",
    "    #Calculating Loss and Updating Weights\n",
    "    train_loss = []\n",
    "    num_epochs = []\n",
    "    train_indices = [i for i in range(X.shape[0])]\n",
    "    for j in range(epochs):\n",
    "      cost=0\n",
    "      np.random.seed(random_state)\n",
    "      np.random.shuffle(train_indices)\n",
    "      for i in train_indices:\n",
    "        loss, y_pred = self.forward(X[i],y[i],W[0])\n",
    "        cost+=loss\n",
    "        W[0] = self.updateWeights(X,y_pred,y,W[0],alpha,i)\n",
    "      train_loss.append(cost)\n",
    "      num_epochs.append(j)\n",
    "    return W[0], train_loss, num_epochs\n",
    "\n",
    "  def test(self, X_test, y_test, W_trained):\n",
    "    \"\"\"\n",
    "    Parameters:\n",
    "    X_test (array) : Independent Features from the Test Set\n",
    "    y_test (array) : Dependent Features/ Target Variable from the Test Set\n",
    "    W_trained (array) : Trained Weights\n",
    "    test_indices (list) : Index to fetch the corresponding values of W_trained,\n",
    "                          X_test and y_test \n",
    "\n",
    "    Returns:\n",
    "    test_pred (list) : Predicted Target Variable\n",
    "    test_loss (list) : Calculated Sqaured Error Loss for y and y_pred\n",
    "    \"\"\"\n",
    "    test_pred = []\n",
    "    test_loss = []\n",
    "    test_indices = [i for i in range(X_test.shape[0])]\n",
    "    for i in test_indices:\n",
    "        loss, y_test_pred = self.forward(X_test[i], W_trained, y_test[i])\n",
    "        test_pred.append(y_test_pred)\n",
    "        test_loss.append(loss)\n",
    "    return test_pred, test_loss\n",
    "    \n",
    "\n",
    "  def predict(self, W_trained, X_sample):\n",
    "    prediction = sum(W_trained * X_sample)\n",
    "    return prediction\n",
    "\n",
    "  def plotLoss(self, loss, epochs):\n",
    "    \"\"\"\n",
    "    Parameters:\n",
    "    loss (list) : Calculated Sqaured Error Loss for y and y_pred\n",
    "    epochs (list): Number of Epochs\n",
    "\n",
    "    Returns: None\n",
    "    Plots a graph of Loss vs Epochs\n",
    "    \"\"\"\n",
    "    plt.plot(epochs, loss)\n",
    "    plt.xlabel('Number of Epochs')\n",
    "    plt.ylabel('Loss')\n",
    "    plt.title('Plot Loss')\n",
    "    plt.show()\n",
    "  \n"
   ]
  },
  {
   "cell_type": "markdown",
   "metadata": {
    "id": "KL3sFhd5sJ85",
    "papermill": {
     "duration": 0.031147,
     "end_time": "2021-02-10T19:02:32.510150",
     "exception": false,
     "start_time": "2021-02-10T19:02:32.479003",
     "status": "completed"
    },
    "tags": []
   },
   "source": [
    "### Performing Linear Regression"
   ]
  },
  {
   "cell_type": "code",
   "execution_count": 14,
   "metadata": {
    "execution": {
     "iopub.execute_input": "2021-02-10T19:02:32.578319Z",
     "iopub.status.busy": "2021-02-10T19:02:32.577384Z",
     "iopub.status.idle": "2021-02-10T19:02:32.580412Z",
     "shell.execute_reply": "2021-02-10T19:02:32.579981Z"
    },
    "id": "SeUC0VYImNlQ",
    "papermill": {
     "duration": 0.038965,
     "end_time": "2021-02-10T19:02:32.580543",
     "exception": false,
     "start_time": "2021-02-10T19:02:32.541578",
     "status": "completed"
    },
    "tags": []
   },
   "outputs": [],
   "source": [
    "#Splitting the dataset\n",
    "X_train, y_train, X_test, y_test = split_data(X,y)\n",
    "regressor = MultipleLinearRegression()\n",
    "#Training \n",
    "W_trained, train_loss, num_epochs = regressor.train(X_train, y_train, epochs=200, alpha=0.0001)\n",
    "#Testing on the Test Dataset\n",
    "test_pred, test_loss = regressor.test(X_test, y_test, W_trained)"
   ]
  },
  {
   "cell_type": "code",
   "execution_count": 17,
   "metadata": {},
   "outputs": [
    {
     "data": {
      "text/plain": [
       "[array([279.64389016, 285.10755339, 286.48412059, 283.07186309,\n",
       "        287.06550538, 282.92554633, 288.2597345 , 284.11126955]),\n",
       " array([3772.25411197, 3792.2504373 , 3797.26648695, 3784.81647822,\n",
       "        3799.38235824, 3784.28141031, 3803.72372709, 3788.61461208]),\n",
       " array([2930.11728425, 2947.74392302, 2952.16652099, 2941.19020218,\n",
       "        2954.0321799 , 2940.71852379, 2957.86037816, 2944.53849972]),\n",
       " array([507.4546229 , 514.8054842 , 516.65467122, 512.0687797 ,\n",
       "        517.43532301, 511.87198008, 519.03823679, 513.46643195]),\n",
       " array([6.61619689, 5.80629291, 5.61174136, 6.10096725, 5.53070766,\n",
       "        6.12246948, 5.3663562 , 5.94946584]),\n",
       " array([979.94566823, 969.79377256, 967.2596624 , 973.55860135,\n",
       "        966.19221891, 973.83000342, 964.00480017, 971.6337147 ]),\n",
       " array([3563.7939425 , 3583.23064402, 3588.10654447, 3576.0045615 ,\n",
       "        3590.16332575, 3575.48446362, 3594.38350453, 3579.69646227]),\n",
       " array([756.60667362, 765.57666293, 767.83133575, 762.23852092,\n",
       "        768.78294934, 761.99840935, 770.73649551, 763.94353137]),\n",
       " array([589.6952403 , 597.61734262, 599.6095882 , 594.66844626,\n",
       "        600.45055665, 594.45636585, 602.17717628, 596.17453689]),\n",
       " array([253.22153702, 258.42195736, 259.73259941, 256.48405065,\n",
       "        260.2861887 , 256.34477568, 261.42341092, 257.47348585]),\n",
       " array([2227.14648015, 2211.8285166 , 2208.00064392, 2217.51232092,\n",
       "        2206.38772147, 2217.92191617, 2203.08155811, 2214.60676239])]"
      ]
     },
     "execution_count": 17,
     "metadata": {},
     "output_type": "execute_result"
    }
   ],
   "source": [
    "test_loss"
   ]
  },
  {
   "cell_type": "markdown",
   "metadata": {
    "id": "LbXBW88kpjmN",
    "papermill": {
     "duration": 0.031636,
     "end_time": "2021-02-10T19:02:33.255798",
     "exception": false,
     "start_time": "2021-02-10T19:02:33.224162",
     "status": "completed"
    },
    "tags": []
   },
   "source": [
    "### Visualizing Results"
   ]
  },
  {
   "cell_type": "code",
   "execution_count": 15,
   "metadata": {
    "execution": {
     "iopub.execute_input": "2021-02-10T19:02:33.343098Z",
     "iopub.status.busy": "2021-02-10T19:02:33.332898Z",
     "iopub.status.idle": "2021-02-10T19:02:33.490102Z",
     "shell.execute_reply": "2021-02-10T19:02:33.490512Z"
    },
    "id": "z80Vq2Y0wZMa",
    "outputId": "26d5062a-38cf-401a-a85d-5e62432049b1",
    "papermill": {
     "duration": 0.203025,
     "end_time": "2021-02-10T19:02:33.490688",
     "exception": false,
     "start_time": "2021-02-10T19:02:33.287663",
     "status": "completed"
    },
    "tags": []
   },
   "outputs": [
    {
     "data": {
      "image/png": "[encoded data removed]",
      "text/plain": [
       "<Figure size 432x288 with 1 Axes>"
      ]
     },
     "metadata": {
      "needs_background": "light"
     },
     "output_type": "display_data"
    }
   ],
   "source": [
    "#Plot the Train Loss\n",
    "regressor.plotLoss(train_loss, num_epochs)"
   ]
  }
 ],
 "metadata": {
  "kernelspec": {
   "display_name": "Python 3",
   "language": "python",
   "name": "python3"
  },
  "language_info": {
   "codemirror_mode": {
    "name": "ipython",
    "version": 3
   },
   "file_extension": ".py",
   "mimetype": "text/x-python",
   "name": "python",
   "nbconvert_exporter": "python",
   "pygments_lexer": "ipython3",
   "version": "3.8.5"
  },
  "papermill": {
   "default_parameters": {},
   "duration": 12.82104,
   "end_time": "2021-02-10T19:02:36.833204",
   "environment_variables": {},
   "exception": null,
   "input_path": "__notebook__.ipynb",
   "output_path": "__notebook__.ipynb",
   "parameters": {},
   "start_time": "2021-02-10T19:02:24.012164",
   "version": "2.2.2"
  }
 },
 "nbformat": 4,
 "nbformat_minor": 4
}
