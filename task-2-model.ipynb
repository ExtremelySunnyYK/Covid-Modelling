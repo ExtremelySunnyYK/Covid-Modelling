{
 "cells": [
  {
   "cell_type": "markdown",
   "metadata": {
    "id": "DXvL5a1RlAzE",
    "papermill": {
     "duration": 0.024191,
     "end_time": "2021-02-10T19:02:30.236164",
     "exception": false,
     "start_time": "2021-02-10T19:02:30.211973",
     "status": "completed"
    },
    "tags": []
   },
   "source": [
    "### Importing the Dependencies"
   ]
  },
  {
   "cell_type": "code",
   "execution_count": 30,
   "metadata": {
    "execution": {
     "iopub.execute_input": "2021-02-10T19:02:30.289005Z",
     "iopub.status.busy": "2021-02-10T19:02:30.288092Z",
     "iopub.status.idle": "2021-02-10T19:02:30.292761Z",
     "shell.execute_reply": "2021-02-10T19:02:30.293349Z"
    },
    "id": "GXI1413Foust",
    "papermill": {
     "duration": 0.032976,
     "end_time": "2021-02-10T19:02:30.293659",
     "exception": false,
     "start_time": "2021-02-10T19:02:30.260683",
     "status": "completed"
    },
    "tags": []
   },
   "outputs": [],
   "source": [
    "#importing the required packages\n",
    "import numpy as np\n",
    "import pandas as pd\n",
    "import matplotlib.pyplot as plt"
   ]
  },
  {
   "cell_type": "markdown",
   "metadata": {
    "id": "s0J-6GLhlFxE",
    "papermill": {
     "duration": 0.024826,
     "end_time": "2021-02-10T19:02:30.343804",
     "exception": false,
     "start_time": "2021-02-10T19:02:30.318978",
     "status": "completed"
    },
    "tags": []
   },
   "source": [
    "### Get the Data and Data Preprocessing"
   ]
  },
  {
   "cell_type": "code",
   "execution_count": 31,
   "metadata": {
    "execution": {
     "iopub.execute_input": "2021-02-10T19:02:30.397474Z",
     "iopub.status.busy": "2021-02-10T19:02:30.396864Z",
     "iopub.status.idle": "2021-02-10T19:02:30.422388Z",
     "shell.execute_reply": "2021-02-10T19:02:30.422883Z"
    },
    "id": "Kr3QiE8Jf3Pa",
    "papermill": {
     "duration": 0.054064,
     "end_time": "2021-02-10T19:02:30.423059",
     "exception": false,
     "start_time": "2021-02-10T19:02:30.368995",
     "status": "completed"
    },
    "tags": []
   },
   "outputs": [],
   "source": [
    "#Get the dataset\n",
    "dataset = pd.read_csv(r'./output/processed_data.csv')"
   ]
  },
  {
   "cell_type": "code",
   "execution_count": 50,
   "metadata": {},
   "outputs": [
    {
     "data": {
      "text/plain": [
       "Index(['Date', 'Still Hospitalised', '7 days Moving Average',\n",
       "       'Percentage Vaccinated', 'Phase_Phase 2 (Heightened Alert)',\n",
       "       'Phase_Preparatory Stage', 'Phase_Stabilisation Phase'],\n",
       "      dtype='object')"
      ]
     },
     "execution_count": 50,
     "metadata": {},
     "output_type": "execute_result"
    }
   ],
   "source": [
    "dataset.columns"
   ]
  },
  {
   "cell_type": "code",
   "execution_count": 33,
   "metadata": {
    "execution": {
     "iopub.execute_input": "2021-02-10T19:02:30.561421Z",
     "iopub.status.busy": "2021-02-10T19:02:30.560754Z",
     "iopub.status.idle": "2021-02-10T19:02:30.566143Z",
     "shell.execute_reply": "2021-02-10T19:02:30.566626Z"
    },
    "id": "ake97iPi8_I7",
    "papermill": {
     "duration": 0.03383,
     "end_time": "2021-02-10T19:02:30.566800",
     "exception": false,
     "start_time": "2021-02-10T19:02:30.532970",
     "status": "completed"
    },
    "tags": []
   },
   "outputs": [],
   "source": [
    "#Separating the independent and dependent features\n",
    "#Dependent features\n",
    "y = np.asarray(dataset['STI Price'].values.tolist()) \n",
    "\n",
    "# Independent Features\n",
    "# Now, our dataset has only independent features\n",
    "dataset.drop([\"STI Price\"], axis = 1, inplace = True)"
   ]
  },
  {
   "cell_type": "code",
   "execution_count": 34,
   "metadata": {
    "execution": {
     "iopub.execute_input": "2021-02-10T19:02:31.531527Z",
     "iopub.status.busy": "2021-02-10T19:02:31.530991Z",
     "iopub.status.idle": "2021-02-10T19:02:31.535918Z",
     "shell.execute_reply": "2021-02-10T19:02:31.535416Z"
    },
    "id": "TK6Yxe3zin8N",
    "papermill": {
     "duration": 0.035589,
     "end_time": "2021-02-10T19:02:31.536052",
     "exception": false,
     "start_time": "2021-02-10T19:02:31.500463",
     "status": "completed"
    },
    "tags": []
   },
   "outputs": [],
   "source": [
    "# Get the processed Independent features \n",
    "X = np.asarray(dataset.values.tolist())"
   ]
  },
  {
   "cell_type": "code",
   "execution_count": 35,
   "metadata": {
    "execution": {
     "iopub.execute_input": "2021-02-10T19:02:31.597301Z",
     "iopub.status.busy": "2021-02-10T19:02:31.596664Z",
     "iopub.status.idle": "2021-02-10T19:02:31.600456Z",
     "shell.execute_reply": "2021-02-10T19:02:31.600871Z"
    },
    "id": "DaSyDT_fGlf5",
    "outputId": "cbed548a-2037-4948-c6f4-5673b3a188a7",
    "papermill": {
     "duration": 0.036853,
     "end_time": "2021-02-10T19:02:31.601046",
     "exception": false,
     "start_time": "2021-02-10T19:02:31.564193",
     "status": "completed"
    },
    "tags": []
   },
   "outputs": [
    {
     "name": "stdout",
     "output_type": "stream",
     "text": [
      "The shape of the independent fatures are  (59, 7)\n",
      "The shape of the dependent fatures are  (59,)\n"
     ]
    }
   ],
   "source": [
    "#Get the shapes of X and y\n",
    "print(\"The shape of the independent fatures are \",X.shape)\n",
    "print(\"The shape of the dependent fatures are \",y.shape)"
   ]
  },
  {
   "cell_type": "code",
   "execution_count": 36,
   "metadata": {
    "execution": {
     "iopub.execute_input": "2021-02-10T19:02:31.664699Z",
     "iopub.status.busy": "2021-02-10T19:02:31.664090Z",
     "iopub.status.idle": "2021-02-10T19:02:31.667530Z",
     "shell.execute_reply": "2021-02-10T19:02:31.666973Z"
    },
    "id": "iZhxeXCPi8Rd",
    "papermill": {
     "duration": 0.037565,
     "end_time": "2021-02-10T19:02:31.667660",
     "exception": false,
     "start_time": "2021-02-10T19:02:31.630095",
     "status": "completed"
    },
    "tags": []
   },
   "outputs": [],
   "source": [
    "#Reshaping the Dependent features\n",
    "y = y.reshape(len(y),1) # Changing the shape from (50,) to (50,1)"
   ]
  },
  {
   "cell_type": "code",
   "execution_count": 37,
   "metadata": {
    "execution": {
     "iopub.execute_input": "2021-02-10T19:02:31.731560Z",
     "iopub.status.busy": "2021-02-10T19:02:31.730938Z",
     "iopub.status.idle": "2021-02-10T19:02:31.734303Z",
     "shell.execute_reply": "2021-02-10T19:02:31.733713Z"
    },
    "id": "0FQ-HVLwSW0D",
    "papermill": {
     "duration": 0.038109,
     "end_time": "2021-02-10T19:02:31.734438",
     "exception": false,
     "start_time": "2021-02-10T19:02:31.696329",
     "status": "completed"
    },
    "tags": []
   },
   "outputs": [],
   "source": [
    "#Feature Scaling for Independent Variables\n",
    "for i in range(X.shape[1]-2):\n",
    "  X[:,i] = (X[:,i] - int(np.mean(X[:,i])))/np.std(X[:,i])\n"
   ]
  },
  {
   "cell_type": "code",
   "execution_count": 38,
   "metadata": {
    "execution": {
     "iopub.execute_input": "2021-02-10T19:02:31.797914Z",
     "iopub.status.busy": "2021-02-10T19:02:31.797284Z",
     "iopub.status.idle": "2021-02-10T19:02:31.800039Z",
     "shell.execute_reply": "2021-02-10T19:02:31.799506Z"
    },
    "id": "YtEFovnOu1x-",
    "papermill": {
     "duration": 0.036718,
     "end_time": "2021-02-10T19:02:31.800177",
     "exception": false,
     "start_time": "2021-02-10T19:02:31.763459",
     "status": "completed"
    },
    "tags": []
   },
   "outputs": [],
   "source": [
    "#Feature Scaling for Dependent Variables\n",
    "y = (y - int(np.mean(y)))/np.std(y)"
   ]
  },
  {
   "cell_type": "code",
   "execution_count": 39,
   "metadata": {
    "execution": {
     "iopub.execute_input": "2021-02-10T19:02:31.864264Z",
     "iopub.status.busy": "2021-02-10T19:02:31.863572Z",
     "iopub.status.idle": "2021-02-10T19:02:31.866185Z",
     "shell.execute_reply": "2021-02-10T19:02:31.865543Z"
    },
    "id": "WHGaikOGkSYQ",
    "papermill": {
     "duration": 0.036789,
     "end_time": "2021-02-10T19:02:31.866326",
     "exception": false,
     "start_time": "2021-02-10T19:02:31.829537",
     "status": "completed"
    },
    "tags": []
   },
   "outputs": [],
   "source": [
    "#Adding the feature X0 = 1, so we have the equation: y =  (W1 * X1) + (W0 * X0) \n",
    "X = np.concatenate((X,np.ones((X.shape[0],1))), axis = 1)"
   ]
  },
  {
   "cell_type": "markdown",
   "metadata": {
    "id": "TEAUmgwclN5d",
    "papermill": {
     "duration": 0.032178,
     "end_time": "2021-02-10T19:02:32.231232",
     "exception": false,
     "start_time": "2021-02-10T19:02:32.199054",
     "status": "completed"
    },
    "tags": []
   },
   "source": [
    "### Utility Methods"
   ]
  },
  {
   "cell_type": "code",
   "execution_count": 40,
   "metadata": {
    "execution": {
     "iopub.execute_input": "2021-02-10T19:02:32.298653Z",
     "iopub.status.busy": "2021-02-10T19:02:32.297701Z",
     "iopub.status.idle": "2021-02-10T19:02:32.303797Z",
     "shell.execute_reply": "2021-02-10T19:02:32.304322Z"
    },
    "id": "sMFw3Ps4IjIY",
    "papermill": {
     "duration": 0.041508,
     "end_time": "2021-02-10T19:02:32.304493",
     "exception": false,
     "start_time": "2021-02-10T19:02:32.262985",
     "status": "completed"
    },
    "tags": []
   },
   "outputs": [],
   "source": [
    "# The method \"split_data\" splits the given dataset into trainset and testset\n",
    "# This is similar to the method \"train_test_split\" from \"sklearn.model_selection\"\n",
    "def split_data(X,y,test_size=0.2,random_state=0):\n",
    "    np.random.seed(random_state)                  #set the seed for reproducible results\n",
    "    indices = np.random.permutation(len(X))       #shuffling the indices\n",
    "    data_test_size = int(X.shape[0] * test_size)  #Get the test size\n",
    "\n",
    "    #Separating the Independent and Dependent features into the Train and Test Set\n",
    "    train_indices = indices[data_test_size:]\n",
    "    test_indices = indices[:data_test_size]\n",
    "    X_train = X[train_indices]\n",
    "    y_train = y[train_indices]\n",
    "    X_test = X[test_indices]\n",
    "    y_test = y[test_indices]\n",
    "    return X_train, y_train, X_test, y_test"
   ]
  },
  {
   "cell_type": "code",
   "execution_count": 41,
   "metadata": {
    "execution": {
     "iopub.execute_input": "2021-02-10T19:02:32.433770Z",
     "iopub.status.busy": "2021-02-10T19:02:32.432803Z",
     "iopub.status.idle": "2021-02-10T19:02:32.447261Z",
     "shell.execute_reply": "2021-02-10T19:02:32.446718Z"
    },
    "id": "mBt41FyrunIl",
    "papermill": {
     "duration": 0.048802,
     "end_time": "2021-02-10T19:02:32.447412",
     "exception": false,
     "start_time": "2021-02-10T19:02:32.398610",
     "status": "completed"
    },
    "tags": []
   },
   "outputs": [],
   "source": [
    "class MultipleLinearRegression():\n",
    "\n",
    "  def __init__(self):\n",
    "    #No instance Variables required\n",
    "    pass\n",
    "\n",
    "  def forward(self,X,y,W):\n",
    "    \"\"\"\n",
    "    Parameters:\n",
    "    X (array) : Independent Features\n",
    "    y (array) : Dependent Features/ Target Variable\n",
    "    W (array) : Weights \n",
    "\n",
    "    Returns:\n",
    "    loss (float) : Calculated Sqaured Error Loss for y and y_pred\n",
    "    y_pred (array) : Predicted Target Variable\n",
    "    \"\"\"\n",
    "    y_pred = sum(W * X)\n",
    "    loss = ((y_pred-y)**2)/2    #Loss = Squared Error, we introduce 1/2 for ease in the calculation\n",
    "    return loss, y_pred\n",
    "\n",
    "  def updateWeights(self,X,y_pred,y_true,W,alpha,index):\n",
    "    \"\"\"\n",
    "    Parameters:\n",
    "    X (array) : Independent Features\n",
    "    y_pred (array) : Predicted Target Variable\n",
    "    y_true (array) : Dependent Features/ Target Variable\n",
    "    W (array) : Weights\n",
    "    alpha (float) : learning rate\n",
    "    index (int) : Index to fetch the corresponding values of W, X and y \n",
    "\n",
    "    Returns:\n",
    "    W (array) : Update Values of Weight\n",
    "    \"\"\"\n",
    "    for i in range(X.shape[1]):\n",
    "      #alpha = learning rate, rest of the RHS is derivative of loss function\n",
    "      W[i] -= (alpha * (y_pred-y_true[index])*X[index][i]) \n",
    "    return W\n",
    "\n",
    "  def train(self, X, y, epochs=10, alpha=0.001, random_state=0):\n",
    "    \"\"\"\n",
    "    Parameters:\n",
    "    X (array) : Independent Feature\n",
    "    y (array) : Dependent Features/ Target Variable\n",
    "    epochs (int) : Number of epochs for training, default value is 10\n",
    "    alpha (float) : learning rate, default value is 0.001\n",
    "\n",
    "    Returns:\n",
    "    y_pred (array) : Predicted Target Variable\n",
    "    loss (float) : Calculated Sqaured Error Loss for y and y_pred\n",
    "    \"\"\"\n",
    "\n",
    "    num_rows = X.shape[0] #Number of Rows\n",
    "    num_cols = X.shape[1] #Number of Columns \n",
    "    W = np.random.randn(1,num_cols) / np.sqrt(num_rows) #Weight Initialization\n",
    "\n",
    "    #Calculating Loss and Updating Weights\n",
    "    train_loss = []\n",
    "    num_epochs = []\n",
    "    train_indices = [i for i in range(X.shape[0])]\n",
    "    for j in range(epochs):\n",
    "      cost=0\n",
    "      np.random.seed(random_state)\n",
    "      np.random.shuffle(train_indices)\n",
    "      for i in train_indices:\n",
    "        loss, y_pred = self.forward(X[i],y[i],W[0])\n",
    "        cost+=loss\n",
    "        W[0] = self.updateWeights(X,y_pred,y,W[0],alpha,i)\n",
    "      train_loss.append(cost)\n",
    "      num_epochs.append(j)\n",
    "    return W[0], train_loss, num_epochs\n",
    "\n",
    "  def test(self, X_test, y_test, W_trained):\n",
    "    \"\"\"\n",
    "    Parameters:\n",
    "    X_test (array) : Independent Features from the Test Set\n",
    "    y_test (array) : Dependent Features/ Target Variable from the Test Set\n",
    "    W_trained (array) : Trained Weights\n",
    "    test_indices (list) : Index to fetch the corresponding values of W_trained,\n",
    "                          X_test and y_test \n",
    "\n",
    "    Returns:\n",
    "    test_pred (list) : Predicted Target Variable\n",
    "    test_loss (list) : Calculated Sqaured Error Loss for y and y_pred\n",
    "    \"\"\"\n",
    "    test_pred = []\n",
    "    test_loss = []\n",
    "    test_indices = [i for i in range(X_test.shape[0])]\n",
    "    for i in test_indices:\n",
    "        loss, y_test_pred = self.forward(X_test[i], W_trained, y_test[i])\n",
    "        test_pred.append(y_test_pred)\n",
    "        test_loss.append(loss)\n",
    "    return test_pred, test_loss\n",
    "    \n",
    "\n",
    "  def predict(self, W_trained, X_sample):\n",
    "    prediction = sum(W_trained * X_sample)\n",
    "    return prediction\n",
    "\n",
    "  def plotLoss(self, loss, epochs):\n",
    "    \"\"\"\n",
    "    Parameters:\n",
    "    loss (list) : Calculated Sqaured Error Loss for y and y_pred\n",
    "    epochs (list): Number of Epochs\n",
    "\n",
    "    Returns: None\n",
    "    Plots a graph of Loss vs Epochs\n",
    "    \"\"\"\n",
    "    plt.plot(epochs, loss)\n",
    "    plt.xlabel('Number of Epochs')\n",
    "    plt.ylabel('Loss')\n",
    "    plt.title('Plot Loss')\n",
    "    plt.show()\n",
    "  \n"
   ]
  },
  {
   "cell_type": "markdown",
   "metadata": {
    "id": "KL3sFhd5sJ85",
    "papermill": {
     "duration": 0.031147,
     "end_time": "2021-02-10T19:02:32.510150",
     "exception": false,
     "start_time": "2021-02-10T19:02:32.479003",
     "status": "completed"
    },
    "tags": []
   },
   "source": [
    "### Performing Linear Regression"
   ]
  },
  {
   "cell_type": "code",
   "execution_count": 42,
   "metadata": {
    "execution": {
     "iopub.execute_input": "2021-02-10T19:02:32.578319Z",
     "iopub.status.busy": "2021-02-10T19:02:32.577384Z",
     "iopub.status.idle": "2021-02-10T19:02:32.580412Z",
     "shell.execute_reply": "2021-02-10T19:02:32.579981Z"
    },
    "id": "SeUC0VYImNlQ",
    "papermill": {
     "duration": 0.038965,
     "end_time": "2021-02-10T19:02:32.580543",
     "exception": false,
     "start_time": "2021-02-10T19:02:32.541578",
     "status": "completed"
    },
    "tags": []
   },
   "outputs": [
    {
     "name": "stderr",
     "output_type": "stream",
     "text": [
      "<ipython-input-41-6ac5a639f8f9>:19: RuntimeWarning: overflow encountered in square\n",
      "  loss = ((y_pred-y)**2)/2    #Loss = Squared Error, we introduce 1/2 for ease in the calculation\n",
      "<ipython-input-41-6ac5a639f8f9>:37: RuntimeWarning: overflow encountered in multiply\n",
      "  W[i] -= (alpha * (y_pred-y_true[index])*X[index][i])\n",
      "<ipython-input-41-6ac5a639f8f9>:37: RuntimeWarning: invalid value encountered in subtract\n",
      "  W[i] -= (alpha * (y_pred-y_true[index])*X[index][i])\n",
      "<ipython-input-41-6ac5a639f8f9>:37: RuntimeWarning: invalid value encountered in multiply\n",
      "  W[i] -= (alpha * (y_pred-y_true[index])*X[index][i])\n"
     ]
    }
   ],
   "source": [
    "#Splitting the dataset\n",
    "X_train, y_train, X_test, y_test = split_data(X,y)\n",
    "regressor = MultipleLinearRegression()\n",
    "#Training \n",
    "W_trained, train_loss, num_epochs = regressor.train(X_train, y_train, epochs=2000, alpha=0.0001)\n",
    "#Testing on the Test Dataset\n",
    "test_pred, test_loss = regressor.test(X_test, y_test, W_trained)"
   ]
  },
  {
   "cell_type": "code",
   "execution_count": 43,
   "metadata": {},
   "outputs": [
    {
     "data": {
      "text/plain": [
       "array([[3092.78],\n",
       "       [3039.96],\n",
       "       [3051.11],\n",
       "       [3085.62],\n",
       "       [3117.28],\n",
       "       [3154.6 ],\n",
       "       [3041.73],\n",
       "       [3082.58],\n",
       "       [3085.44],\n",
       "       [3093.46],\n",
       "       [3175.  ]])"
      ]
     },
     "execution_count": 43,
     "metadata": {},
     "output_type": "execute_result"
    }
   ],
   "source": [
    "y_test"
   ]
  },
  {
   "cell_type": "code",
   "execution_count": 44,
   "metadata": {},
   "outputs": [
    {
     "data": {
      "text/plain": [
       "[2285355255.149821,\n",
       " 2249882489.595859,\n",
       " 2262472013.554382,\n",
       " 2280421112.952082,\n",
       " 2301952955.567597,\n",
       " 2330078291.0650716,\n",
       " 2250876998.9304852,\n",
       " 2288274286.0311837,\n",
       " 2286481909.4433923,\n",
       " 2285100703.6350865,\n",
       " 2345130450.744113]"
      ]
     },
     "execution_count": 44,
     "metadata": {},
     "output_type": "execute_result"
    }
   ],
   "source": [
    "test_pred"
   ]
  },
  {
   "cell_type": "code",
   "execution_count": 45,
   "metadata": {},
   "outputs": [],
   "source": [
    "def r2score(y_pred, y):\n",
    "    \"\"\"\n",
    "    Parameters:\n",
    "    y_pred: predicted values\n",
    "    y: actual values\n",
    "    \n",
    "    Returns:\n",
    "    r2: r2 score\n",
    "    \"\"\"\n",
    "    rss = np.sum((y_pred - y) ** 2)\n",
    "    tss = np.sum((y-y.mean()) ** 2)\n",
    "    \n",
    "    r2 = 1 - (rss / tss)\n",
    "    return r2"
   ]
  },
  {
   "cell_type": "code",
   "execution_count": 46,
   "metadata": {},
   "outputs": [
    {
     "data": {
      "text/plain": [
       "-3.4194610825728364e+16"
      ]
     },
     "execution_count": 46,
     "metadata": {},
     "output_type": "execute_result"
    }
   ],
   "source": [
    "r2score(test_pred,y_test)"
   ]
  },
  {
   "cell_type": "markdown",
   "metadata": {
    "id": "LbXBW88kpjmN",
    "papermill": {
     "duration": 0.031636,
     "end_time": "2021-02-10T19:02:33.255798",
     "exception": false,
     "start_time": "2021-02-10T19:02:33.224162",
     "status": "completed"
    },
    "tags": []
   },
   "source": [
    "### Visualizing Results"
   ]
  },
  {
   "cell_type": "code",
   "execution_count": 47,
   "metadata": {
    "execution": {
     "iopub.execute_input": "2021-02-10T19:02:33.343098Z",
     "iopub.status.busy": "2021-02-10T19:02:33.332898Z",
     "iopub.status.idle": "2021-02-10T19:02:33.490102Z",
     "shell.execute_reply": "2021-02-10T19:02:33.490512Z"
    },
    "id": "z80Vq2Y0wZMa",
    "outputId": "26d5062a-38cf-401a-a85d-5e62432049b1",
    "papermill": {
     "duration": 0.203025,
     "end_time": "2021-02-10T19:02:33.490688",
     "exception": false,
     "start_time": "2021-02-10T19:02:33.287663",
     "status": "completed"
    },
    "tags": []
   },
   "outputs": [
    {
     "data": {
      "image/png": "[encoded data removed]",
      "text/plain": [
       "<Figure size 432x288 with 1 Axes>"
      ]
     },
     "metadata": {
      "needs_background": "light"
     },
     "output_type": "display_data"
    }
   ],
   "source": [
    "#Plot the Train Loss\n",
    "regressor.plotLoss(train_loss, num_epochs)"
   ]
  },
  {
   "cell_type": "code",
   "execution_count": null,
   "metadata": {},
   "outputs": [],
   "source": []
  }
 ],
 "metadata": {
  "kernelspec": {
   "display_name": "Python 3",
   "language": "python",
   "name": "python3"
  },
  "language_info": {
   "codemirror_mode": {
    "name": "ipython",
    "version": 3
   },
   "file_extension": ".py",
   "mimetype": "text/x-python",
   "name": "python",
   "nbconvert_exporter": "python",
   "pygments_lexer": "ipython3",
   "version": "3.8.5"
  },
  "papermill": {
   "default_parameters": {},
   "duration": 12.82104,
   "end_time": "2021-02-10T19:02:36.833204",
   "environment_variables": {},
   "exception": null,
   "input_path": "__notebook__.ipynb",
   "output_path": "__notebook__.ipynb",
   "parameters": {},
   "start_time": "2021-02-10T19:02:24.012164",
   "version": "2.2.2"
  }
 },
 "nbformat": 4,
 "nbformat_minor": 4
}
